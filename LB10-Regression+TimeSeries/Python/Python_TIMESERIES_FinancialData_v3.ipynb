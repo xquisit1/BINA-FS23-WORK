{
  "cells": [
    {
      "attachments": {},
      "cell_type": "markdown",
      "metadata": {
        "id": "X87PDSupvj0S"
      },
      "source": [
        "# Time Series with Financial Data\n",
        "\n",
        "Financial analysts use time series data such as stock price movements, or a company’s sales over time, to analyze a company’s performance [see](https://corporatefinanceinstitute.com/resources/data-science/time-series-data-analysis/).\n",
        "\n",
        "Investors can take advantage of new growth investing strategies in order to more precisely hone in on stocks or other investments offering above-average profit potential. When it comes to investing in the stock market, there are always a variety of approaches that can be taken. The goal, however, is generally always the same, regardless of the approach – grow your investments and increase your profits [see](https://corporatefinanceinstitute.com/resources/capital-markets/a-guide-to-growth-investing/)\n",
        "\n",
        "<br>\n",
        "\n",
        "---  \n",
        "Source:  \n",
        "+ [Candle Stick Charts with Plotly](https://plotly.com/python/candlestick-charts/)  \n",
        "+ [Scatter Plot of Financial Data with Plotly](https://plotly.com/python/line-and-scatter/)  \n",
        "+ [Bar Race Charts](https://www.analyticsvidhya.com/blog/2021/07/construct-various-types-of-bar-race-charts-with-plotly/)\n",
        "+ [Feature Engineering Techniques For Time Series Data](https://www.analyticsvidhya.com/blog/2019/12/6-powerful-feature-engineering-techniques-time-series/)\n",
        "+ [Differencing Time Series](https://towardsdatascience.com/an-intuitive-guide-to-differencing-time-series-in-python-1d6c7a2c067a)\n",
        "\n",
        "---  \n",
        "Data ([from Yahoo Finance](https://finance.yahoo.com/)):\n",
        "+ Credit Suisse Stock Market Price (April 2009 - March 2023) -- **DATA-CS.csv**\n",
        "+ UBS Group Stock Market Price (April 2009 - March 2023) -- **DATA-UBS.csv**\n",
        "---  \n",
        "\n",
        "Author: \n",
        "+ dr. daniel benninger  \n",
        "\n",
        "History:  \n",
        "+ 2023-04-06 v2 dbe --- initial version for BINA FS23  \n",
        "---"
      ]
    },
    {
      "attachments": {},
      "cell_type": "markdown",
      "metadata": {
        "id": "MOdKEGA_bQ3N"
      },
      "source": [
        "## Load Libraries and Check Environment"
      ]
    },
    {
      "cell_type": "code",
      "execution_count": null,
      "metadata": {
        "id": "3vtiIkCMb5-5"
      },
      "outputs": [],
      "source": [
        "import pandas as pd\n",
        "from datetime import datetime\n",
        "import plotly.graph_objects as go"
      ]
    },
    {
      "cell_type": "code",
      "execution_count": null,
      "metadata": {
        "colab": {
          "base_uri": "https://localhost:8080/"
        },
        "id": "G6lVrDQ0eYaZ",
        "outputId": "75d7935d-ce77-4963-e939-2caddd922a14"
      },
      "outputs": [],
      "source": [
        "print(pd.__version__)"
      ]
    },
    {
      "cell_type": "code",
      "execution_count": null,
      "metadata": {
        "colab": {
          "base_uri": "https://localhost:8080/"
        },
        "id": "zr-4QVVtcesE",
        "outputId": "51557fad-74b7-4a59-dc45-90bd1211995e"
      },
      "outputs": [],
      "source": [
        "%ls\n",
        "%cd sample_data"
      ]
    },
    {
      "cell_type": "code",
      "execution_count": null,
      "metadata": {
        "id": "6RE8p0pyr10a"
      },
      "outputs": [],
      "source": [
        "import warnings\n",
        "warnings.filterwarnings(\"ignore\")"
      ]
    },
    {
      "attachments": {},
      "cell_type": "markdown",
      "metadata": {
        "id": "9pAnHCB8bbzo"
      },
      "source": [
        "## Load Financial Data and Verify Structure/Format/Values"
      ]
    },
    {
      "cell_type": "code",
      "execution_count": null,
      "metadata": {
        "id": "gIJTC0sq22Ml"
      },
      "outputs": [],
      "source": [
        "# load the financial dataset from the BINA FS23 github repositors\n",
        "path = 'https://raw.githubusercontent.com/sawubona-gmbh/BINA-FS23-WORK/main/LB10-Regression%2BTimeSeries/Python/DATA-CS.csv'\n",
        "data = pd.read_csv(path)\n",
        "\n",
        "# OPTION: load the financial dataset from a local file\n",
        "# data = pd.read_csv('DATA-CS.csv')"
      ]
    },
    {
      "cell_type": "code",
      "execution_count": null,
      "metadata": {
        "colab": {
          "base_uri": "https://localhost:8080/",
          "height": 206
        },
        "id": "cDTi_u88co7T",
        "outputId": "3d20c02d-24bf-4586-e359-bfa8a26c188f"
      },
      "outputs": [],
      "source": [
        "data.head(5)"
      ]
    },
    {
      "cell_type": "code",
      "execution_count": null,
      "metadata": {
        "colab": {
          "base_uri": "https://localhost:8080/"
        },
        "id": "8HYH_iFfhxob",
        "outputId": "16b9d203-37dd-47d6-cc81-63d3a62eff0d"
      },
      "outputs": [],
      "source": [
        "data.info()"
      ]
    },
    {
      "cell_type": "code",
      "execution_count": null,
      "metadata": {
        "colab": {
          "base_uri": "https://localhost:8080/",
          "height": 300
        },
        "id": "j50e3PGUc4ho",
        "outputId": "b918dfdd-2c29-42ef-a8b5-cdcb39c88105"
      },
      "outputs": [],
      "source": [
        "data.describe()"
      ]
    },
    {
      "cell_type": "code",
      "execution_count": null,
      "metadata": {
        "id": "_j0Zokfpib9h"
      },
      "outputs": [],
      "source": [
        "# convert date colume to \"datetime\" format\n",
        "data[[\"Date\"]] = data[[\"Date\"]].apply(pd.to_datetime)"
      ]
    },
    {
      "cell_type": "code",
      "execution_count": null,
      "metadata": {
        "colab": {
          "base_uri": "https://localhost:8080/"
        },
        "id": "Esd3z8TBZbF3",
        "outputId": "faf25522-de28-49bd-c685-2c18fef6b37e"
      },
      "outputs": [],
      "source": [
        "data.info()"
      ]
    },
    {
      "attachments": {},
      "cell_type": "markdown",
      "metadata": {
        "id": "YlB6ZhKO8z17"
      },
      "source": [
        "--- \n",
        "## Select time range and plot time series\n",
        "Select a specific timeframe"
      ]
    },
    {
      "cell_type": "code",
      "execution_count": null,
      "metadata": {
        "id": "2zfzRIB-gAq6"
      },
      "outputs": [],
      "source": [
        "df= data[(data['Date'] > \"2019-01-01\") & (data['Date'] < \"2023-01-01\")]\n",
        "# df= data[(data['Date'] > \"2018-01-01\")]"
      ]
    },
    {
      "attachments": {},
      "cell_type": "markdown",
      "metadata": {
        "id": "cpsbxBGSZntr"
      },
      "source": [
        "and plot the financial time series OHLC as **candlesticks** using *plotly.graph_objects*"
      ]
    },
    {
      "cell_type": "code",
      "execution_count": null,
      "metadata": {
        "colab": {
          "base_uri": "https://localhost:8080/",
          "height": 617
        },
        "id": "kdGQANLQcRiw",
        "outputId": "3ced6ae9-b5e3-4ca0-a9c6-e76c6b7d5a86"
      },
      "outputs": [],
      "source": [
        "fig = go.Figure(data=[go.Candlestick(x=df['Date'],\n",
        "                open=df['Open'],\n",
        "                high=df['High'],\n",
        "                low=df['Low'],\n",
        "                close=df['Close'])])\n",
        "\n",
        "fig.update_layout(\n",
        "    title=\"Finance Institutes - Stock Market Price <br><sup>CREDIT SUISSE</sup>\",\n",
        "    yaxis_title='US$',\n",
        "        width=1000, height=600,\n",
        "    yaxis_range = (0,25))\n",
        "    \n",
        "\n",
        "fig.show()"
      ]
    },
    {
      "attachments": {},
      "cell_type": "markdown",
      "metadata": {
        "id": "b2OAV0hkb0rh"
      },
      "source": [
        "## Some Feature Engineering Techniques applied to Financial Time Series Data"
      ]
    },
    {
      "attachments": {},
      "cell_type": "markdown",
      "metadata": {
        "id": "aQeFr924cHQb"
      },
      "source": [
        "### **Date-Related** Features   \n",
        "Information about the day, month, year e.g. *day of the week*, *quarter*, *day/week of year* etc. "
      ]
    },
    {
      "cell_type": "code",
      "execution_count": null,
      "metadata": {
        "colab": {
          "base_uri": "https://localhost:8080/",
          "height": 447
        },
        "id": "Rpe3TAOKcqNf",
        "outputId": "539b0425-4457-44e7-f88a-0b1f5b78bce0"
      },
      "outputs": [],
      "source": [
        "data['year']=data['Date'].dt.year \n",
        "data['month']=data['Date'].dt.month \n",
        "data['day']=data['Date'].dt.day\n",
        "\n",
        "data['dayofweek_num']=data['Date'].dt.dayofweek  \n",
        "data['dayofyear_num']=data['Date'].dt.dayofyear \n",
        "data['weekofyear_num']=data['Date'].dt.week\n",
        "data['quarter_num']=data['Date'].dt.quarter\n",
        "data['daysinmonth_num']=data['Date'].dt.days_in_month\n",
        "\n",
        "data.head()"
      ]
    },
    {
      "attachments": {},
      "cell_type": "markdown",
      "metadata": {
        "id": "mqYWwye6h3RP"
      },
      "source": [
        "---  \n",
        "### **Lag-Related** Features  \n",
        "If we like predicting the stock price for a company. So, the previous day’s stock price is important to make a prediction. In other words, the value at time t is greatly affected by the value at time t-1. The past values are known as lags, so t-1 is lag 1, t-2 is lag 2, and so on."
      ]
    },
    {
      "cell_type": "code",
      "execution_count": null,
      "metadata": {
        "colab": {
          "base_uri": "https://localhost:8080/",
          "height": 206
        },
        "id": "Ho0jFP5PibE1",
        "outputId": "156cf392-3088-4c95-de76-c5eb76a6f338"
      },
      "outputs": [],
      "source": [
        "data['lag_1'] = data['Close'].shift(1)\n",
        "\n",
        "dataX = data[['Date', 'lag_1', 'Close']]\n",
        "dataX.head()"
      ]
    },
    {
      "cell_type": "code",
      "execution_count": null,
      "metadata": {
        "colab": {
          "base_uri": "https://localhost:8080/",
          "height": 351
        },
        "id": "JPB2sNB1nm6R",
        "outputId": "43ce8a00-d1c8-430a-b727-ff6ebb6c6c15"
      },
      "outputs": [],
      "source": [
        "dataX['performance_1']=dataX['Close']-dataX['lag_1']\n",
        "\n",
        "dataX.head()"
      ]
    },
    {
      "attachments": {},
      "cell_type": "markdown",
      "metadata": {
        "id": "OpmdO3qMouy9"
      },
      "source": [
        "If the series has a weekly trend, which means the value last Monday can be used to predict the value for this Monday, we should create lag features for seven days. \n",
        "\n",
        "We can create multiple lag features as well! Let’s say we want lag 1 to lag 7 – we can let the model decide which is the most valuable one. So, if we train a linear regression model, it will assign appropriate weights (or coefficients) to the lag features"
      ]
    },
    {
      "cell_type": "code",
      "execution_count": null,
      "metadata": {
        "colab": {
          "base_uri": "https://localhost:8080/",
          "height": 363
        },
        "id": "mUpByKb-oTmL",
        "outputId": "f54be6d4-d86e-46cd-dfe4-5b72831973ce"
      },
      "outputs": [],
      "source": [
        "data['lag_1'] = data['Close'].shift(1)\n",
        "data['lag_2'] = data['Close'].shift(2)\n",
        "data['lag_3'] = data['Close'].shift(3)\n",
        "data['lag_4'] = data['Close'].shift(4)\n",
        "data['lag_5'] = data['Close'].shift(5)\n",
        "data['lag_6'] = data['Close'].shift(6)\n",
        "data['lag_7'] = data['Close'].shift(7)\n",
        "\n",
        "dataX = data[['Date', 'lag_1', 'lag_2', 'lag_3', 'lag_4', 'lag_5', 'lag_6', 'lag_7', 'Close']]\n",
        "dataX.head(10)"
      ]
    },
    {
      "attachments": {},
      "cell_type": "markdown",
      "metadata": {
        "id": "JGyYzkFQpMID"
      },
      "source": [
        "---  \n",
        "### **Rolling Window** Features  \n",
        "How about calculating some statistical values based on past values? This method is called the rolling window method because the window would be different for every data point.  \n",
        "\n",
        "We will select a window size, take the average of the values in the window, and use it as a feature."
      ]
    },
    {
      "cell_type": "code",
      "execution_count": null,
      "metadata": {
        "colab": {
          "base_uri": "https://localhost:8080/",
          "height": 363
        },
        "id": "5Onpi192prXO",
        "outputId": "42f35003-e0de-4ef4-fcf9-0b037f8c7256"
      },
      "outputs": [],
      "source": [
        "data['rolling_mean7'] = data['Close'].rolling(window=7).mean()\n",
        "\n",
        "dataX = data[['Date', 'rolling_mean7', 'Close']]\n",
        "dataX.head(10)"
      ]
    },
    {
      "cell_type": "code",
      "execution_count": null,
      "metadata": {
        "colab": {
          "base_uri": "https://localhost:8080/",
          "height": 617
        },
        "id": "jHdsemAqq-6e",
        "outputId": "712b4d32-3759-4081-82b2-efeb5ea61ed4"
      },
      "outputs": [],
      "source": [
        "import plotly.express as px\n",
        "df= dataX[(dataX['Date'] > \"2019-01-01\") & (dataX['Date'] < \"2019-12-31\")]\n",
        "#df.info()\n",
        "\n",
        "# Create Line plot\n",
        "fig = px.line(df, x=df['Date'], y=['Close', 'rolling_mean7'])\n",
        "\n",
        "\n",
        "# Setup Layout\n",
        "fig.update_layout(\n",
        "    title=\"Finance Institutes - Stock Market Price with Rolling Means <br><sup>CREDIT SUISSE</sup>\",\n",
        "    legend_title=\"Data Points\",\n",
        "    yaxis_title='US$',\n",
        "    width=1000, height=600,\n",
        "    yaxis_range = (10,15))\n",
        "\n",
        "# Display the plot\n",
        "fig.show()"
      ]
    },
    {
      "cell_type": "code",
      "execution_count": null,
      "metadata": {
        "colab": {
          "base_uri": "https://localhost:8080/",
          "height": 833
        },
        "id": "mCncWJDGxmi2",
        "outputId": "8aafd459-ee7e-40fb-fcb8-0b8413489d8d"
      },
      "outputs": [],
      "source": [
        "data['rolling_mean20'] = data['Close'].rolling(window=20).mean()\n",
        "data['rolling_mean60'] = data['Close'].rolling(window=60).mean()\n",
        "\n",
        "dataY = data[['Date', 'Close','rolling_mean20','rolling_mean60',]]\n",
        "dataY.head(25)"
      ]
    },
    {
      "cell_type": "code",
      "execution_count": null,
      "metadata": {
        "colab": {
          "base_uri": "https://localhost:8080/",
          "height": 617
        },
        "id": "MP_QKUg2ycCh",
        "outputId": "dfb8601b-d4a3-4529-ec7a-1a0cb44b8fa0"
      },
      "outputs": [],
      "source": [
        "import plotly.express as px\n",
        "df= dataY[(dataY['Date'] > \"2019-01-01\") & (dataY['Date'] < \"2019-12-31\")]\n",
        "#df.info()\n",
        "\n",
        "# Create Line plot\n",
        "fig = px.line(df, x=df['Date'], y=['Close', 'rolling_mean20','rolling_mean60'])\n",
        "\n",
        "\n",
        "# Setup Layout\n",
        "fig.update_layout(\n",
        "    title=\"Finance Institutes - Stock Market Price with Rolling Means <br><sup>CREDIT SUISSE</sup>\",\n",
        "    legend_title=\"Data Points\",\n",
        "    yaxis_title='US$',\n",
        "    width=1000, height=600,\n",
        "    yaxis_range = (10,15))\n",
        "\n",
        "# Display the plot\n",
        "fig.show()"
      ]
    },
    {
      "attachments": {},
      "cell_type": "markdown",
      "metadata": {
        "id": "Z14NNUMZ9aky"
      },
      "source": [
        "---  \n",
        "### **Differencing** Time Series\n",
        "Differencing is a method of transforming a time series dataset. Differencing is performed by subtracting the previous observation from the current observation.  \n",
        "\n",
        "Differencing can help stabilize the mean of the time series by removing changes in the level of a time series, and so eliminating (or reducing) trend and seasonality. "
      ]
    },
    {
      "cell_type": "code",
      "execution_count": null,
      "metadata": {
        "colab": {
          "base_uri": "https://localhost:8080/",
          "height": 351
        },
        "id": "uBHCJZn-ARmR",
        "outputId": "62f103b4-f645-4c81-94d1-a518d78c3998"
      },
      "outputs": [],
      "source": [
        "dataZ = data[['Date', 'Close']]\n",
        "dataZ['diff1'] = dataZ['Close'].diff(periods=1)\n",
        "\n",
        "dataZ.head()"
      ]
    },
    {
      "cell_type": "code",
      "execution_count": null,
      "metadata": {
        "colab": {
          "base_uri": "https://localhost:8080/",
          "height": 653
        },
        "id": "dZnrw2vtBE7r",
        "outputId": "209d1cb7-d1b9-4143-e1a9-d6f6111549d6"
      },
      "outputs": [],
      "source": [
        "dataZ['diff2'] = dataZ['Close'].diff(periods=2)\n",
        "dataZ['diff5'] = dataZ['Close'].diff(periods=5)\n",
        "\n",
        "dataZ.head(10)"
      ]
    },
    {
      "cell_type": "code",
      "execution_count": null,
      "metadata": {
        "colab": {
          "base_uri": "https://localhost:8080/",
          "height": 617
        },
        "id": "VNQ6THcFBeC8",
        "outputId": "823d4ebb-e943-4dbe-9fe0-28dcaca5f0dc"
      },
      "outputs": [],
      "source": [
        "import plotly.express as px\n",
        "df= dataZ[(dataZ['Date'] > \"2019-01-01\") & (dataZ['Date'] < \"2019-12-31\")]\n",
        "\n",
        "# Create Line plot\n",
        "fig = px.line(df, x=df['Date'], y=['Close', 'diff1','diff5'])\n",
        "\n",
        "\n",
        "# Setup Layout\n",
        "fig.update_layout(\n",
        "    title=\"Finance Institutes - Stock Market Price with Differencing <br><sup>CREDIT SUISSE</sup>\",\n",
        "    legend_title=\"Data Points\",\n",
        "    yaxis_title='US$',\n",
        "    width=1000, height=600,\n",
        "    yaxis_range = (-15,15))\n",
        "\n",
        "# Display the plot\n",
        "fig.show()"
      ]
    },
    {
      "attachments": {},
      "cell_type": "markdown",
      "metadata": {
        "id": "iQiuaMgh_OcN"
      },
      "source": [
        "---  \n",
        "### **ADD ON:** Line or Bar Charts for Time Series?\n"
      ]
    },
    {
      "cell_type": "code",
      "execution_count": null,
      "metadata": {
        "colab": {
          "base_uri": "https://localhost:8080/",
          "height": 567
        },
        "id": "wvKkGwEv6ABI",
        "outputId": "1248a465-01a2-489d-a09e-41fc77e35372"
      },
      "outputs": [],
      "source": [
        "dataZ = data[['Date', 'Close']]\n",
        "dataZ.info()\n",
        "data.head()"
      ]
    },
    {
      "cell_type": "code",
      "execution_count": null,
      "metadata": {
        "colab": {
          "base_uri": "https://localhost:8080/",
          "height": 776
        },
        "id": "ZXjOfajd9zNr",
        "outputId": "06724a52-65c5-4a5f-830d-c6bbda0762aa"
      },
      "outputs": [],
      "source": [
        "import matplotlib.pyplot as plt\n",
        "\n",
        "dataZ = data[['Date', 'Close']]\n",
        "\n",
        "plt.figure(figsize=(10, 8))\n",
        "# as LINE chart\n",
        "plt.plot(dataZ.Date, dataZ.Close)\n",
        "# as BAR chart\n",
        "#plt.bar(dataZ.Date, dataZ.Close)\n",
        "\n",
        "plt.suptitle(\"Finance Institutes - Stock Market Price Daily CLOSING\")\n",
        "plt.title(\"CREDIT SUISSE\")\n",
        "plt.xlabel('Date')\n",
        "plt.ylabel('US$')\n",
        "\n",
        "plt.show()"
      ]
    },
    {
      "attachments": {},
      "cell_type": "markdown",
      "metadata": {
        "id": "k6iW2BZQ5NzF"
      },
      "source": [
        "---   \n",
        "### **ADD ON:** Visualizing time series data in [Heatmap](https://www.analyticsvidhya.com/blog/2021/02/visualization-in-time-series-using-heatmaps-in-python/) form\n"
      ]
    },
    {
      "cell_type": "code",
      "execution_count": null,
      "metadata": {
        "colab": {
          "base_uri": "https://localhost:8080/"
        },
        "id": "82nAfDQiOgVp",
        "outputId": "d24dcd89-35d4-4198-f9c1-a822d4a15c50"
      },
      "outputs": [],
      "source": [
        "#!pip install calplot"
      ]
    },
    {
      "cell_type": "code",
      "execution_count": null,
      "metadata": {
        "colab": {
          "base_uri": "https://localhost:8080/",
          "height": 206
        },
        "id": "IYhDKHMXOj8u",
        "outputId": "3210cb97-ea12-48e9-fdc3-81d33a89b42f"
      },
      "outputs": [],
      "source": [
        "dataZ = data[['Date','Close']]\n",
        "df= dataZ[(dataZ['Date'] > \"2019-01-01\") & (dataZ['Date'] < \"2022-01-01\")]\n",
        "df.head()"
      ]
    },
    {
      "cell_type": "code",
      "execution_count": null,
      "metadata": {
        "colab": {
          "base_uri": "https://localhost:8080/"
        },
        "id": "qR6OaIQ8P3Hi",
        "outputId": "2ae2b3af-262e-4141-cc13-df2cc4c0ecb5"
      },
      "outputs": [],
      "source": [
        "df.info()"
      ]
    },
    {
      "cell_type": "code",
      "execution_count": null,
      "metadata": {
        "colab": {
          "base_uri": "https://localhost:8080/"
        },
        "id": "IIUMRE-TPnjK",
        "outputId": "e7631723-b9b7-4c35-c372-97e0cdce580f"
      },
      "outputs": [],
      "source": [
        "df['Date'] = pd.to_datetime(df['Date'])\n",
        "df.set_index('Date', inplace = True)\n",
        "df.info()"
      ]
    },
    {
      "cell_type": "code",
      "execution_count": null,
      "metadata": {
        "colab": {
          "base_uri": "https://localhost:8080/",
          "height": 857
        },
        "id": "Kwgsm4ukPHQa",
        "outputId": "c0d8fd70-ff92-4c8f-9f53-69040c2c2206"
      },
      "outputs": [],
      "source": [
        "import calplot\n",
        "fig1 = calplot.calplot(data = df['Close'], \n",
        "                       cmap = 'jet', \n",
        "                       figsize = (10, 5), \n",
        "                       suptitle = \"CREDIT SUISSE - Closing per Day\",\n",
        "                       )\n",
        "\n",
        "import pylab\n",
        "pylab.savefig('cs-heatmap.png')"
      ]
    },
    {
      "attachments": {},
      "cell_type": "markdown",
      "metadata": {
        "id": "4qngfq_DOPb2"
      },
      "source": [
        "\n",
        "\n",
        "---\n",
        "\n"
      ]
    },
    {
      "attachments": {},
      "cell_type": "markdown",
      "metadata": {
        "id": "1XZ-cuIt_ffH"
      },
      "source": [
        "---  \n",
        "### **ADD ON:** Systematic Feature Engineering with [tsfresh](https://tsfresh.readthedocs.io/en/latest/text/introduction.html)  \n",
        "**tsfresh** is used for systematic feature engineering from time-series and other sequential data. These data have in common that they are ordered by an independent variable. The most common independent variable is time (time series).  \n",
        "If we want to calculate different characteristics of time series such as the maximum or minimum, the average or the number of temporary peaks, without tsfresh, we have to calculate all those characteristics manually.  \n",
        "tsfresh automates this process calculating and returning all those features automatically."
      ]
    },
    {
      "cell_type": "code",
      "execution_count": null,
      "metadata": {
        "colab": {
          "base_uri": "https://localhost:8080/"
        },
        "id": "qHEeRqSWj_vh",
        "outputId": "9664c766-2eeb-498a-fb2f-60d01cb3065c"
      },
      "outputs": [],
      "source": [
        "#!pip install -U tsfresh"
      ]
    },
    {
      "cell_type": "code",
      "execution_count": null,
      "metadata": {
        "colab": {
          "base_uri": "https://localhost:8080/",
          "height": 206
        },
        "id": "2dyr1ut1lX7O",
        "outputId": "7eda5225-4060-41b1-ddd0-a0f8e6695add"
      },
      "outputs": [],
      "source": [
        "dataZ = data[['Date','Open','High','Low','Close','Volume','year','month','day']]\n",
        "dataZ.head()"
      ]
    },
    {
      "cell_type": "code",
      "execution_count": null,
      "metadata": {
        "colab": {
          "base_uri": "https://localhost:8080/",
          "height": 431
        },
        "id": "nwq3GwHfj4ss",
        "outputId": "00f046ba-bfd0-4fd7-c494-43d3a37cbadc"
      },
      "outputs": [],
      "source": [
        "# settings for feature extraction\n",
        "from tsfresh.feature_extraction import ComprehensiveFCParameters\n",
        "settings = ComprehensiveFCParameters()\n",
        "# e.g. \n",
        "kind_to_fc_parameters = {\n",
        "    \"Open\": {\"mean\": None},\n",
        "    \"Close\": {\"maximum\": None, \"minimum\": None}\n",
        "}\n",
        "\n",
        "# automated feature extraction\n",
        "from tsfresh.feature_extraction import extract_features\n",
        "features = extract_features(dataZ, column_id=\"Date\", column_sort=\"Date\", default_fc_parameters=settings)\n",
        "\n",
        "#features = extract_features(dataZ, column_id=\"Date\", column_sort=\"Date\")"
      ]
    },
    {
      "cell_type": "code",
      "execution_count": null,
      "metadata": {
        "id": "GPfoVpwhqEoM"
      },
      "outputs": [],
      "source": [
        "features.info()"
      ]
    },
    {
      "cell_type": "code",
      "execution_count": null,
      "metadata": {
        "id": "yyCOIVS5DEPw"
      },
      "outputs": [],
      "source": [
        "features.head()"
      ]
    },
    {
      "cell_type": "code",
      "execution_count": null,
      "metadata": {
        "id": "94zxCUFm7dCT"
      },
      "outputs": [],
      "source": [
        "features.describe()"
      ]
    },
    {
      "attachments": {},
      "cell_type": "markdown",
      "metadata": {
        "id": "Ql_MBIxnj4br"
      },
      "source": []
    }
  ],
  "metadata": {
    "colab": {
      "provenance": []
    },
    "kernelspec": {
      "display_name": "Python 3",
      "name": "python3"
    },
    "language_info": {
      "codemirror_mode": {
        "name": "ipython",
        "version": 3
      },
      "file_extension": ".py",
      "mimetype": "text/x-python",
      "name": "python",
      "nbconvert_exporter": "python",
      "pygments_lexer": "ipython3",
      "version": "3.10.11"
    }
  },
  "nbformat": 4,
  "nbformat_minor": 0
}
