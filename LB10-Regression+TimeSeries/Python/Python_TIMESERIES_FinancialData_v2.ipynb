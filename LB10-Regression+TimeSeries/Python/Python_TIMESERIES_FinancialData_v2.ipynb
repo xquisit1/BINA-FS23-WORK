{
  "cells": [
    {
      "cell_type": "markdown",
      "metadata": {
        "id": "X87PDSupvj0S"
      },
      "source": [
        "# Time Series with Financial Data\n",
        "\n",
        "Financial analysts use time series data such as stock price movements, or a company’s sales over time, to analyze a company’s performance [see](https://corporatefinanceinstitute.com/resources/data-science/time-series-data-analysis/).\n",
        "\n",
        "Investors can take advantage of new growth investing strategies in order to more precisely hone in on stocks or other investments offering above-average profit potential. When it comes to investing in the stock market, there are always a variety of approaches that can be taken. The goal, however, is generally always the same, regardless of the approach – grow your investments and increase your profits [see](https://corporatefinanceinstitute.com/resources/capital-markets/a-guide-to-growth-investing/)\n",
        "\n",
        "<br>\n",
        "\n",
        "---  \n",
        "Source:  \n",
        "+ [Candle Stick Charts with Plotly](https://plotly.com/python/candlestick-charts/)  \n",
        "+ [Scatter Plot of Financial Data with Plotly](https://plotly.com/python/line-and-scatter/)  \n",
        "+ [Bar Race Charts](https://www.analyticsvidhya.com/blog/2021/07/construct-various-types-of-bar-race-charts-with-plotly/)\n",
        "+ [Feature Engineering Techniques For Time Series Data](https://www.analyticsvidhya.com/blog/2019/12/6-powerful-feature-engineering-techniques-time-series/)\n",
        "+ [Differencing Time Series](https://towardsdatascience.com/an-intuitive-guide-to-differencing-time-series-in-python-1d6c7a2c067a)\n",
        "\n",
        "---  \n",
        "Data ([from Yahoo Finance](https://finance.yahoo.com/)):\n",
        "+ Credit Suisse Stock Market Price (April 2009 - March 2023) -- **DATA-CS.csv**\n",
        "+ UBS Group Stock Market Price (April 2009 - March 2023) -- **DATA-UBS.csv**\n",
        "---  \n",
        "\n",
        "Author: \n",
        "+ dr. daniel benninger  \n",
        "\n",
        "History:  \n",
        "+ 2023-04-06 v2 dbe --- initial version for BINA FS23  \n",
        "---"
      ]
    },
    {
      "cell_type": "markdown",
      "metadata": {
        "id": "MOdKEGA_bQ3N"
      },
      "source": [
        "## Load Libraries and Check Environment"
      ]
    },
    {
      "cell_type": "code",
      "execution_count": 55,
      "metadata": {
        "id": "3vtiIkCMb5-5"
      },
      "outputs": [],
      "source": [
        "import pandas as pd\n",
        "from datetime import datetime\n",
        "import plotly.graph_objects as go"
      ]
    },
    {
      "cell_type": "code",
      "execution_count": 56,
      "metadata": {
        "colab": {
          "base_uri": "https://localhost:8080/"
        },
        "id": "G6lVrDQ0eYaZ",
        "outputId": "801b25dc-b3a1-4514-be08-b98a948d4ed3"
      },
      "outputs": [
        {
          "name": "stdout",
          "output_type": "stream",
          "text": [
            "1.5.3\n"
          ]
        }
      ],
      "source": [
        "print(pd.__version__)"
      ]
    },
    {
      "cell_type": "code",
      "execution_count": 57,
      "metadata": {
        "colab": {
          "base_uri": "https://localhost:8080/"
        },
        "id": "zr-4QVVtcesE",
        "outputId": "39fd0a22-2767-4df4-8282-2d51869a7006"
      },
      "outputs": [
        {
          "name": "stdout",
          "output_type": "stream",
          "text": [
            " Volume in Laufwerk C: hat keine Bezeichnung.\n",
            " Volumeseriennummer: B4FE-D77A\n",
            "\n",
            " Verzeichnis von c:\\Users\\MarcoReinle\\Documents\\GitHub\\BINA-FS23-WORK\\LB10-Regression+TimeSeries\\Python\n",
            "\n",
            "23.04.2023  12:29    <DIR>          .\n",
            "23.04.2023  12:29    <DIR>          ..\n",
            "24.04.2023  09:34            53'507 CS-heatmap.png\n",
            "23.04.2023  12:29            54'809 CS-heatmap1.png\n",
            "23.04.2023  12:29            70'080 cs-heatmap2.png\n",
            "23.04.2023  12:29             1'889 DATA_AirPassengers.csv\n",
            "23.04.2023  12:29           410'344 DATA_Wage.csv\n",
            "23.04.2023  12:29             4'756 DATA_Werbung.csv\n",
            "23.04.2023  12:29           244'223 DATA-CS.csv\n",
            "23.04.2023  12:29           246'018 DATA-UBS.csv\n",
            "23.04.2023  12:29           434'930 Python_Linear_REGRESSION_Advertising_v1.ipynb\n",
            "23.04.2023  12:29           524'111 Python_Regression_SPLINES_v2.ipynb\n",
            "23.04.2023  12:29         1'457'433 Python_TIMESERIES_AirPassengers_v3.ipynb\n",
            "23.04.2023  12:29           399'911 Python_TIMESERIES_AirPassengers_withDarts.ipynb\n",
            "24.04.2023  10:13           552'220 Python_TIMESERIES_FinancialData_v2.ipynb\n",
            "23.04.2023  12:29           516'450 Python_TIMESERIES_FinancialData_v3.ipynb\n",
            "23.04.2023  12:29             4'385 readme.md\n",
            "23.04.2023  12:29           890'758 TIMESERIES_FinancialData-v3.ipynb - Colaboratory.pdf\n",
            "23.04.2023  12:29           533'056 Tradeview-ETHEREUM-2_18-04-2023.jpg\n",
            "23.04.2023  12:29           435'776 Yahoo-CREDIT SUISSE_21-04-_2023.jpg\n",
            "              18 Datei(en),      6'834'656 Bytes\n",
            "               2 Verzeichnis(se), 366'903'615'488 Bytes frei\n",
            "[WinError 2] Das System kann die angegebene Datei nicht finden: 'sample_data'\n",
            "c:\\Users\\MarcoReinle\\Documents\\GitHub\\BINA-FS23-WORK\\LB10-Regression+TimeSeries\\Python\n"
          ]
        }
      ],
      "source": [
        "%ls\n",
        "%cd sample_data"
      ]
    },
    {
      "cell_type": "markdown",
      "metadata": {
        "id": "9pAnHCB8bbzo"
      },
      "source": [
        "## Load Financial Data and Verify Structure/Format/Values"
      ]
    },
    {
      "cell_type": "code",
      "execution_count": 58,
      "metadata": {
        "id": "gIJTC0sq22Ml"
      },
      "outputs": [],
      "source": [
        "# load the financial dataset from the BINA FS23 github repositors\n",
        "path = 'https://raw.githubusercontent.com/sawubona-gmbh/BINA-FS23-WORK/main/LB10-Regression%2BTimeSeries/Python/DATA-CS.csv'\n",
        "data = pd.read_csv(path)\n",
        "\n",
        "# OPTION: load the financial dataset from a local file\n",
        "# data = pd.read_csv('DATA-CS.csv')"
      ]
    },
    {
      "cell_type": "code",
      "execution_count": 59,
      "metadata": {
        "colab": {
          "base_uri": "https://localhost:8080/",
          "height": 206
        },
        "id": "cDTi_u88co7T",
        "outputId": "27914969-f2dc-467e-c3da-e9621a105589"
      },
      "outputs": [
        {
          "data": {
            "text/html": [
              "<div>\n",
              "<style scoped>\n",
              "    .dataframe tbody tr th:only-of-type {\n",
              "        vertical-align: middle;\n",
              "    }\n",
              "\n",
              "    .dataframe tbody tr th {\n",
              "        vertical-align: top;\n",
              "    }\n",
              "\n",
              "    .dataframe thead th {\n",
              "        text-align: right;\n",
              "    }\n",
              "</style>\n",
              "<table border=\"1\" class=\"dataframe\">\n",
              "  <thead>\n",
              "    <tr style=\"text-align: right;\">\n",
              "      <th></th>\n",
              "      <th>Date</th>\n",
              "      <th>Open</th>\n",
              "      <th>High</th>\n",
              "      <th>Low</th>\n",
              "      <th>Close</th>\n",
              "      <th>Adj Close</th>\n",
              "      <th>Volume</th>\n",
              "    </tr>\n",
              "  </thead>\n",
              "  <tbody>\n",
              "    <tr>\n",
              "      <th>0</th>\n",
              "      <td>2009-04-06</td>\n",
              "      <td>29.658203</td>\n",
              "      <td>30.937500</td>\n",
              "      <td>29.541016</td>\n",
              "      <td>30.703125</td>\n",
              "      <td>20.256773</td>\n",
              "      <td>3253043</td>\n",
              "    </tr>\n",
              "    <tr>\n",
              "      <th>1</th>\n",
              "      <td>2009-04-07</td>\n",
              "      <td>29.482422</td>\n",
              "      <td>29.960938</td>\n",
              "      <td>29.072266</td>\n",
              "      <td>29.482422</td>\n",
              "      <td>19.451399</td>\n",
              "      <td>1795584</td>\n",
              "    </tr>\n",
              "    <tr>\n",
              "      <th>2</th>\n",
              "      <td>2009-04-08</td>\n",
              "      <td>30.361328</td>\n",
              "      <td>30.908203</td>\n",
              "      <td>29.746094</td>\n",
              "      <td>30.644531</td>\n",
              "      <td>20.218113</td>\n",
              "      <td>1202688</td>\n",
              "    </tr>\n",
              "    <tr>\n",
              "      <th>3</th>\n",
              "      <td>2009-04-09</td>\n",
              "      <td>31.240234</td>\n",
              "      <td>33.027344</td>\n",
              "      <td>31.025391</td>\n",
              "      <td>32.841797</td>\n",
              "      <td>21.667789</td>\n",
              "      <td>2358579</td>\n",
              "    </tr>\n",
              "    <tr>\n",
              "      <th>4</th>\n",
              "      <td>2009-04-13</td>\n",
              "      <td>32.470703</td>\n",
              "      <td>34.423828</td>\n",
              "      <td>32.285156</td>\n",
              "      <td>33.974609</td>\n",
              "      <td>22.415174</td>\n",
              "      <td>1897062</td>\n",
              "    </tr>\n",
              "  </tbody>\n",
              "</table>\n",
              "</div>"
            ],
            "text/plain": [
              "         Date       Open       High        Low      Close  Adj Close   Volume\n",
              "0  2009-04-06  29.658203  30.937500  29.541016  30.703125  20.256773  3253043\n",
              "1  2009-04-07  29.482422  29.960938  29.072266  29.482422  19.451399  1795584\n",
              "2  2009-04-08  30.361328  30.908203  29.746094  30.644531  20.218113  1202688\n",
              "3  2009-04-09  31.240234  33.027344  31.025391  32.841797  21.667789  2358579\n",
              "4  2009-04-13  32.470703  34.423828  32.285156  33.974609  22.415174  1897062"
            ]
          },
          "execution_count": 59,
          "metadata": {},
          "output_type": "execute_result"
        }
      ],
      "source": [
        "data.head(5)"
      ]
    },
    {
      "cell_type": "code",
      "execution_count": 60,
      "metadata": {
        "colab": {
          "base_uri": "https://localhost:8080/"
        },
        "id": "8HYH_iFfhxob",
        "outputId": "f26a7c57-fb1b-4218-c9fe-ed607f0b0d36"
      },
      "outputs": [
        {
          "name": "stdout",
          "output_type": "stream",
          "text": [
            "<class 'pandas.core.frame.DataFrame'>\n",
            "RangeIndex: 3524 entries, 0 to 3523\n",
            "Data columns (total 7 columns):\n",
            " #   Column     Non-Null Count  Dtype  \n",
            "---  ------     --------------  -----  \n",
            " 0   Date       3524 non-null   object \n",
            " 1   Open       3524 non-null   float64\n",
            " 2   High       3524 non-null   float64\n",
            " 3   Low        3524 non-null   float64\n",
            " 4   Close      3524 non-null   float64\n",
            " 5   Adj Close  3524 non-null   float64\n",
            " 6   Volume     3524 non-null   int64  \n",
            "dtypes: float64(5), int64(1), object(1)\n",
            "memory usage: 192.8+ KB\n"
          ]
        }
      ],
      "source": [
        "data.info()"
      ]
    },
    {
      "cell_type": "code",
      "execution_count": 61,
      "metadata": {
        "colab": {
          "base_uri": "https://localhost:8080/",
          "height": 300
        },
        "id": "j50e3PGUc4ho",
        "outputId": "ddd3f197-baa5-42fb-ff55-a8cc46c9a4f3"
      },
      "outputs": [
        {
          "data": {
            "text/html": [
              "<div>\n",
              "<style scoped>\n",
              "    .dataframe tbody tr th:only-of-type {\n",
              "        vertical-align: middle;\n",
              "    }\n",
              "\n",
              "    .dataframe tbody tr th {\n",
              "        vertical-align: top;\n",
              "    }\n",
              "\n",
              "    .dataframe thead th {\n",
              "        text-align: right;\n",
              "    }\n",
              "</style>\n",
              "<table border=\"1\" class=\"dataframe\">\n",
              "  <thead>\n",
              "    <tr style=\"text-align: right;\">\n",
              "      <th></th>\n",
              "      <th>Open</th>\n",
              "      <th>High</th>\n",
              "      <th>Low</th>\n",
              "      <th>Close</th>\n",
              "      <th>Adj Close</th>\n",
              "      <th>Volume</th>\n",
              "    </tr>\n",
              "  </thead>\n",
              "  <tbody>\n",
              "    <tr>\n",
              "      <th>count</th>\n",
              "      <td>3524.000000</td>\n",
              "      <td>3524.000000</td>\n",
              "      <td>3524.000000</td>\n",
              "      <td>3524.000000</td>\n",
              "      <td>3524.000000</td>\n",
              "      <td>3.524000e+03</td>\n",
              "    </tr>\n",
              "    <tr>\n",
              "      <th>mean</th>\n",
              "      <td>21.714721</td>\n",
              "      <td>21.902277</td>\n",
              "      <td>21.504521</td>\n",
              "      <td>21.708342</td>\n",
              "      <td>16.745795</td>\n",
              "      <td>4.267032e+06</td>\n",
              "    </tr>\n",
              "    <tr>\n",
              "      <th>std</th>\n",
              "      <td>12.494230</td>\n",
              "      <td>12.609161</td>\n",
              "      <td>12.356681</td>\n",
              "      <td>12.490288</td>\n",
              "      <td>7.632176</td>\n",
              "      <td>1.254198e+07</td>\n",
              "    </tr>\n",
              "    <tr>\n",
              "      <th>min</th>\n",
              "      <td>0.820000</td>\n",
              "      <td>0.860000</td>\n",
              "      <td>0.820000</td>\n",
              "      <td>0.850000</td>\n",
              "      <td>0.850000</td>\n",
              "      <td>1.301500e+05</td>\n",
              "    </tr>\n",
              "    <tr>\n",
              "      <th>25%</th>\n",
              "      <td>12.090000</td>\n",
              "      <td>12.190000</td>\n",
              "      <td>12.020000</td>\n",
              "      <td>12.097500</td>\n",
              "      <td>11.051464</td>\n",
              "      <td>1.283234e+06</td>\n",
              "    </tr>\n",
              "    <tr>\n",
              "      <th>50%</th>\n",
              "      <td>17.231445</td>\n",
              "      <td>17.440703</td>\n",
              "      <td>17.124454</td>\n",
              "      <td>17.302578</td>\n",
              "      <td>14.742901</td>\n",
              "      <td>2.185800e+06</td>\n",
              "    </tr>\n",
              "    <tr>\n",
              "      <th>75%</th>\n",
              "      <td>28.840000</td>\n",
              "      <td>28.992500</td>\n",
              "      <td>28.625000</td>\n",
              "      <td>28.825000</td>\n",
              "      <td>21.594921</td>\n",
              "      <td>3.759675e+06</td>\n",
              "    </tr>\n",
              "    <tr>\n",
              "      <th>max</th>\n",
              "      <td>58.300781</td>\n",
              "      <td>58.671875</td>\n",
              "      <td>57.509766</td>\n",
              "      <td>58.437500</td>\n",
              "      <td>38.651604</td>\n",
              "      <td>4.341040e+08</td>\n",
              "    </tr>\n",
              "  </tbody>\n",
              "</table>\n",
              "</div>"
            ],
            "text/plain": [
              "              Open         High          Low        Close    Adj Close  \\\n",
              "count  3524.000000  3524.000000  3524.000000  3524.000000  3524.000000   \n",
              "mean     21.714721    21.902277    21.504521    21.708342    16.745795   \n",
              "std      12.494230    12.609161    12.356681    12.490288     7.632176   \n",
              "min       0.820000     0.860000     0.820000     0.850000     0.850000   \n",
              "25%      12.090000    12.190000    12.020000    12.097500    11.051464   \n",
              "50%      17.231445    17.440703    17.124454    17.302578    14.742901   \n",
              "75%      28.840000    28.992500    28.625000    28.825000    21.594921   \n",
              "max      58.300781    58.671875    57.509766    58.437500    38.651604   \n",
              "\n",
              "             Volume  \n",
              "count  3.524000e+03  \n",
              "mean   4.267032e+06  \n",
              "std    1.254198e+07  \n",
              "min    1.301500e+05  \n",
              "25%    1.283234e+06  \n",
              "50%    2.185800e+06  \n",
              "75%    3.759675e+06  \n",
              "max    4.341040e+08  "
            ]
          },
          "execution_count": 61,
          "metadata": {},
          "output_type": "execute_result"
        }
      ],
      "source": [
        "data.describe()"
      ]
    },
    {
      "cell_type": "code",
      "execution_count": 62,
      "metadata": {
        "id": "_j0Zokfpib9h"
      },
      "outputs": [],
      "source": [
        "# convert date colume to \"datetime\" format\n",
        "data[[\"Date\"]] = data[[\"Date\"]].apply(pd.to_datetime)"
      ]
    },
    {
      "cell_type": "code",
      "execution_count": 63,
      "metadata": {
        "colab": {
          "base_uri": "https://localhost:8080/"
        },
        "id": "Esd3z8TBZbF3",
        "outputId": "7d5195ee-171d-4171-9da3-0692fc136430"
      },
      "outputs": [
        {
          "name": "stdout",
          "output_type": "stream",
          "text": [
            "<class 'pandas.core.frame.DataFrame'>\n",
            "RangeIndex: 3524 entries, 0 to 3523\n",
            "Data columns (total 7 columns):\n",
            " #   Column     Non-Null Count  Dtype         \n",
            "---  ------     --------------  -----         \n",
            " 0   Date       3524 non-null   datetime64[ns]\n",
            " 1   Open       3524 non-null   float64       \n",
            " 2   High       3524 non-null   float64       \n",
            " 3   Low        3524 non-null   float64       \n",
            " 4   Close      3524 non-null   float64       \n",
            " 5   Adj Close  3524 non-null   float64       \n",
            " 6   Volume     3524 non-null   int64         \n",
            "dtypes: datetime64[ns](1), float64(5), int64(1)\n",
            "memory usage: 192.8 KB\n"
          ]
        }
      ],
      "source": [
        "data.info()"
      ]
    },
    {
      "cell_type": "markdown",
      "metadata": {
        "id": "YlB6ZhKO8z17"
      },
      "source": [
        "--- \n",
        "## Select time range and plot time series\n",
        "Select a specific timeframe"
      ]
    },
    {
      "cell_type": "code",
      "execution_count": 64,
      "metadata": {
        "id": "2zfzRIB-gAq6"
      },
      "outputs": [],
      "source": [
        "df= data[(data['Date'] > \"2018-01-01\") & (data['Date'] < \"2019-01-01\")]\n",
        "# df= data[(data['Date'] > \"2018-01-01\")]"
      ]
    },
    {
      "cell_type": "markdown",
      "metadata": {
        "id": "cpsbxBGSZntr"
      },
      "source": [
        "and plot the financial time series OHLC as **candlesticks** using *plotly.graph_objects*"
      ]
    },
    {
      "cell_type": "code",
      "execution_count": 65,
      "metadata": {
        "colab": {
          "base_uri": "https://localhost:8080/",
          "height": 617
        },
        "id": "kdGQANLQcRiw",
        "outputId": "c0678628-a672-48f1-a0d4-fe121a25a91f"
      },
      "outputs": [
        {
          "data": {
            "application/vnd.plotly.v1+json": {
              "config": {
                "plotlyServerURL": "https://plot.ly"
              },
              "data": [
                {
                  "close": [
                    17.879999,
                    18.059999,
                    18.290001,
                    18.1,
                    18.17,
                    18.01,
                    18.299999,
                    18.75,
                    18.959999,
                    18.85,
                    18.719999,
                    18.93,
                    19.059999,
                    19.34,
                    19.32,
                    19.639999,
                    19.620001,
                    19.98,
                    19.620001,
                    19.4,
                    19.34,
                    19.709999,
                    19.129999,
                    18.370001,
                    18,
                    18.030001,
                    17.190001,
                    17.559999,
                    17.620001,
                    17.68,
                    18.66,
                    18.74,
                    18.780001,
                    18.6,
                    18.59,
                    18.559999,
                    18.719999,
                    18.76,
                    18.74,
                    18.360001,
                    18.059999,
                    17.940001,
                    17.98,
                    18.139999,
                    18.129999,
                    18.129999,
                    18.219999,
                    18.379999,
                    18.07,
                    18.030001,
                    18.120001,
                    18.25,
                    18.049999,
                    18.059999,
                    17.639999,
                    16.9,
                    16.65,
                    16.870001,
                    16.549999,
                    16.58,
                    16.790001,
                    16.450001,
                    16.469999,
                    16.299999,
                    16.49,
                    16.16,
                    16.24,
                    16.530001,
                    16.33,
                    16.48,
                    16.370001,
                    16.370001,
                    16.459999,
                    16.440001,
                    16.59,
                    16.559999,
                    16.540001,
                    16.290001,
                    16.969999,
                    17.16,
                    16.969999,
                    16.77,
                    16.68,
                    16.610001,
                    16.52,
                    16.34,
                    16.459999,
                    16.52,
                    16.76,
                    16.790001,
                    16.99,
                    16.879999,
                    16.84,
                    16.73,
                    16.73,
                    16.629999,
                    16.65,
                    16.92,
                    16.6,
                    16.32,
                    16.290001,
                    15.26,
                    15.54,
                    15.4,
                    15.62,
                    15.69,
                    15.33,
                    15.58,
                    15.53,
                    15.39,
                    15.87,
                    15.78,
                    15.69,
                    15.68,
                    15.42,
                    15.22,
                    15.12,
                    15.2,
                    15.02,
                    15.42,
                    15,
                    14.97,
                    14.73,
                    14.84,
                    14.88,
                    14.85,
                    14.87,
                    15,
                    15.03,
                    15.35,
                    15.21,
                    14.85,
                    14.81,
                    14.81,
                    15.24,
                    15.14,
                    15.27,
                    15.19,
                    15.25,
                    15.43,
                    15.68,
                    15.69,
                    15.58,
                    15.69,
                    15.84,
                    16.059999,
                    16.02,
                    15.9,
                    15.79,
                    15.6,
                    15.77,
                    15.79,
                    15.67,
                    15.27,
                    15,
                    15.09,
                    14.87,
                    14.83,
                    14.81,
                    14.86,
                    15.06,
                    14.95,
                    14.88,
                    14.95,
                    15.17,
                    15.17,
                    15.25,
                    15.05,
                    14.95,
                    15.11,
                    15.09,
                    15.02,
                    14.85,
                    14.84,
                    14.93,
                    14.78,
                    14.94,
                    14.94,
                    15.06,
                    15.09,
                    15.4,
                    15.87,
                    15.94,
                    15.69,
                    15.64,
                    15.55,
                    15.39,
                    14.94,
                    14.88,
                    14.61,
                    14.67,
                    14.56,
                    14.31,
                    14.17,
                    14.04,
                    13.76,
                    13.42,
                    13.5,
                    13.52,
                    13.59,
                    13.58,
                    13.15,
                    13.14,
                    13.01,
                    12.85,
                    12.25,
                    12.46,
                    12.48,
                    12.5,
                    12.81,
                    12.93,
                    12.92,
                    12.84,
                    12.76,
                    12.79,
                    13.05,
                    12.9,
                    12.83,
                    12.49,
                    12.51,
                    12.42,
                    12.42,
                    12.38,
                    12.3,
                    11.72,
                    11.96,
                    11.79,
                    12.09,
                    11.93,
                    12.11,
                    11.93,
                    11.82,
                    12.09,
                    11.64,
                    11.33,
                    11.11,
                    11,
                    10.92,
                    11.32,
                    11.26,
                    11.1,
                    10.94,
                    10.89,
                    10.72,
                    10.53,
                    10.51,
                    10.42,
                    10.8,
                    10.67,
                    10.87,
                    10.86
                  ],
                  "high": [
                    17.969999,
                    18.120001,
                    18.34,
                    18.33,
                    18.200001,
                    18.139999,
                    18.35,
                    18.75,
                    18.959999,
                    19.08,
                    18.809999,
                    19.02,
                    19.07,
                    19.34,
                    19.379999,
                    19.85,
                    19.790001,
                    19.98,
                    19.84,
                    19.469999,
                    19.51,
                    19.77,
                    19.49,
                    19.1,
                    18.290001,
                    18.200001,
                    18.08,
                    17.66,
                    17.77,
                    17.719999,
                    18.719999,
                    18.790001,
                    18.83,
                    18.77,
                    18.870001,
                    18.75,
                    18.719999,
                    18.790001,
                    18.879999,
                    18.790001,
                    18.370001,
                    17.959999,
                    18.049999,
                    18.219999,
                    18.17,
                    18.23,
                    18.23,
                    18.459999,
                    18.51,
                    18.24,
                    18.18,
                    18.33,
                    18.32,
                    18.17,
                    17.799999,
                    17.26,
                    17.1,
                    16.950001,
                    16.889999,
                    16.76,
                    16.85,
                    16.85,
                    16.5,
                    16.309999,
                    16.540001,
                    16.5,
                    16.48,
                    16.629999,
                    16.5,
                    16.540001,
                    16.639999,
                    16.440001,
                    16.57,
                    16.540001,
                    16.610001,
                    16.639999,
                    16.700001,
                    16.57,
                    17.15,
                    17.23,
                    17.01,
                    16.940001,
                    16.75,
                    16.77,
                    16.639999,
                    16.43,
                    16.52,
                    16.6,
                    16.799999,
                    16.82,
                    17.17,
                    16.950001,
                    16.969999,
                    16.780001,
                    16.799999,
                    16.700001,
                    16.74,
                    17.030001,
                    16.690001,
                    16.389999,
                    16.309999,
                    15.77,
                    15.59,
                    15.48,
                    15.68,
                    15.73,
                    15.54,
                    15.6,
                    15.65,
                    15.49,
                    15.97,
                    15.98,
                    15.85,
                    15.75,
                    15.48,
                    15.24,
                    15.14,
                    15.38,
                    15.14,
                    15.53,
                    15.12,
                    15.04,
                    15,
                    14.88,
                    15.09,
                    14.89,
                    15.04,
                    15.08,
                    15.05,
                    15.38,
                    15.24,
                    15.02,
                    14.85,
                    14.87,
                    15.26,
                    15.2,
                    15.34,
                    15.35,
                    15.28,
                    15.47,
                    15.77,
                    15.7,
                    15.68,
                    15.78,
                    15.97,
                    16.299999,
                    16.120001,
                    15.94,
                    15.88,
                    15.63,
                    15.94,
                    15.85,
                    15.8,
                    15.77,
                    15.16,
                    15.12,
                    14.92,
                    14.95,
                    14.84,
                    14.9,
                    15.15,
                    15,
                    14.94,
                    15.04,
                    15.21,
                    15.29,
                    15.27,
                    15.13,
                    15.03,
                    15.13,
                    15.32,
                    15.19,
                    14.94,
                    14.99,
                    14.95,
                    14.88,
                    15.06,
                    14.97,
                    15.11,
                    15.15,
                    15.45,
                    15.95,
                    15.99,
                    15.97,
                    15.8,
                    15.71,
                    15.56,
                    15.14,
                    14.96,
                    14.65,
                    14.71,
                    14.71,
                    14.45,
                    14.19,
                    14.12,
                    14.12,
                    13.68,
                    13.76,
                    13.62,
                    13.61,
                    13.7,
                    13.46,
                    13.25,
                    13.18,
                    12.92,
                    12.63,
                    12.56,
                    12.6,
                    12.87,
                    12.83,
                    13.16,
                    12.98,
                    13.11,
                    12.88,
                    12.83,
                    13.09,
                    13.15,
                    12.9,
                    12.71,
                    12.66,
                    12.6,
                    12.45,
                    12.42,
                    12.42,
                    11.9,
                    12.09,
                    11.86,
                    12.16,
                    11.98,
                    12.13,
                    12.05,
                    11.86,
                    12.21,
                    11.99,
                    11.35,
                    11.39,
                    11.21,
                    11.26,
                    11.49,
                    11.45,
                    11.29,
                    11.19,
                    11.11,
                    11.09,
                    10.67,
                    10.82,
                    10.59,
                    10.8,
                    10.68,
                    11.01,
                    10.95
                  ],
                  "low": [
                    17.83,
                    17.84,
                    18.200001,
                    17.92,
                    18.09,
                    18,
                    18.209999,
                    18.549999,
                    18.790001,
                    18.780001,
                    18.549999,
                    18.790001,
                    18.92,
                    19.16,
                    19.24,
                    19.48,
                    19.559999,
                    19.780001,
                    19.59,
                    19.34,
                    19.290001,
                    19.549999,
                    19.120001,
                    18.35,
                    17.58,
                    17.879999,
                    17.17,
                    17.049999,
                    17.35,
                    17.549999,
                    17.98,
                    18.450001,
                    18.59,
                    18.51,
                    18.58,
                    18.52,
                    18.559999,
                    18.549999,
                    18.709999,
                    18.35,
                    17.91,
                    17.639999,
                    17.700001,
                    18.030001,
                    17.93,
                    18.030001,
                    18.02,
                    18.280001,
                    18.030001,
                    17.969999,
                    17.98,
                    18.209999,
                    17.860001,
                    17.969999,
                    17.379999,
                    16.860001,
                    16.65,
                    16.639999,
                    16.469999,
                    16.42,
                    16.610001,
                    16.280001,
                    16.280001,
                    15.97,
                    16.41,
                    16.059999,
                    16.23,
                    16.469999,
                    16.309999,
                    16.379999,
                    16.309999,
                    16.32,
                    16.41,
                    16.4,
                    16.48,
                    16.5,
                    16.5,
                    16.18,
                    16.92,
                    17.1,
                    16.860001,
                    16.77,
                    16.51,
                    16.57,
                    16.35,
                    16.16,
                    16.360001,
                    16.43,
                    16.620001,
                    16.719999,
                    16.959999,
                    16.82,
                    16.709999,
                    16.629999,
                    16.66,
                    16.58,
                    16.610001,
                    16.889999,
                    16.440001,
                    16.200001,
                    16.17,
                    15.16,
                    15.36,
                    15.14,
                    15.52,
                    15.6,
                    15.29,
                    15.33,
                    15.44,
                    15.33,
                    15.79,
                    15.72,
                    15.6,
                    15.62,
                    15.24,
                    15.12,
                    14.99,
                    15.2,
                    14.99,
                    15.36,
                    14.93,
                    14.81,
                    14.7,
                    14.63,
                    14.88,
                    14.73,
                    14.85,
                    14.97,
                    14.89,
                    15.1,
                    15.13,
                    14.82,
                    14.71,
                    14.72,
                    15.08,
                    15.09,
                    15.2,
                    15.15,
                    15.12,
                    15.37,
                    15.65,
                    15.51,
                    15.54,
                    15.64,
                    15.83,
                    16.040001,
                    15.96,
                    15.75,
                    15.78,
                    15.46,
                    15.75,
                    15.75,
                    15.62,
                    15.17,
                    14.99,
                    15,
                    14.72,
                    14.81,
                    14.69,
                    14.82,
                    15.05,
                    14.88,
                    14.83,
                    14.95,
                    15.01,
                    15.16,
                    15.12,
                    15,
                    14.9,
                    14.92,
                    15.07,
                    14.96,
                    14.81,
                    14.82,
                    14.7,
                    14.76,
                    14.85,
                    14.89,
                    15.02,
                    15.07,
                    15.21,
                    15.81,
                    15.87,
                    15.68,
                    15.61,
                    15.53,
                    15.37,
                    14.93,
                    14.78,
                    14.52,
                    14.54,
                    14.41,
                    14.23,
                    14.02,
                    13.95,
                    13.76,
                    13.37,
                    13.34,
                    13.47,
                    13.52,
                    13.44,
                    13.14,
                    13.09,
                    12.98,
                    12.66,
                    12.24,
                    12.42,
                    12.34,
                    12.41,
                    12.66,
                    12.89,
                    12.72,
                    12.78,
                    12.72,
                    12.73,
                    12.93,
                    12.87,
                    12.77,
                    12.48,
                    12.41,
                    12.27,
                    12.22,
                    12.26,
                    12.21,
                    11.69,
                    11.87,
                    11.76,
                    12.03,
                    11.81,
                    11.79,
                    11.88,
                    11.73,
                    12.01,
                    11.56,
                    11.05,
                    11.04,
                    10.85,
                    10.86,
                    11.22,
                    11.21,
                    11.06,
                    10.91,
                    10.82,
                    10.64,
                    10.45,
                    10.5,
                    10.36,
                    10.23,
                    10.38,
                    10.8,
                    10.7
                  ],
                  "open": [
                    17.879999,
                    17.870001,
                    18.209999,
                    18.299999,
                    18.120001,
                    18.1,
                    18.27,
                    18.549999,
                    18.790001,
                    19.02,
                    18.629999,
                    18.82,
                    18.950001,
                    19.17,
                    19.379999,
                    19.77,
                    19.75,
                    19.799999,
                    19.790001,
                    19.450001,
                    19.33,
                    19.559999,
                    19.469999,
                    18.940001,
                    18.059999,
                    17.92,
                    18.07,
                    17.41,
                    17.48,
                    17.610001,
                    17.99,
                    18.780001,
                    18.610001,
                    18.639999,
                    18.700001,
                    18.67,
                    18.58,
                    18.610001,
                    18.73,
                    18.780001,
                    18.26,
                    17.82,
                    17.75,
                    18.16,
                    17.969999,
                    18.15,
                    18.049999,
                    18.35,
                    18.49,
                    18.23,
                    18,
                    18.24,
                    18.290001,
                    18.049999,
                    17.75,
                    17.219999,
                    17.07,
                    16.91,
                    16.860001,
                    16.549999,
                    16.68,
                    16.790001,
                    16.41,
                    16,
                    16.450001,
                    16.440001,
                    16.280001,
                    16.540001,
                    16.49,
                    16.4,
                    16.639999,
                    16.42,
                    16.48,
                    16.52,
                    16.48,
                    16.540001,
                    16.610001,
                    16.469999,
                    17.15,
                    17.219999,
                    16.959999,
                    16.879999,
                    16.75,
                    16.74,
                    16.620001,
                    16.18,
                    16.370001,
                    16.440001,
                    16.690001,
                    16.77,
                    17.16,
                    16.879999,
                    16.719999,
                    16.68,
                    16.700001,
                    16.68,
                    16.690001,
                    16.9,
                    16.620001,
                    16.35,
                    16.219999,
                    15.59,
                    15.46,
                    15.31,
                    15.57,
                    15.69,
                    15.51,
                    15.33,
                    15.65,
                    15.47,
                    15.84,
                    15.96,
                    15.69,
                    15.65,
                    15.29,
                    15.19,
                    15.09,
                    15.38,
                    15.11,
                    15.41,
                    15.1,
                    14.97,
                    14.87,
                    14.74,
                    14.99,
                    14.73,
                    15.02,
                    15.06,
                    14.92,
                    15.1,
                    15.18,
                    14.89,
                    14.76,
                    14.86,
                    15.11,
                    15.12,
                    15.23,
                    15.34,
                    15.13,
                    15.38,
                    15.73,
                    15.67,
                    15.67,
                    15.68,
                    15.9,
                    16.280001,
                    16.07,
                    15.8,
                    15.83,
                    15.57,
                    15.81,
                    15.78,
                    15.77,
                    15.77,
                    15.07,
                    15.07,
                    14.8,
                    14.88,
                    14.73,
                    14.83,
                    15.09,
                    14.98,
                    14.9,
                    15.01,
                    15.02,
                    15.21,
                    15.19,
                    15.09,
                    14.97,
                    15.01,
                    15.29,
                    15.14,
                    14.85,
                    14.96,
                    14.73,
                    14.76,
                    15.02,
                    14.91,
                    15.02,
                    15.07,
                    15.21,
                    15.9,
                    15.98,
                    15.95,
                    15.75,
                    15.62,
                    15.39,
                    14.97,
                    14.9,
                    14.62,
                    14.58,
                    14.63,
                    14.43,
                    14.04,
                    14.01,
                    14.12,
                    13.6,
                    13.76,
                    13.52,
                    13.61,
                    13.58,
                    13.44,
                    13.14,
                    13.17,
                    12.74,
                    12.62,
                    12.49,
                    12.48,
                    12.82,
                    12.77,
                    12.9,
                    12.93,
                    13.06,
                    12.84,
                    12.76,
                    13.05,
                    13.07,
                    12.85,
                    12.7,
                    12.43,
                    12.58,
                    12.28,
                    12.33,
                    12.34,
                    11.86,
                    11.93,
                    11.76,
                    12.03,
                    11.87,
                    11.9,
                    12,
                    11.75,
                    12.17,
                    11.98,
                    11.13,
                    11.29,
                    11.13,
                    11.25,
                    11.29,
                    11.44,
                    11.18,
                    11.06,
                    11.07,
                    11.02,
                    10.6,
                    10.71,
                    10.44,
                    10.45,
                    10.58,
                    10.98,
                    10.86
                  ],
                  "type": "candlestick",
                  "x": [
                    "2018-01-02T00:00:00",
                    "2018-01-03T00:00:00",
                    "2018-01-04T00:00:00",
                    "2018-01-05T00:00:00",
                    "2018-01-08T00:00:00",
                    "2018-01-09T00:00:00",
                    "2018-01-10T00:00:00",
                    "2018-01-11T00:00:00",
                    "2018-01-12T00:00:00",
                    "2018-01-16T00:00:00",
                    "2018-01-17T00:00:00",
                    "2018-01-18T00:00:00",
                    "2018-01-19T00:00:00",
                    "2018-01-22T00:00:00",
                    "2018-01-23T00:00:00",
                    "2018-01-24T00:00:00",
                    "2018-01-25T00:00:00",
                    "2018-01-26T00:00:00",
                    "2018-01-29T00:00:00",
                    "2018-01-30T00:00:00",
                    "2018-01-31T00:00:00",
                    "2018-02-01T00:00:00",
                    "2018-02-02T00:00:00",
                    "2018-02-05T00:00:00",
                    "2018-02-06T00:00:00",
                    "2018-02-07T00:00:00",
                    "2018-02-08T00:00:00",
                    "2018-02-09T00:00:00",
                    "2018-02-12T00:00:00",
                    "2018-02-13T00:00:00",
                    "2018-02-14T00:00:00",
                    "2018-02-15T00:00:00",
                    "2018-02-16T00:00:00",
                    "2018-02-20T00:00:00",
                    "2018-02-21T00:00:00",
                    "2018-02-22T00:00:00",
                    "2018-02-23T00:00:00",
                    "2018-02-26T00:00:00",
                    "2018-02-27T00:00:00",
                    "2018-02-28T00:00:00",
                    "2018-03-01T00:00:00",
                    "2018-03-02T00:00:00",
                    "2018-03-05T00:00:00",
                    "2018-03-06T00:00:00",
                    "2018-03-07T00:00:00",
                    "2018-03-08T00:00:00",
                    "2018-03-09T00:00:00",
                    "2018-03-12T00:00:00",
                    "2018-03-13T00:00:00",
                    "2018-03-14T00:00:00",
                    "2018-03-15T00:00:00",
                    "2018-03-16T00:00:00",
                    "2018-03-19T00:00:00",
                    "2018-03-20T00:00:00",
                    "2018-03-21T00:00:00",
                    "2018-03-22T00:00:00",
                    "2018-03-23T00:00:00",
                    "2018-03-26T00:00:00",
                    "2018-03-27T00:00:00",
                    "2018-03-28T00:00:00",
                    "2018-03-29T00:00:00",
                    "2018-04-02T00:00:00",
                    "2018-04-03T00:00:00",
                    "2018-04-04T00:00:00",
                    "2018-04-05T00:00:00",
                    "2018-04-06T00:00:00",
                    "2018-04-09T00:00:00",
                    "2018-04-10T00:00:00",
                    "2018-04-11T00:00:00",
                    "2018-04-12T00:00:00",
                    "2018-04-13T00:00:00",
                    "2018-04-16T00:00:00",
                    "2018-04-17T00:00:00",
                    "2018-04-18T00:00:00",
                    "2018-04-19T00:00:00",
                    "2018-04-20T00:00:00",
                    "2018-04-23T00:00:00",
                    "2018-04-24T00:00:00",
                    "2018-04-25T00:00:00",
                    "2018-04-26T00:00:00",
                    "2018-04-27T00:00:00",
                    "2018-04-30T00:00:00",
                    "2018-05-01T00:00:00",
                    "2018-05-02T00:00:00",
                    "2018-05-03T00:00:00",
                    "2018-05-04T00:00:00",
                    "2018-05-07T00:00:00",
                    "2018-05-08T00:00:00",
                    "2018-05-09T00:00:00",
                    "2018-05-10T00:00:00",
                    "2018-05-11T00:00:00",
                    "2018-05-14T00:00:00",
                    "2018-05-15T00:00:00",
                    "2018-05-16T00:00:00",
                    "2018-05-17T00:00:00",
                    "2018-05-18T00:00:00",
                    "2018-05-21T00:00:00",
                    "2018-05-22T00:00:00",
                    "2018-05-23T00:00:00",
                    "2018-05-24T00:00:00",
                    "2018-05-25T00:00:00",
                    "2018-05-29T00:00:00",
                    "2018-05-30T00:00:00",
                    "2018-05-31T00:00:00",
                    "2018-06-01T00:00:00",
                    "2018-06-04T00:00:00",
                    "2018-06-05T00:00:00",
                    "2018-06-06T00:00:00",
                    "2018-06-07T00:00:00",
                    "2018-06-08T00:00:00",
                    "2018-06-11T00:00:00",
                    "2018-06-12T00:00:00",
                    "2018-06-13T00:00:00",
                    "2018-06-14T00:00:00",
                    "2018-06-15T00:00:00",
                    "2018-06-18T00:00:00",
                    "2018-06-19T00:00:00",
                    "2018-06-20T00:00:00",
                    "2018-06-21T00:00:00",
                    "2018-06-22T00:00:00",
                    "2018-06-25T00:00:00",
                    "2018-06-26T00:00:00",
                    "2018-06-27T00:00:00",
                    "2018-06-28T00:00:00",
                    "2018-06-29T00:00:00",
                    "2018-07-02T00:00:00",
                    "2018-07-03T00:00:00",
                    "2018-07-05T00:00:00",
                    "2018-07-06T00:00:00",
                    "2018-07-09T00:00:00",
                    "2018-07-10T00:00:00",
                    "2018-07-11T00:00:00",
                    "2018-07-12T00:00:00",
                    "2018-07-13T00:00:00",
                    "2018-07-16T00:00:00",
                    "2018-07-17T00:00:00",
                    "2018-07-18T00:00:00",
                    "2018-07-19T00:00:00",
                    "2018-07-20T00:00:00",
                    "2018-07-23T00:00:00",
                    "2018-07-24T00:00:00",
                    "2018-07-25T00:00:00",
                    "2018-07-26T00:00:00",
                    "2018-07-27T00:00:00",
                    "2018-07-30T00:00:00",
                    "2018-07-31T00:00:00",
                    "2018-08-01T00:00:00",
                    "2018-08-02T00:00:00",
                    "2018-08-03T00:00:00",
                    "2018-08-06T00:00:00",
                    "2018-08-07T00:00:00",
                    "2018-08-08T00:00:00",
                    "2018-08-09T00:00:00",
                    "2018-08-10T00:00:00",
                    "2018-08-13T00:00:00",
                    "2018-08-14T00:00:00",
                    "2018-08-15T00:00:00",
                    "2018-08-16T00:00:00",
                    "2018-08-17T00:00:00",
                    "2018-08-20T00:00:00",
                    "2018-08-21T00:00:00",
                    "2018-08-22T00:00:00",
                    "2018-08-23T00:00:00",
                    "2018-08-24T00:00:00",
                    "2018-08-27T00:00:00",
                    "2018-08-28T00:00:00",
                    "2018-08-29T00:00:00",
                    "2018-08-30T00:00:00",
                    "2018-08-31T00:00:00",
                    "2018-09-04T00:00:00",
                    "2018-09-05T00:00:00",
                    "2018-09-06T00:00:00",
                    "2018-09-07T00:00:00",
                    "2018-09-10T00:00:00",
                    "2018-09-11T00:00:00",
                    "2018-09-12T00:00:00",
                    "2018-09-13T00:00:00",
                    "2018-09-14T00:00:00",
                    "2018-09-17T00:00:00",
                    "2018-09-18T00:00:00",
                    "2018-09-19T00:00:00",
                    "2018-09-20T00:00:00",
                    "2018-09-21T00:00:00",
                    "2018-09-24T00:00:00",
                    "2018-09-25T00:00:00",
                    "2018-09-26T00:00:00",
                    "2018-09-27T00:00:00",
                    "2018-09-28T00:00:00",
                    "2018-10-01T00:00:00",
                    "2018-10-02T00:00:00",
                    "2018-10-03T00:00:00",
                    "2018-10-04T00:00:00",
                    "2018-10-05T00:00:00",
                    "2018-10-08T00:00:00",
                    "2018-10-09T00:00:00",
                    "2018-10-10T00:00:00",
                    "2018-10-11T00:00:00",
                    "2018-10-12T00:00:00",
                    "2018-10-15T00:00:00",
                    "2018-10-16T00:00:00",
                    "2018-10-17T00:00:00",
                    "2018-10-18T00:00:00",
                    "2018-10-19T00:00:00",
                    "2018-10-22T00:00:00",
                    "2018-10-23T00:00:00",
                    "2018-10-24T00:00:00",
                    "2018-10-25T00:00:00",
                    "2018-10-26T00:00:00",
                    "2018-10-29T00:00:00",
                    "2018-10-30T00:00:00",
                    "2018-10-31T00:00:00",
                    "2018-11-01T00:00:00",
                    "2018-11-02T00:00:00",
                    "2018-11-05T00:00:00",
                    "2018-11-06T00:00:00",
                    "2018-11-07T00:00:00",
                    "2018-11-08T00:00:00",
                    "2018-11-09T00:00:00",
                    "2018-11-12T00:00:00",
                    "2018-11-13T00:00:00",
                    "2018-11-14T00:00:00",
                    "2018-11-15T00:00:00",
                    "2018-11-16T00:00:00",
                    "2018-11-19T00:00:00",
                    "2018-11-20T00:00:00",
                    "2018-11-21T00:00:00",
                    "2018-11-23T00:00:00",
                    "2018-11-26T00:00:00",
                    "2018-11-27T00:00:00",
                    "2018-11-28T00:00:00",
                    "2018-11-29T00:00:00",
                    "2018-11-30T00:00:00",
                    "2018-12-03T00:00:00",
                    "2018-12-04T00:00:00",
                    "2018-12-06T00:00:00",
                    "2018-12-07T00:00:00",
                    "2018-12-10T00:00:00",
                    "2018-12-11T00:00:00",
                    "2018-12-12T00:00:00",
                    "2018-12-13T00:00:00",
                    "2018-12-14T00:00:00",
                    "2018-12-17T00:00:00",
                    "2018-12-18T00:00:00",
                    "2018-12-19T00:00:00",
                    "2018-12-20T00:00:00",
                    "2018-12-21T00:00:00",
                    "2018-12-24T00:00:00",
                    "2018-12-26T00:00:00",
                    "2018-12-27T00:00:00",
                    "2018-12-28T00:00:00",
                    "2018-12-31T00:00:00"
                  ]
                }
              ],
              "layout": {
                "height": 600,
                "template": {
                  "data": {
                    "bar": [
                      {
                        "error_x": {
                          "color": "#2a3f5f"
                        },
                        "error_y": {
                          "color": "#2a3f5f"
                        },
                        "marker": {
                          "line": {
                            "color": "#E5ECF6",
                            "width": 0.5
                          },
                          "pattern": {
                            "fillmode": "overlay",
                            "size": 10,
                            "solidity": 0.2
                          }
                        },
                        "type": "bar"
                      }
                    ],
                    "barpolar": [
                      {
                        "marker": {
                          "line": {
                            "color": "#E5ECF6",
                            "width": 0.5
                          },
                          "pattern": {
                            "fillmode": "overlay",
                            "size": 10,
                            "solidity": 0.2
                          }
                        },
                        "type": "barpolar"
                      }
                    ],
                    "carpet": [
                      {
                        "aaxis": {
                          "endlinecolor": "#2a3f5f",
                          "gridcolor": "white",
                          "linecolor": "white",
                          "minorgridcolor": "white",
                          "startlinecolor": "#2a3f5f"
                        },
                        "baxis": {
                          "endlinecolor": "#2a3f5f",
                          "gridcolor": "white",
                          "linecolor": "white",
                          "minorgridcolor": "white",
                          "startlinecolor": "#2a3f5f"
                        },
                        "type": "carpet"
                      }
                    ],
                    "choropleth": [
                      {
                        "colorbar": {
                          "outlinewidth": 0,
                          "ticks": ""
                        },
                        "type": "choropleth"
                      }
                    ],
                    "contour": [
                      {
                        "colorbar": {
                          "outlinewidth": 0,
                          "ticks": ""
                        },
                        "colorscale": [
                          [
                            0,
                            "#0d0887"
                          ],
                          [
                            0.1111111111111111,
                            "#46039f"
                          ],
                          [
                            0.2222222222222222,
                            "#7201a8"
                          ],
                          [
                            0.3333333333333333,
                            "#9c179e"
                          ],
                          [
                            0.4444444444444444,
                            "#bd3786"
                          ],
                          [
                            0.5555555555555556,
                            "#d8576b"
                          ],
                          [
                            0.6666666666666666,
                            "#ed7953"
                          ],
                          [
                            0.7777777777777778,
                            "#fb9f3a"
                          ],
                          [
                            0.8888888888888888,
                            "#fdca26"
                          ],
                          [
                            1,
                            "#f0f921"
                          ]
                        ],
                        "type": "contour"
                      }
                    ],
                    "contourcarpet": [
                      {
                        "colorbar": {
                          "outlinewidth": 0,
                          "ticks": ""
                        },
                        "type": "contourcarpet"
                      }
                    ],
                    "heatmap": [
                      {
                        "colorbar": {
                          "outlinewidth": 0,
                          "ticks": ""
                        },
                        "colorscale": [
                          [
                            0,
                            "#0d0887"
                          ],
                          [
                            0.1111111111111111,
                            "#46039f"
                          ],
                          [
                            0.2222222222222222,
                            "#7201a8"
                          ],
                          [
                            0.3333333333333333,
                            "#9c179e"
                          ],
                          [
                            0.4444444444444444,
                            "#bd3786"
                          ],
                          [
                            0.5555555555555556,
                            "#d8576b"
                          ],
                          [
                            0.6666666666666666,
                            "#ed7953"
                          ],
                          [
                            0.7777777777777778,
                            "#fb9f3a"
                          ],
                          [
                            0.8888888888888888,
                            "#fdca26"
                          ],
                          [
                            1,
                            "#f0f921"
                          ]
                        ],
                        "type": "heatmap"
                      }
                    ],
                    "heatmapgl": [
                      {
                        "colorbar": {
                          "outlinewidth": 0,
                          "ticks": ""
                        },
                        "colorscale": [
                          [
                            0,
                            "#0d0887"
                          ],
                          [
                            0.1111111111111111,
                            "#46039f"
                          ],
                          [
                            0.2222222222222222,
                            "#7201a8"
                          ],
                          [
                            0.3333333333333333,
                            "#9c179e"
                          ],
                          [
                            0.4444444444444444,
                            "#bd3786"
                          ],
                          [
                            0.5555555555555556,
                            "#d8576b"
                          ],
                          [
                            0.6666666666666666,
                            "#ed7953"
                          ],
                          [
                            0.7777777777777778,
                            "#fb9f3a"
                          ],
                          [
                            0.8888888888888888,
                            "#fdca26"
                          ],
                          [
                            1,
                            "#f0f921"
                          ]
                        ],
                        "type": "heatmapgl"
                      }
                    ],
                    "histogram": [
                      {
                        "marker": {
                          "pattern": {
                            "fillmode": "overlay",
                            "size": 10,
                            "solidity": 0.2
                          }
                        },
                        "type": "histogram"
                      }
                    ],
                    "histogram2d": [
                      {
                        "colorbar": {
                          "outlinewidth": 0,
                          "ticks": ""
                        },
                        "colorscale": [
                          [
                            0,
                            "#0d0887"
                          ],
                          [
                            0.1111111111111111,
                            "#46039f"
                          ],
                          [
                            0.2222222222222222,
                            "#7201a8"
                          ],
                          [
                            0.3333333333333333,
                            "#9c179e"
                          ],
                          [
                            0.4444444444444444,
                            "#bd3786"
                          ],
                          [
                            0.5555555555555556,
                            "#d8576b"
                          ],
                          [
                            0.6666666666666666,
                            "#ed7953"
                          ],
                          [
                            0.7777777777777778,
                            "#fb9f3a"
                          ],
                          [
                            0.8888888888888888,
                            "#fdca26"
                          ],
                          [
                            1,
                            "#f0f921"
                          ]
                        ],
                        "type": "histogram2d"
                      }
                    ],
                    "histogram2dcontour": [
                      {
                        "colorbar": {
                          "outlinewidth": 0,
                          "ticks": ""
                        },
                        "colorscale": [
                          [
                            0,
                            "#0d0887"
                          ],
                          [
                            0.1111111111111111,
                            "#46039f"
                          ],
                          [
                            0.2222222222222222,
                            "#7201a8"
                          ],
                          [
                            0.3333333333333333,
                            "#9c179e"
                          ],
                          [
                            0.4444444444444444,
                            "#bd3786"
                          ],
                          [
                            0.5555555555555556,
                            "#d8576b"
                          ],
                          [
                            0.6666666666666666,
                            "#ed7953"
                          ],
                          [
                            0.7777777777777778,
                            "#fb9f3a"
                          ],
                          [
                            0.8888888888888888,
                            "#fdca26"
                          ],
                          [
                            1,
                            "#f0f921"
                          ]
                        ],
                        "type": "histogram2dcontour"
                      }
                    ],
                    "mesh3d": [
                      {
                        "colorbar": {
                          "outlinewidth": 0,
                          "ticks": ""
                        },
                        "type": "mesh3d"
                      }
                    ],
                    "parcoords": [
                      {
                        "line": {
                          "colorbar": {
                            "outlinewidth": 0,
                            "ticks": ""
                          }
                        },
                        "type": "parcoords"
                      }
                    ],
                    "pie": [
                      {
                        "automargin": true,
                        "type": "pie"
                      }
                    ],
                    "scatter": [
                      {
                        "fillpattern": {
                          "fillmode": "overlay",
                          "size": 10,
                          "solidity": 0.2
                        },
                        "type": "scatter"
                      }
                    ],
                    "scatter3d": [
                      {
                        "line": {
                          "colorbar": {
                            "outlinewidth": 0,
                            "ticks": ""
                          }
                        },
                        "marker": {
                          "colorbar": {
                            "outlinewidth": 0,
                            "ticks": ""
                          }
                        },
                        "type": "scatter3d"
                      }
                    ],
                    "scattercarpet": [
                      {
                        "marker": {
                          "colorbar": {
                            "outlinewidth": 0,
                            "ticks": ""
                          }
                        },
                        "type": "scattercarpet"
                      }
                    ],
                    "scattergeo": [
                      {
                        "marker": {
                          "colorbar": {
                            "outlinewidth": 0,
                            "ticks": ""
                          }
                        },
                        "type": "scattergeo"
                      }
                    ],
                    "scattergl": [
                      {
                        "marker": {
                          "colorbar": {
                            "outlinewidth": 0,
                            "ticks": ""
                          }
                        },
                        "type": "scattergl"
                      }
                    ],
                    "scattermapbox": [
                      {
                        "marker": {
                          "colorbar": {
                            "outlinewidth": 0,
                            "ticks": ""
                          }
                        },
                        "type": "scattermapbox"
                      }
                    ],
                    "scatterpolar": [
                      {
                        "marker": {
                          "colorbar": {
                            "outlinewidth": 0,
                            "ticks": ""
                          }
                        },
                        "type": "scatterpolar"
                      }
                    ],
                    "scatterpolargl": [
                      {
                        "marker": {
                          "colorbar": {
                            "outlinewidth": 0,
                            "ticks": ""
                          }
                        },
                        "type": "scatterpolargl"
                      }
                    ],
                    "scatterternary": [
                      {
                        "marker": {
                          "colorbar": {
                            "outlinewidth": 0,
                            "ticks": ""
                          }
                        },
                        "type": "scatterternary"
                      }
                    ],
                    "surface": [
                      {
                        "colorbar": {
                          "outlinewidth": 0,
                          "ticks": ""
                        },
                        "colorscale": [
                          [
                            0,
                            "#0d0887"
                          ],
                          [
                            0.1111111111111111,
                            "#46039f"
                          ],
                          [
                            0.2222222222222222,
                            "#7201a8"
                          ],
                          [
                            0.3333333333333333,
                            "#9c179e"
                          ],
                          [
                            0.4444444444444444,
                            "#bd3786"
                          ],
                          [
                            0.5555555555555556,
                            "#d8576b"
                          ],
                          [
                            0.6666666666666666,
                            "#ed7953"
                          ],
                          [
                            0.7777777777777778,
                            "#fb9f3a"
                          ],
                          [
                            0.8888888888888888,
                            "#fdca26"
                          ],
                          [
                            1,
                            "#f0f921"
                          ]
                        ],
                        "type": "surface"
                      }
                    ],
                    "table": [
                      {
                        "cells": {
                          "fill": {
                            "color": "#EBF0F8"
                          },
                          "line": {
                            "color": "white"
                          }
                        },
                        "header": {
                          "fill": {
                            "color": "#C8D4E3"
                          },
                          "line": {
                            "color": "white"
                          }
                        },
                        "type": "table"
                      }
                    ]
                  },
                  "layout": {
                    "annotationdefaults": {
                      "arrowcolor": "#2a3f5f",
                      "arrowhead": 0,
                      "arrowwidth": 1
                    },
                    "autotypenumbers": "strict",
                    "coloraxis": {
                      "colorbar": {
                        "outlinewidth": 0,
                        "ticks": ""
                      }
                    },
                    "colorscale": {
                      "diverging": [
                        [
                          0,
                          "#8e0152"
                        ],
                        [
                          0.1,
                          "#c51b7d"
                        ],
                        [
                          0.2,
                          "#de77ae"
                        ],
                        [
                          0.3,
                          "#f1b6da"
                        ],
                        [
                          0.4,
                          "#fde0ef"
                        ],
                        [
                          0.5,
                          "#f7f7f7"
                        ],
                        [
                          0.6,
                          "#e6f5d0"
                        ],
                        [
                          0.7,
                          "#b8e186"
                        ],
                        [
                          0.8,
                          "#7fbc41"
                        ],
                        [
                          0.9,
                          "#4d9221"
                        ],
                        [
                          1,
                          "#276419"
                        ]
                      ],
                      "sequential": [
                        [
                          0,
                          "#0d0887"
                        ],
                        [
                          0.1111111111111111,
                          "#46039f"
                        ],
                        [
                          0.2222222222222222,
                          "#7201a8"
                        ],
                        [
                          0.3333333333333333,
                          "#9c179e"
                        ],
                        [
                          0.4444444444444444,
                          "#bd3786"
                        ],
                        [
                          0.5555555555555556,
                          "#d8576b"
                        ],
                        [
                          0.6666666666666666,
                          "#ed7953"
                        ],
                        [
                          0.7777777777777778,
                          "#fb9f3a"
                        ],
                        [
                          0.8888888888888888,
                          "#fdca26"
                        ],
                        [
                          1,
                          "#f0f921"
                        ]
                      ],
                      "sequentialminus": [
                        [
                          0,
                          "#0d0887"
                        ],
                        [
                          0.1111111111111111,
                          "#46039f"
                        ],
                        [
                          0.2222222222222222,
                          "#7201a8"
                        ],
                        [
                          0.3333333333333333,
                          "#9c179e"
                        ],
                        [
                          0.4444444444444444,
                          "#bd3786"
                        ],
                        [
                          0.5555555555555556,
                          "#d8576b"
                        ],
                        [
                          0.6666666666666666,
                          "#ed7953"
                        ],
                        [
                          0.7777777777777778,
                          "#fb9f3a"
                        ],
                        [
                          0.8888888888888888,
                          "#fdca26"
                        ],
                        [
                          1,
                          "#f0f921"
                        ]
                      ]
                    },
                    "colorway": [
                      "#636efa",
                      "#EF553B",
                      "#00cc96",
                      "#ab63fa",
                      "#FFA15A",
                      "#19d3f3",
                      "#FF6692",
                      "#B6E880",
                      "#FF97FF",
                      "#FECB52"
                    ],
                    "font": {
                      "color": "#2a3f5f"
                    },
                    "geo": {
                      "bgcolor": "white",
                      "lakecolor": "white",
                      "landcolor": "#E5ECF6",
                      "showlakes": true,
                      "showland": true,
                      "subunitcolor": "white"
                    },
                    "hoverlabel": {
                      "align": "left"
                    },
                    "hovermode": "closest",
                    "mapbox": {
                      "style": "light"
                    },
                    "paper_bgcolor": "white",
                    "plot_bgcolor": "#E5ECF6",
                    "polar": {
                      "angularaxis": {
                        "gridcolor": "white",
                        "linecolor": "white",
                        "ticks": ""
                      },
                      "bgcolor": "#E5ECF6",
                      "radialaxis": {
                        "gridcolor": "white",
                        "linecolor": "white",
                        "ticks": ""
                      }
                    },
                    "scene": {
                      "xaxis": {
                        "backgroundcolor": "#E5ECF6",
                        "gridcolor": "white",
                        "gridwidth": 2,
                        "linecolor": "white",
                        "showbackground": true,
                        "ticks": "",
                        "zerolinecolor": "white"
                      },
                      "yaxis": {
                        "backgroundcolor": "#E5ECF6",
                        "gridcolor": "white",
                        "gridwidth": 2,
                        "linecolor": "white",
                        "showbackground": true,
                        "ticks": "",
                        "zerolinecolor": "white"
                      },
                      "zaxis": {
                        "backgroundcolor": "#E5ECF6",
                        "gridcolor": "white",
                        "gridwidth": 2,
                        "linecolor": "white",
                        "showbackground": true,
                        "ticks": "",
                        "zerolinecolor": "white"
                      }
                    },
                    "shapedefaults": {
                      "line": {
                        "color": "#2a3f5f"
                      }
                    },
                    "ternary": {
                      "aaxis": {
                        "gridcolor": "white",
                        "linecolor": "white",
                        "ticks": ""
                      },
                      "baxis": {
                        "gridcolor": "white",
                        "linecolor": "white",
                        "ticks": ""
                      },
                      "bgcolor": "#E5ECF6",
                      "caxis": {
                        "gridcolor": "white",
                        "linecolor": "white",
                        "ticks": ""
                      }
                    },
                    "title": {
                      "x": 0.05
                    },
                    "xaxis": {
                      "automargin": true,
                      "gridcolor": "white",
                      "linecolor": "white",
                      "ticks": "",
                      "title": {
                        "standoff": 15
                      },
                      "zerolinecolor": "white",
                      "zerolinewidth": 2
                    },
                    "yaxis": {
                      "automargin": true,
                      "gridcolor": "white",
                      "linecolor": "white",
                      "ticks": "",
                      "title": {
                        "standoff": 15
                      },
                      "zerolinecolor": "white",
                      "zerolinewidth": 2
                    }
                  }
                },
                "title": {
                  "text": "Finance Institutes - Stock Market Price <br><sup>CREDIT SUISSE</sup>"
                },
                "width": 1000,
                "yaxis": {
                  "range": [
                    0,
                    25
                  ],
                  "title": {
                    "text": "US$"
                  }
                }
              }
            }
          },
          "metadata": {},
          "output_type": "display_data"
        }
      ],
      "source": [
        "fig = go.Figure(data=[go.Candlestick(x=df['Date'],\n",
        "                open=df['Open'],\n",
        "                high=df['High'],\n",
        "                low=df['Low'],\n",
        "                close=df['Close'])])\n",
        "\n",
        "fig.update_layout(\n",
        "    title=\"Finance Institutes - Stock Market Price <br><sup>CREDIT SUISSE</sup>\",\n",
        "    yaxis_title='US$',\n",
        "        width=1000, height=600,\n",
        "    yaxis_range = (0,25))\n",
        "    \n",
        "\n",
        "fig.show()"
      ]
    },
    {
      "cell_type": "markdown",
      "metadata": {
        "id": "b2OAV0hkb0rh"
      },
      "source": [
        "## Some Feature Engineering Techniques applied to Financial Time Series Data"
      ]
    },
    {
      "cell_type": "markdown",
      "metadata": {
        "id": "aQeFr924cHQb"
      },
      "source": [
        "### **Date-Related** Features   \n",
        "Information about the day, month, year e.g. *day of the week*, *quarter*, *day/week of year* etc. "
      ]
    },
    {
      "cell_type": "code",
      "execution_count": 66,
      "metadata": {
        "colab": {
          "base_uri": "https://localhost:8080/",
          "height": 323
        },
        "id": "Rpe3TAOKcqNf",
        "outputId": "42877f4f-41ba-4e71-b734-1d5139e218d7"
      },
      "outputs": [
        {
          "name": "stderr",
          "output_type": "stream",
          "text": [
            "C:\\Users\\MarcoReinle\\AppData\\Local\\Temp\\ipykernel_4392\\3995330517.py:7: FutureWarning:\n",
            "\n",
            "Series.dt.weekofyear and Series.dt.week have been deprecated. Please use Series.dt.isocalendar().week instead.\n",
            "\n"
          ]
        },
        {
          "data": {
            "text/html": [
              "<div>\n",
              "<style scoped>\n",
              "    .dataframe tbody tr th:only-of-type {\n",
              "        vertical-align: middle;\n",
              "    }\n",
              "\n",
              "    .dataframe tbody tr th {\n",
              "        vertical-align: top;\n",
              "    }\n",
              "\n",
              "    .dataframe thead th {\n",
              "        text-align: right;\n",
              "    }\n",
              "</style>\n",
              "<table border=\"1\" class=\"dataframe\">\n",
              "  <thead>\n",
              "    <tr style=\"text-align: right;\">\n",
              "      <th></th>\n",
              "      <th>Date</th>\n",
              "      <th>Open</th>\n",
              "      <th>High</th>\n",
              "      <th>Low</th>\n",
              "      <th>Close</th>\n",
              "      <th>Adj Close</th>\n",
              "      <th>Volume</th>\n",
              "      <th>year</th>\n",
              "      <th>month</th>\n",
              "      <th>day</th>\n",
              "      <th>dayofweek_num</th>\n",
              "      <th>dayofyear_num</th>\n",
              "      <th>weekofyear_num</th>\n",
              "      <th>quarter_num</th>\n",
              "      <th>daysinmonth_num</th>\n",
              "    </tr>\n",
              "  </thead>\n",
              "  <tbody>\n",
              "    <tr>\n",
              "      <th>0</th>\n",
              "      <td>2009-04-06</td>\n",
              "      <td>29.658203</td>\n",
              "      <td>30.937500</td>\n",
              "      <td>29.541016</td>\n",
              "      <td>30.703125</td>\n",
              "      <td>20.256773</td>\n",
              "      <td>3253043</td>\n",
              "      <td>2009</td>\n",
              "      <td>4</td>\n",
              "      <td>6</td>\n",
              "      <td>0</td>\n",
              "      <td>96</td>\n",
              "      <td>15</td>\n",
              "      <td>2</td>\n",
              "      <td>30</td>\n",
              "    </tr>\n",
              "    <tr>\n",
              "      <th>1</th>\n",
              "      <td>2009-04-07</td>\n",
              "      <td>29.482422</td>\n",
              "      <td>29.960938</td>\n",
              "      <td>29.072266</td>\n",
              "      <td>29.482422</td>\n",
              "      <td>19.451399</td>\n",
              "      <td>1795584</td>\n",
              "      <td>2009</td>\n",
              "      <td>4</td>\n",
              "      <td>7</td>\n",
              "      <td>1</td>\n",
              "      <td>97</td>\n",
              "      <td>15</td>\n",
              "      <td>2</td>\n",
              "      <td>30</td>\n",
              "    </tr>\n",
              "    <tr>\n",
              "      <th>2</th>\n",
              "      <td>2009-04-08</td>\n",
              "      <td>30.361328</td>\n",
              "      <td>30.908203</td>\n",
              "      <td>29.746094</td>\n",
              "      <td>30.644531</td>\n",
              "      <td>20.218113</td>\n",
              "      <td>1202688</td>\n",
              "      <td>2009</td>\n",
              "      <td>4</td>\n",
              "      <td>8</td>\n",
              "      <td>2</td>\n",
              "      <td>98</td>\n",
              "      <td>15</td>\n",
              "      <td>2</td>\n",
              "      <td>30</td>\n",
              "    </tr>\n",
              "    <tr>\n",
              "      <th>3</th>\n",
              "      <td>2009-04-09</td>\n",
              "      <td>31.240234</td>\n",
              "      <td>33.027344</td>\n",
              "      <td>31.025391</td>\n",
              "      <td>32.841797</td>\n",
              "      <td>21.667789</td>\n",
              "      <td>2358579</td>\n",
              "      <td>2009</td>\n",
              "      <td>4</td>\n",
              "      <td>9</td>\n",
              "      <td>3</td>\n",
              "      <td>99</td>\n",
              "      <td>15</td>\n",
              "      <td>2</td>\n",
              "      <td>30</td>\n",
              "    </tr>\n",
              "    <tr>\n",
              "      <th>4</th>\n",
              "      <td>2009-04-13</td>\n",
              "      <td>32.470703</td>\n",
              "      <td>34.423828</td>\n",
              "      <td>32.285156</td>\n",
              "      <td>33.974609</td>\n",
              "      <td>22.415174</td>\n",
              "      <td>1897062</td>\n",
              "      <td>2009</td>\n",
              "      <td>4</td>\n",
              "      <td>13</td>\n",
              "      <td>0</td>\n",
              "      <td>103</td>\n",
              "      <td>16</td>\n",
              "      <td>2</td>\n",
              "      <td>30</td>\n",
              "    </tr>\n",
              "  </tbody>\n",
              "</table>\n",
              "</div>"
            ],
            "text/plain": [
              "        Date       Open       High        Low      Close  Adj Close   Volume  \\\n",
              "0 2009-04-06  29.658203  30.937500  29.541016  30.703125  20.256773  3253043   \n",
              "1 2009-04-07  29.482422  29.960938  29.072266  29.482422  19.451399  1795584   \n",
              "2 2009-04-08  30.361328  30.908203  29.746094  30.644531  20.218113  1202688   \n",
              "3 2009-04-09  31.240234  33.027344  31.025391  32.841797  21.667789  2358579   \n",
              "4 2009-04-13  32.470703  34.423828  32.285156  33.974609  22.415174  1897062   \n",
              "\n",
              "   year  month  day  dayofweek_num  dayofyear_num  weekofyear_num  \\\n",
              "0  2009      4    6              0             96              15   \n",
              "1  2009      4    7              1             97              15   \n",
              "2  2009      4    8              2             98              15   \n",
              "3  2009      4    9              3             99              15   \n",
              "4  2009      4   13              0            103              16   \n",
              "\n",
              "   quarter_num  daysinmonth_num  \n",
              "0            2               30  \n",
              "1            2               30  \n",
              "2            2               30  \n",
              "3            2               30  \n",
              "4            2               30  "
            ]
          },
          "execution_count": 66,
          "metadata": {},
          "output_type": "execute_result"
        }
      ],
      "source": [
        "data['year']=data['Date'].dt.year \n",
        "data['month']=data['Date'].dt.month \n",
        "data['day']=data['Date'].dt.day\n",
        "\n",
        "data['dayofweek_num']=data['Date'].dt.dayofweek  \n",
        "data['dayofyear_num']=data['Date'].dt.dayofyear \n",
        "data['weekofyear_num']=data['Date'].dt.week\n",
        "data['quarter_num']=data['Date'].dt.quarter\n",
        "data['daysinmonth_num']=data['Date'].dt.days_in_month\n",
        "\n",
        "data.head()"
      ]
    },
    {
      "cell_type": "markdown",
      "metadata": {
        "id": "mqYWwye6h3RP"
      },
      "source": [
        "---  \n",
        "### **Lag-Related** Features  \n",
        "If we like predicting the stock price for a company. So, the previous day’s stock price is important to make a prediction. In other words, the value at time t is greatly affected by the value at time t-1. The past values are known as lags, so t-1 is lag 1, t-2 is lag 2, and so on."
      ]
    },
    {
      "cell_type": "code",
      "execution_count": 67,
      "metadata": {
        "colab": {
          "base_uri": "https://localhost:8080/",
          "height": 206
        },
        "id": "Ho0jFP5PibE1",
        "outputId": "6d79411c-cf39-42db-f8e7-1f0789418606"
      },
      "outputs": [
        {
          "data": {
            "text/html": [
              "<div>\n",
              "<style scoped>\n",
              "    .dataframe tbody tr th:only-of-type {\n",
              "        vertical-align: middle;\n",
              "    }\n",
              "\n",
              "    .dataframe tbody tr th {\n",
              "        vertical-align: top;\n",
              "    }\n",
              "\n",
              "    .dataframe thead th {\n",
              "        text-align: right;\n",
              "    }\n",
              "</style>\n",
              "<table border=\"1\" class=\"dataframe\">\n",
              "  <thead>\n",
              "    <tr style=\"text-align: right;\">\n",
              "      <th></th>\n",
              "      <th>Date</th>\n",
              "      <th>lag_1</th>\n",
              "      <th>Close</th>\n",
              "    </tr>\n",
              "  </thead>\n",
              "  <tbody>\n",
              "    <tr>\n",
              "      <th>0</th>\n",
              "      <td>2009-04-06</td>\n",
              "      <td>NaN</td>\n",
              "      <td>30.703125</td>\n",
              "    </tr>\n",
              "    <tr>\n",
              "      <th>1</th>\n",
              "      <td>2009-04-07</td>\n",
              "      <td>30.703125</td>\n",
              "      <td>29.482422</td>\n",
              "    </tr>\n",
              "    <tr>\n",
              "      <th>2</th>\n",
              "      <td>2009-04-08</td>\n",
              "      <td>29.482422</td>\n",
              "      <td>30.644531</td>\n",
              "    </tr>\n",
              "    <tr>\n",
              "      <th>3</th>\n",
              "      <td>2009-04-09</td>\n",
              "      <td>30.644531</td>\n",
              "      <td>32.841797</td>\n",
              "    </tr>\n",
              "    <tr>\n",
              "      <th>4</th>\n",
              "      <td>2009-04-13</td>\n",
              "      <td>32.841797</td>\n",
              "      <td>33.974609</td>\n",
              "    </tr>\n",
              "  </tbody>\n",
              "</table>\n",
              "</div>"
            ],
            "text/plain": [
              "        Date      lag_1      Close\n",
              "0 2009-04-06        NaN  30.703125\n",
              "1 2009-04-07  30.703125  29.482422\n",
              "2 2009-04-08  29.482422  30.644531\n",
              "3 2009-04-09  30.644531  32.841797\n",
              "4 2009-04-13  32.841797  33.974609"
            ]
          },
          "execution_count": 67,
          "metadata": {},
          "output_type": "execute_result"
        }
      ],
      "source": [
        "data['lag_1'] = data['Close'].shift(1)\n",
        "\n",
        "dataX = data[['Date', 'lag_1', 'Close']]\n",
        "dataX.head()"
      ]
    },
    {
      "cell_type": "code",
      "execution_count": 68,
      "metadata": {
        "colab": {
          "base_uri": "https://localhost:8080/",
          "height": 352
        },
        "id": "JPB2sNB1nm6R",
        "outputId": "f8d6777c-1c08-4379-8f36-deb40032d002"
      },
      "outputs": [
        {
          "name": "stderr",
          "output_type": "stream",
          "text": [
            "C:\\Users\\MarcoReinle\\AppData\\Local\\Temp\\ipykernel_4392\\303724667.py:1: SettingWithCopyWarning:\n",
            "\n",
            "\n",
            "A value is trying to be set on a copy of a slice from a DataFrame.\n",
            "Try using .loc[row_indexer,col_indexer] = value instead\n",
            "\n",
            "See the caveats in the documentation: https://pandas.pydata.org/pandas-docs/stable/user_guide/indexing.html#returning-a-view-versus-a-copy\n",
            "\n"
          ]
        },
        {
          "data": {
            "text/html": [
              "<div>\n",
              "<style scoped>\n",
              "    .dataframe tbody tr th:only-of-type {\n",
              "        vertical-align: middle;\n",
              "    }\n",
              "\n",
              "    .dataframe tbody tr th {\n",
              "        vertical-align: top;\n",
              "    }\n",
              "\n",
              "    .dataframe thead th {\n",
              "        text-align: right;\n",
              "    }\n",
              "</style>\n",
              "<table border=\"1\" class=\"dataframe\">\n",
              "  <thead>\n",
              "    <tr style=\"text-align: right;\">\n",
              "      <th></th>\n",
              "      <th>Date</th>\n",
              "      <th>lag_1</th>\n",
              "      <th>Close</th>\n",
              "      <th>performance_1</th>\n",
              "    </tr>\n",
              "  </thead>\n",
              "  <tbody>\n",
              "    <tr>\n",
              "      <th>0</th>\n",
              "      <td>2009-04-06</td>\n",
              "      <td>NaN</td>\n",
              "      <td>30.703125</td>\n",
              "      <td>NaN</td>\n",
              "    </tr>\n",
              "    <tr>\n",
              "      <th>1</th>\n",
              "      <td>2009-04-07</td>\n",
              "      <td>30.703125</td>\n",
              "      <td>29.482422</td>\n",
              "      <td>-1.220703</td>\n",
              "    </tr>\n",
              "    <tr>\n",
              "      <th>2</th>\n",
              "      <td>2009-04-08</td>\n",
              "      <td>29.482422</td>\n",
              "      <td>30.644531</td>\n",
              "      <td>1.162109</td>\n",
              "    </tr>\n",
              "    <tr>\n",
              "      <th>3</th>\n",
              "      <td>2009-04-09</td>\n",
              "      <td>30.644531</td>\n",
              "      <td>32.841797</td>\n",
              "      <td>2.197266</td>\n",
              "    </tr>\n",
              "    <tr>\n",
              "      <th>4</th>\n",
              "      <td>2009-04-13</td>\n",
              "      <td>32.841797</td>\n",
              "      <td>33.974609</td>\n",
              "      <td>1.132812</td>\n",
              "    </tr>\n",
              "  </tbody>\n",
              "</table>\n",
              "</div>"
            ],
            "text/plain": [
              "        Date      lag_1      Close  performance_1\n",
              "0 2009-04-06        NaN  30.703125            NaN\n",
              "1 2009-04-07  30.703125  29.482422      -1.220703\n",
              "2 2009-04-08  29.482422  30.644531       1.162109\n",
              "3 2009-04-09  30.644531  32.841797       2.197266\n",
              "4 2009-04-13  32.841797  33.974609       1.132812"
            ]
          },
          "execution_count": 68,
          "metadata": {},
          "output_type": "execute_result"
        }
      ],
      "source": [
        "dataX['performance_1']=dataX['Close']-dataX['lag_1']\n",
        "\n",
        "dataX.head()"
      ]
    },
    {
      "cell_type": "markdown",
      "metadata": {
        "id": "OpmdO3qMouy9"
      },
      "source": [
        "If the series has a weekly trend, which means the value last Monday can be used to predict the value for this Monday, we should create lag features for seven days. \n",
        "\n",
        "We can create multiple lag features as well! Let’s say we want lag 1 to lag 7 – we can let the model decide which is the most valuable one. So, if we train a linear regression model, it will assign appropriate weights (or coefficients) to the lag features"
      ]
    },
    {
      "cell_type": "code",
      "execution_count": 69,
      "metadata": {
        "colab": {
          "base_uri": "https://localhost:8080/",
          "height": 363
        },
        "id": "mUpByKb-oTmL",
        "outputId": "8ef7c47b-039a-4ae0-e2dc-f949d705ce9d"
      },
      "outputs": [
        {
          "data": {
            "text/html": [
              "<div>\n",
              "<style scoped>\n",
              "    .dataframe tbody tr th:only-of-type {\n",
              "        vertical-align: middle;\n",
              "    }\n",
              "\n",
              "    .dataframe tbody tr th {\n",
              "        vertical-align: top;\n",
              "    }\n",
              "\n",
              "    .dataframe thead th {\n",
              "        text-align: right;\n",
              "    }\n",
              "</style>\n",
              "<table border=\"1\" class=\"dataframe\">\n",
              "  <thead>\n",
              "    <tr style=\"text-align: right;\">\n",
              "      <th></th>\n",
              "      <th>Date</th>\n",
              "      <th>lag_1</th>\n",
              "      <th>lag_2</th>\n",
              "      <th>lag_3</th>\n",
              "      <th>lag_4</th>\n",
              "      <th>lag_5</th>\n",
              "      <th>lag_6</th>\n",
              "      <th>lag_7</th>\n",
              "      <th>Close</th>\n",
              "    </tr>\n",
              "  </thead>\n",
              "  <tbody>\n",
              "    <tr>\n",
              "      <th>0</th>\n",
              "      <td>2009-04-06</td>\n",
              "      <td>NaN</td>\n",
              "      <td>NaN</td>\n",
              "      <td>NaN</td>\n",
              "      <td>NaN</td>\n",
              "      <td>NaN</td>\n",
              "      <td>NaN</td>\n",
              "      <td>NaN</td>\n",
              "      <td>30.703125</td>\n",
              "    </tr>\n",
              "    <tr>\n",
              "      <th>1</th>\n",
              "      <td>2009-04-07</td>\n",
              "      <td>30.703125</td>\n",
              "      <td>NaN</td>\n",
              "      <td>NaN</td>\n",
              "      <td>NaN</td>\n",
              "      <td>NaN</td>\n",
              "      <td>NaN</td>\n",
              "      <td>NaN</td>\n",
              "      <td>29.482422</td>\n",
              "    </tr>\n",
              "    <tr>\n",
              "      <th>2</th>\n",
              "      <td>2009-04-08</td>\n",
              "      <td>29.482422</td>\n",
              "      <td>30.703125</td>\n",
              "      <td>NaN</td>\n",
              "      <td>NaN</td>\n",
              "      <td>NaN</td>\n",
              "      <td>NaN</td>\n",
              "      <td>NaN</td>\n",
              "      <td>30.644531</td>\n",
              "    </tr>\n",
              "    <tr>\n",
              "      <th>3</th>\n",
              "      <td>2009-04-09</td>\n",
              "      <td>30.644531</td>\n",
              "      <td>29.482422</td>\n",
              "      <td>30.703125</td>\n",
              "      <td>NaN</td>\n",
              "      <td>NaN</td>\n",
              "      <td>NaN</td>\n",
              "      <td>NaN</td>\n",
              "      <td>32.841797</td>\n",
              "    </tr>\n",
              "    <tr>\n",
              "      <th>4</th>\n",
              "      <td>2009-04-13</td>\n",
              "      <td>32.841797</td>\n",
              "      <td>30.644531</td>\n",
              "      <td>29.482422</td>\n",
              "      <td>30.703125</td>\n",
              "      <td>NaN</td>\n",
              "      <td>NaN</td>\n",
              "      <td>NaN</td>\n",
              "      <td>33.974609</td>\n",
              "    </tr>\n",
              "    <tr>\n",
              "      <th>5</th>\n",
              "      <td>2009-04-14</td>\n",
              "      <td>33.974609</td>\n",
              "      <td>32.841797</td>\n",
              "      <td>30.644531</td>\n",
              "      <td>29.482422</td>\n",
              "      <td>30.703125</td>\n",
              "      <td>NaN</td>\n",
              "      <td>NaN</td>\n",
              "      <td>31.689453</td>\n",
              "    </tr>\n",
              "    <tr>\n",
              "      <th>6</th>\n",
              "      <td>2009-04-15</td>\n",
              "      <td>31.689453</td>\n",
              "      <td>33.974609</td>\n",
              "      <td>32.841797</td>\n",
              "      <td>30.644531</td>\n",
              "      <td>29.482422</td>\n",
              "      <td>30.703125</td>\n",
              "      <td>NaN</td>\n",
              "      <td>32.910156</td>\n",
              "    </tr>\n",
              "    <tr>\n",
              "      <th>7</th>\n",
              "      <td>2009-04-16</td>\n",
              "      <td>32.910156</td>\n",
              "      <td>31.689453</td>\n",
              "      <td>33.974609</td>\n",
              "      <td>32.841797</td>\n",
              "      <td>30.644531</td>\n",
              "      <td>29.482422</td>\n",
              "      <td>30.703125</td>\n",
              "      <td>35.087891</td>\n",
              "    </tr>\n",
              "    <tr>\n",
              "      <th>8</th>\n",
              "      <td>2009-04-17</td>\n",
              "      <td>35.087891</td>\n",
              "      <td>32.910156</td>\n",
              "      <td>31.689453</td>\n",
              "      <td>33.974609</td>\n",
              "      <td>32.841797</td>\n",
              "      <td>30.644531</td>\n",
              "      <td>29.482422</td>\n",
              "      <td>33.300781</td>\n",
              "    </tr>\n",
              "    <tr>\n",
              "      <th>9</th>\n",
              "      <td>2009-04-20</td>\n",
              "      <td>33.300781</td>\n",
              "      <td>35.087891</td>\n",
              "      <td>32.910156</td>\n",
              "      <td>31.689453</td>\n",
              "      <td>33.974609</td>\n",
              "      <td>32.841797</td>\n",
              "      <td>30.644531</td>\n",
              "      <td>30.361328</td>\n",
              "    </tr>\n",
              "  </tbody>\n",
              "</table>\n",
              "</div>"
            ],
            "text/plain": [
              "        Date      lag_1      lag_2      lag_3      lag_4      lag_5  \\\n",
              "0 2009-04-06        NaN        NaN        NaN        NaN        NaN   \n",
              "1 2009-04-07  30.703125        NaN        NaN        NaN        NaN   \n",
              "2 2009-04-08  29.482422  30.703125        NaN        NaN        NaN   \n",
              "3 2009-04-09  30.644531  29.482422  30.703125        NaN        NaN   \n",
              "4 2009-04-13  32.841797  30.644531  29.482422  30.703125        NaN   \n",
              "5 2009-04-14  33.974609  32.841797  30.644531  29.482422  30.703125   \n",
              "6 2009-04-15  31.689453  33.974609  32.841797  30.644531  29.482422   \n",
              "7 2009-04-16  32.910156  31.689453  33.974609  32.841797  30.644531   \n",
              "8 2009-04-17  35.087891  32.910156  31.689453  33.974609  32.841797   \n",
              "9 2009-04-20  33.300781  35.087891  32.910156  31.689453  33.974609   \n",
              "\n",
              "       lag_6      lag_7      Close  \n",
              "0        NaN        NaN  30.703125  \n",
              "1        NaN        NaN  29.482422  \n",
              "2        NaN        NaN  30.644531  \n",
              "3        NaN        NaN  32.841797  \n",
              "4        NaN        NaN  33.974609  \n",
              "5        NaN        NaN  31.689453  \n",
              "6  30.703125        NaN  32.910156  \n",
              "7  29.482422  30.703125  35.087891  \n",
              "8  30.644531  29.482422  33.300781  \n",
              "9  32.841797  30.644531  30.361328  "
            ]
          },
          "execution_count": 69,
          "metadata": {},
          "output_type": "execute_result"
        }
      ],
      "source": [
        "data['lag_1'] = data['Close'].shift(1)\n",
        "data['lag_2'] = data['Close'].shift(2)\n",
        "data['lag_3'] = data['Close'].shift(3)\n",
        "data['lag_4'] = data['Close'].shift(4)\n",
        "data['lag_5'] = data['Close'].shift(5)\n",
        "data['lag_6'] = data['Close'].shift(6)\n",
        "data['lag_7'] = data['Close'].shift(7)\n",
        "\n",
        "dataX = data[['Date', 'lag_1', 'lag_2', 'lag_3', 'lag_4', 'lag_5', 'lag_6', 'lag_7', 'Close']]\n",
        "dataX.head(10)"
      ]
    },
    {
      "cell_type": "markdown",
      "metadata": {
        "id": "JGyYzkFQpMID"
      },
      "source": [
        "---  \n",
        "### **Rolling Window** Features  \n",
        "How about calculating some statistical values based on past values? This method is called the rolling window method because the window would be different for every data point.  \n",
        "\n",
        "We will select a window size, take the average of the values in the window, and use it as a feature."
      ]
    },
    {
      "cell_type": "code",
      "execution_count": 70,
      "metadata": {
        "colab": {
          "base_uri": "https://localhost:8080/",
          "height": 363
        },
        "id": "5Onpi192prXO",
        "outputId": "965aa856-9d04-4733-aa47-64d0c9d0ea43"
      },
      "outputs": [
        {
          "data": {
            "text/html": [
              "<div>\n",
              "<style scoped>\n",
              "    .dataframe tbody tr th:only-of-type {\n",
              "        vertical-align: middle;\n",
              "    }\n",
              "\n",
              "    .dataframe tbody tr th {\n",
              "        vertical-align: top;\n",
              "    }\n",
              "\n",
              "    .dataframe thead th {\n",
              "        text-align: right;\n",
              "    }\n",
              "</style>\n",
              "<table border=\"1\" class=\"dataframe\">\n",
              "  <thead>\n",
              "    <tr style=\"text-align: right;\">\n",
              "      <th></th>\n",
              "      <th>Date</th>\n",
              "      <th>rolling_mean7</th>\n",
              "      <th>Close</th>\n",
              "    </tr>\n",
              "  </thead>\n",
              "  <tbody>\n",
              "    <tr>\n",
              "      <th>0</th>\n",
              "      <td>2009-04-06</td>\n",
              "      <td>NaN</td>\n",
              "      <td>30.703125</td>\n",
              "    </tr>\n",
              "    <tr>\n",
              "      <th>1</th>\n",
              "      <td>2009-04-07</td>\n",
              "      <td>NaN</td>\n",
              "      <td>29.482422</td>\n",
              "    </tr>\n",
              "    <tr>\n",
              "      <th>2</th>\n",
              "      <td>2009-04-08</td>\n",
              "      <td>NaN</td>\n",
              "      <td>30.644531</td>\n",
              "    </tr>\n",
              "    <tr>\n",
              "      <th>3</th>\n",
              "      <td>2009-04-09</td>\n",
              "      <td>NaN</td>\n",
              "      <td>32.841797</td>\n",
              "    </tr>\n",
              "    <tr>\n",
              "      <th>4</th>\n",
              "      <td>2009-04-13</td>\n",
              "      <td>NaN</td>\n",
              "      <td>33.974609</td>\n",
              "    </tr>\n",
              "    <tr>\n",
              "      <th>5</th>\n",
              "      <td>2009-04-14</td>\n",
              "      <td>NaN</td>\n",
              "      <td>31.689453</td>\n",
              "    </tr>\n",
              "    <tr>\n",
              "      <th>6</th>\n",
              "      <td>2009-04-15</td>\n",
              "      <td>31.749442</td>\n",
              "      <td>32.910156</td>\n",
              "    </tr>\n",
              "    <tr>\n",
              "      <th>7</th>\n",
              "      <td>2009-04-16</td>\n",
              "      <td>32.375837</td>\n",
              "      <td>35.087891</td>\n",
              "    </tr>\n",
              "    <tr>\n",
              "      <th>8</th>\n",
              "      <td>2009-04-17</td>\n",
              "      <td>32.921317</td>\n",
              "      <td>33.300781</td>\n",
              "    </tr>\n",
              "    <tr>\n",
              "      <th>9</th>\n",
              "      <td>2009-04-20</td>\n",
              "      <td>32.880859</td>\n",
              "      <td>30.361328</td>\n",
              "    </tr>\n",
              "  </tbody>\n",
              "</table>\n",
              "</div>"
            ],
            "text/plain": [
              "        Date  rolling_mean7      Close\n",
              "0 2009-04-06            NaN  30.703125\n",
              "1 2009-04-07            NaN  29.482422\n",
              "2 2009-04-08            NaN  30.644531\n",
              "3 2009-04-09            NaN  32.841797\n",
              "4 2009-04-13            NaN  33.974609\n",
              "5 2009-04-14            NaN  31.689453\n",
              "6 2009-04-15      31.749442  32.910156\n",
              "7 2009-04-16      32.375837  35.087891\n",
              "8 2009-04-17      32.921317  33.300781\n",
              "9 2009-04-20      32.880859  30.361328"
            ]
          },
          "execution_count": 70,
          "metadata": {},
          "output_type": "execute_result"
        }
      ],
      "source": [
        "data['rolling_mean7'] = data['Close'].rolling(window=7).mean()\n",
        "\n",
        "dataX = data[['Date', 'rolling_mean7', 'Close']]\n",
        "dataX.head(10)"
      ]
    },
    {
      "cell_type": "code",
      "execution_count": 71,
      "metadata": {
        "colab": {
          "base_uri": "https://localhost:8080/",
          "height": 617
        },
        "id": "jHdsemAqq-6e",
        "outputId": "7ffdec76-b94e-4d24-c2f4-4d592cd7d8f8"
      },
      "outputs": [
        {
          "data": {
            "application/vnd.plotly.v1+json": {
              "config": {
                "plotlyServerURL": "https://plot.ly"
              },
              "data": [
                {
                  "hovertemplate": "variable=Close<br>Date=%{x}<br>value=%{y}<extra></extra>",
                  "legendgroup": "Close",
                  "line": {
                    "color": "#636efa",
                    "dash": "solid"
                  },
                  "marker": {
                    "symbol": "circle"
                  },
                  "mode": "lines",
                  "name": "Close",
                  "orientation": "v",
                  "showlegend": true,
                  "type": "scatter",
                  "x": [
                    "2019-01-02T00:00:00",
                    "2019-01-03T00:00:00",
                    "2019-01-04T00:00:00",
                    "2019-01-07T00:00:00",
                    "2019-01-08T00:00:00",
                    "2019-01-09T00:00:00",
                    "2019-01-10T00:00:00",
                    "2019-01-11T00:00:00",
                    "2019-01-14T00:00:00",
                    "2019-01-15T00:00:00",
                    "2019-01-16T00:00:00",
                    "2019-01-17T00:00:00",
                    "2019-01-18T00:00:00",
                    "2019-01-22T00:00:00",
                    "2019-01-23T00:00:00",
                    "2019-01-24T00:00:00",
                    "2019-01-25T00:00:00",
                    "2019-01-28T00:00:00",
                    "2019-01-29T00:00:00",
                    "2019-01-30T00:00:00",
                    "2019-01-31T00:00:00",
                    "2019-02-01T00:00:00",
                    "2019-02-04T00:00:00",
                    "2019-02-05T00:00:00",
                    "2019-02-06T00:00:00",
                    "2019-02-07T00:00:00",
                    "2019-02-08T00:00:00",
                    "2019-02-11T00:00:00",
                    "2019-02-12T00:00:00",
                    "2019-02-13T00:00:00",
                    "2019-02-14T00:00:00",
                    "2019-02-15T00:00:00",
                    "2019-02-19T00:00:00",
                    "2019-02-20T00:00:00",
                    "2019-02-21T00:00:00",
                    "2019-02-22T00:00:00",
                    "2019-02-25T00:00:00",
                    "2019-02-26T00:00:00",
                    "2019-02-27T00:00:00",
                    "2019-02-28T00:00:00",
                    "2019-03-01T00:00:00",
                    "2019-03-04T00:00:00",
                    "2019-03-05T00:00:00",
                    "2019-03-06T00:00:00",
                    "2019-03-07T00:00:00",
                    "2019-03-08T00:00:00",
                    "2019-03-11T00:00:00",
                    "2019-03-12T00:00:00",
                    "2019-03-13T00:00:00",
                    "2019-03-14T00:00:00",
                    "2019-03-15T00:00:00",
                    "2019-03-18T00:00:00",
                    "2019-03-19T00:00:00",
                    "2019-03-20T00:00:00",
                    "2019-03-21T00:00:00",
                    "2019-03-22T00:00:00",
                    "2019-03-25T00:00:00",
                    "2019-03-26T00:00:00",
                    "2019-03-27T00:00:00",
                    "2019-03-28T00:00:00",
                    "2019-03-29T00:00:00",
                    "2019-04-01T00:00:00",
                    "2019-04-02T00:00:00",
                    "2019-04-03T00:00:00",
                    "2019-04-04T00:00:00",
                    "2019-04-05T00:00:00",
                    "2019-04-08T00:00:00",
                    "2019-04-09T00:00:00",
                    "2019-04-10T00:00:00",
                    "2019-04-11T00:00:00",
                    "2019-04-12T00:00:00",
                    "2019-04-15T00:00:00",
                    "2019-04-16T00:00:00",
                    "2019-04-17T00:00:00",
                    "2019-04-18T00:00:00",
                    "2019-04-22T00:00:00",
                    "2019-04-23T00:00:00",
                    "2019-04-24T00:00:00",
                    "2019-04-25T00:00:00",
                    "2019-04-26T00:00:00",
                    "2019-04-29T00:00:00",
                    "2019-04-30T00:00:00",
                    "2019-05-01T00:00:00",
                    "2019-05-02T00:00:00",
                    "2019-05-03T00:00:00",
                    "2019-05-06T00:00:00",
                    "2019-05-07T00:00:00",
                    "2019-05-08T00:00:00",
                    "2019-05-09T00:00:00",
                    "2019-05-10T00:00:00",
                    "2019-05-13T00:00:00",
                    "2019-05-14T00:00:00",
                    "2019-05-15T00:00:00",
                    "2019-05-16T00:00:00",
                    "2019-05-17T00:00:00",
                    "2019-05-20T00:00:00",
                    "2019-05-21T00:00:00",
                    "2019-05-22T00:00:00",
                    "2019-05-23T00:00:00",
                    "2019-05-24T00:00:00",
                    "2019-05-28T00:00:00",
                    "2019-05-29T00:00:00",
                    "2019-05-30T00:00:00",
                    "2019-05-31T00:00:00",
                    "2019-06-03T00:00:00",
                    "2019-06-04T00:00:00",
                    "2019-06-05T00:00:00",
                    "2019-06-06T00:00:00",
                    "2019-06-07T00:00:00",
                    "2019-06-10T00:00:00",
                    "2019-06-11T00:00:00",
                    "2019-06-12T00:00:00",
                    "2019-06-13T00:00:00",
                    "2019-06-14T00:00:00",
                    "2019-06-17T00:00:00",
                    "2019-06-18T00:00:00",
                    "2019-06-19T00:00:00",
                    "2019-06-20T00:00:00",
                    "2019-06-21T00:00:00",
                    "2019-06-24T00:00:00",
                    "2019-06-25T00:00:00",
                    "2019-06-26T00:00:00",
                    "2019-06-27T00:00:00",
                    "2019-06-28T00:00:00",
                    "2019-07-01T00:00:00",
                    "2019-07-02T00:00:00",
                    "2019-07-03T00:00:00",
                    "2019-07-05T00:00:00",
                    "2019-07-08T00:00:00",
                    "2019-07-09T00:00:00",
                    "2019-07-10T00:00:00",
                    "2019-07-11T00:00:00",
                    "2019-07-12T00:00:00",
                    "2019-07-15T00:00:00",
                    "2019-07-16T00:00:00",
                    "2019-07-17T00:00:00",
                    "2019-07-18T00:00:00",
                    "2019-07-19T00:00:00",
                    "2019-07-22T00:00:00",
                    "2019-07-23T00:00:00",
                    "2019-07-24T00:00:00",
                    "2019-07-25T00:00:00",
                    "2019-07-26T00:00:00",
                    "2019-07-29T00:00:00",
                    "2019-07-30T00:00:00",
                    "2019-07-31T00:00:00",
                    "2019-08-01T00:00:00",
                    "2019-08-02T00:00:00",
                    "2019-08-05T00:00:00",
                    "2019-08-06T00:00:00",
                    "2019-08-07T00:00:00",
                    "2019-08-08T00:00:00",
                    "2019-08-09T00:00:00",
                    "2019-08-12T00:00:00",
                    "2019-08-13T00:00:00",
                    "2019-08-14T00:00:00",
                    "2019-08-15T00:00:00",
                    "2019-08-16T00:00:00",
                    "2019-08-19T00:00:00",
                    "2019-08-20T00:00:00",
                    "2019-08-21T00:00:00",
                    "2019-08-22T00:00:00",
                    "2019-08-23T00:00:00",
                    "2019-08-26T00:00:00",
                    "2019-08-27T00:00:00",
                    "2019-08-28T00:00:00",
                    "2019-08-29T00:00:00",
                    "2019-08-30T00:00:00",
                    "2019-09-03T00:00:00",
                    "2019-09-04T00:00:00",
                    "2019-09-05T00:00:00",
                    "2019-09-06T00:00:00",
                    "2019-09-09T00:00:00",
                    "2019-09-10T00:00:00",
                    "2019-09-11T00:00:00",
                    "2019-09-12T00:00:00",
                    "2019-09-13T00:00:00",
                    "2019-09-16T00:00:00",
                    "2019-09-17T00:00:00",
                    "2019-09-18T00:00:00",
                    "2019-09-19T00:00:00",
                    "2019-09-20T00:00:00",
                    "2019-09-23T00:00:00",
                    "2019-09-24T00:00:00",
                    "2019-09-25T00:00:00",
                    "2019-09-26T00:00:00",
                    "2019-09-27T00:00:00",
                    "2019-09-30T00:00:00",
                    "2019-10-01T00:00:00",
                    "2019-10-02T00:00:00",
                    "2019-10-03T00:00:00",
                    "2019-10-04T00:00:00",
                    "2019-10-07T00:00:00",
                    "2019-10-08T00:00:00",
                    "2019-10-09T00:00:00",
                    "2019-10-10T00:00:00",
                    "2019-10-11T00:00:00",
                    "2019-10-14T00:00:00",
                    "2019-10-15T00:00:00",
                    "2019-10-16T00:00:00",
                    "2019-10-17T00:00:00",
                    "2019-10-18T00:00:00",
                    "2019-10-21T00:00:00",
                    "2019-10-22T00:00:00",
                    "2019-10-23T00:00:00",
                    "2019-10-24T00:00:00",
                    "2019-10-25T00:00:00",
                    "2019-10-28T00:00:00",
                    "2019-10-29T00:00:00",
                    "2019-10-30T00:00:00",
                    "2019-10-31T00:00:00",
                    "2019-11-01T00:00:00",
                    "2019-11-04T00:00:00",
                    "2019-11-05T00:00:00",
                    "2019-11-06T00:00:00",
                    "2019-11-07T00:00:00",
                    "2019-11-08T00:00:00",
                    "2019-11-11T00:00:00",
                    "2019-11-12T00:00:00",
                    "2019-11-13T00:00:00",
                    "2019-11-14T00:00:00",
                    "2019-11-15T00:00:00",
                    "2019-11-18T00:00:00",
                    "2019-11-19T00:00:00",
                    "2019-11-20T00:00:00",
                    "2019-11-21T00:00:00",
                    "2019-11-22T00:00:00",
                    "2019-11-25T00:00:00",
                    "2019-11-26T00:00:00",
                    "2019-11-27T00:00:00",
                    "2019-11-29T00:00:00",
                    "2019-12-02T00:00:00",
                    "2019-12-03T00:00:00",
                    "2019-12-04T00:00:00",
                    "2019-12-05T00:00:00",
                    "2019-12-06T00:00:00",
                    "2019-12-09T00:00:00",
                    "2019-12-10T00:00:00",
                    "2019-12-11T00:00:00",
                    "2019-12-12T00:00:00",
                    "2019-12-13T00:00:00",
                    "2019-12-16T00:00:00",
                    "2019-12-17T00:00:00",
                    "2019-12-18T00:00:00",
                    "2019-12-19T00:00:00",
                    "2019-12-20T00:00:00",
                    "2019-12-23T00:00:00",
                    "2019-12-24T00:00:00",
                    "2019-12-26T00:00:00",
                    "2019-12-27T00:00:00",
                    "2019-12-30T00:00:00"
                  ],
                  "xaxis": "x",
                  "y": [
                    11.04,
                    10.95,
                    11.31,
                    11.39,
                    11.55,
                    11.56,
                    11.75,
                    11.82,
                    11.9,
                    11.88,
                    12.19,
                    12.15,
                    12.37,
                    12.2,
                    12.31,
                    12.31,
                    12.48,
                    12.35,
                    12.34,
                    12.42,
                    12.11,
                    12.01,
                    11.98,
                    12.14,
                    12.12,
                    11.84,
                    11.7,
                    11.68,
                    11.88,
                    11.99,
                    11.56,
                    11.75,
                    11.9,
                    12.02,
                    11.89,
                    11.87,
                    12.08,
                    12.19,
                    12.33,
                    12.31,
                    12.36,
                    12.42,
                    12.23,
                    12.13,
                    11.84,
                    11.75,
                    11.93,
                    11.81,
                    11.98,
                    12.03,
                    12.06,
                    12.35,
                    12.36,
                    12.01,
                    11.91,
                    11.51,
                    11.39,
                    11.45,
                    11.48,
                    11.5,
                    11.65,
                    12.03,
                    12.06,
                    12.24,
                    12.32,
                    12.24,
                    12.24,
                    12.21,
                    12.21,
                    12.44,
                    12.84,
                    12.91,
                    13.26,
                    13.6,
                    13.44,
                    13.4,
                    13.26,
                    13.2,
                    13.31,
                    13.41,
                    13.52,
                    13.3,
                    13.18,
                    13.24,
                    12.97,
                    12.69,
                    12.41,
                    12.45,
                    12.31,
                    12.33,
                    11.76,
                    11.86,
                    11.86,
                    11.92,
                    11.79,
                    11.73,
                    11.9,
                    11.74,
                    11.54,
                    11.64,
                    11.52,
                    11.47,
                    11.44,
                    11.27,
                    11.3,
                    11.74,
                    11.71,
                    11.6,
                    11.54,
                    11.63,
                    11.72,
                    11.49,
                    11.54,
                    11.45,
                    11.4,
                    11.6,
                    11.73,
                    11.82,
                    11.7,
                    11.66,
                    11.58,
                    11.72,
                    12.02,
                    11.97,
                    12.04,
                    11.97,
                    12.1,
                    12.25,
                    12.03,
                    11.94,
                    12.01,
                    12.2,
                    12.31,
                    12.27,
                    12.37,
                    12.32,
                    12.43,
                    12.24,
                    12.31,
                    12.61,
                    12.48,
                    12.13,
                    12.05,
                    12,
                    11.93,
                    12.07,
                    11.83,
                    11.74,
                    11.37,
                    11.5,
                    11.43,
                    11.58,
                    11.58,
                    11.29,
                    11.39,
                    10.96,
                    11,
                    11.27,
                    11.39,
                    11.28,
                    11.34,
                    11.48,
                    11.29,
                    11.41,
                    11.31,
                    11.35,
                    11.53,
                    11.68,
                    11.63,
                    11.84,
                    12.16,
                    12.23,
                    12.59,
                    12.9,
                    13.04,
                    12.98,
                    13.12,
                    12.95,
                    12.78,
                    12.78,
                    12.86,
                    12.82,
                    12.59,
                    12.4,
                    12.24,
                    12.19,
                    12.16,
                    12.21,
                    11.88,
                    11.59,
                    11.49,
                    11.55,
                    11.48,
                    11.43,
                    11.42,
                    11.62,
                    11.94,
                    11.98,
                    12.19,
                    12.32,
                    12.29,
                    12.33,
                    12.49,
                    12.47,
                    12.6,
                    12.5,
                    12.57,
                    12.69,
                    12.71,
                    12.53,
                    12.38,
                    12.62,
                    13.07,
                    13.04,
                    12.98,
                    13.13,
                    13.06,
                    13.09,
                    13.04,
                    12.85,
                    12.85,
                    13.02,
                    13.01,
                    13.05,
                    13.01,
                    13.15,
                    13.27,
                    13.33,
                    13.27,
                    13.29,
                    13.09,
                    13.11,
                    12.83,
                    12.94,
                    12.99,
                    13.08,
                    13.12,
                    13.06,
                    12.95,
                    13.31,
                    13.34,
                    13.5,
                    13.63,
                    13.61,
                    13.54,
                    13.24,
                    13.24,
                    13.22,
                    13.26,
                    13.41,
                    13.43
                  ],
                  "yaxis": "y"
                },
                {
                  "hovertemplate": "variable=rolling_mean7<br>Date=%{x}<br>value=%{y}<extra></extra>",
                  "legendgroup": "rolling_mean7",
                  "line": {
                    "color": "#EF553B",
                    "dash": "solid"
                  },
                  "marker": {
                    "symbol": "circle"
                  },
                  "mode": "lines",
                  "name": "rolling_mean7",
                  "orientation": "v",
                  "showlegend": true,
                  "type": "scatter",
                  "x": [
                    "2019-01-02T00:00:00",
                    "2019-01-03T00:00:00",
                    "2019-01-04T00:00:00",
                    "2019-01-07T00:00:00",
                    "2019-01-08T00:00:00",
                    "2019-01-09T00:00:00",
                    "2019-01-10T00:00:00",
                    "2019-01-11T00:00:00",
                    "2019-01-14T00:00:00",
                    "2019-01-15T00:00:00",
                    "2019-01-16T00:00:00",
                    "2019-01-17T00:00:00",
                    "2019-01-18T00:00:00",
                    "2019-01-22T00:00:00",
                    "2019-01-23T00:00:00",
                    "2019-01-24T00:00:00",
                    "2019-01-25T00:00:00",
                    "2019-01-28T00:00:00",
                    "2019-01-29T00:00:00",
                    "2019-01-30T00:00:00",
                    "2019-01-31T00:00:00",
                    "2019-02-01T00:00:00",
                    "2019-02-04T00:00:00",
                    "2019-02-05T00:00:00",
                    "2019-02-06T00:00:00",
                    "2019-02-07T00:00:00",
                    "2019-02-08T00:00:00",
                    "2019-02-11T00:00:00",
                    "2019-02-12T00:00:00",
                    "2019-02-13T00:00:00",
                    "2019-02-14T00:00:00",
                    "2019-02-15T00:00:00",
                    "2019-02-19T00:00:00",
                    "2019-02-20T00:00:00",
                    "2019-02-21T00:00:00",
                    "2019-02-22T00:00:00",
                    "2019-02-25T00:00:00",
                    "2019-02-26T00:00:00",
                    "2019-02-27T00:00:00",
                    "2019-02-28T00:00:00",
                    "2019-03-01T00:00:00",
                    "2019-03-04T00:00:00",
                    "2019-03-05T00:00:00",
                    "2019-03-06T00:00:00",
                    "2019-03-07T00:00:00",
                    "2019-03-08T00:00:00",
                    "2019-03-11T00:00:00",
                    "2019-03-12T00:00:00",
                    "2019-03-13T00:00:00",
                    "2019-03-14T00:00:00",
                    "2019-03-15T00:00:00",
                    "2019-03-18T00:00:00",
                    "2019-03-19T00:00:00",
                    "2019-03-20T00:00:00",
                    "2019-03-21T00:00:00",
                    "2019-03-22T00:00:00",
                    "2019-03-25T00:00:00",
                    "2019-03-26T00:00:00",
                    "2019-03-27T00:00:00",
                    "2019-03-28T00:00:00",
                    "2019-03-29T00:00:00",
                    "2019-04-01T00:00:00",
                    "2019-04-02T00:00:00",
                    "2019-04-03T00:00:00",
                    "2019-04-04T00:00:00",
                    "2019-04-05T00:00:00",
                    "2019-04-08T00:00:00",
                    "2019-04-09T00:00:00",
                    "2019-04-10T00:00:00",
                    "2019-04-11T00:00:00",
                    "2019-04-12T00:00:00",
                    "2019-04-15T00:00:00",
                    "2019-04-16T00:00:00",
                    "2019-04-17T00:00:00",
                    "2019-04-18T00:00:00",
                    "2019-04-22T00:00:00",
                    "2019-04-23T00:00:00",
                    "2019-04-24T00:00:00",
                    "2019-04-25T00:00:00",
                    "2019-04-26T00:00:00",
                    "2019-04-29T00:00:00",
                    "2019-04-30T00:00:00",
                    "2019-05-01T00:00:00",
                    "2019-05-02T00:00:00",
                    "2019-05-03T00:00:00",
                    "2019-05-06T00:00:00",
                    "2019-05-07T00:00:00",
                    "2019-05-08T00:00:00",
                    "2019-05-09T00:00:00",
                    "2019-05-10T00:00:00",
                    "2019-05-13T00:00:00",
                    "2019-05-14T00:00:00",
                    "2019-05-15T00:00:00",
                    "2019-05-16T00:00:00",
                    "2019-05-17T00:00:00",
                    "2019-05-20T00:00:00",
                    "2019-05-21T00:00:00",
                    "2019-05-22T00:00:00",
                    "2019-05-23T00:00:00",
                    "2019-05-24T00:00:00",
                    "2019-05-28T00:00:00",
                    "2019-05-29T00:00:00",
                    "2019-05-30T00:00:00",
                    "2019-05-31T00:00:00",
                    "2019-06-03T00:00:00",
                    "2019-06-04T00:00:00",
                    "2019-06-05T00:00:00",
                    "2019-06-06T00:00:00",
                    "2019-06-07T00:00:00",
                    "2019-06-10T00:00:00",
                    "2019-06-11T00:00:00",
                    "2019-06-12T00:00:00",
                    "2019-06-13T00:00:00",
                    "2019-06-14T00:00:00",
                    "2019-06-17T00:00:00",
                    "2019-06-18T00:00:00",
                    "2019-06-19T00:00:00",
                    "2019-06-20T00:00:00",
                    "2019-06-21T00:00:00",
                    "2019-06-24T00:00:00",
                    "2019-06-25T00:00:00",
                    "2019-06-26T00:00:00",
                    "2019-06-27T00:00:00",
                    "2019-06-28T00:00:00",
                    "2019-07-01T00:00:00",
                    "2019-07-02T00:00:00",
                    "2019-07-03T00:00:00",
                    "2019-07-05T00:00:00",
                    "2019-07-08T00:00:00",
                    "2019-07-09T00:00:00",
                    "2019-07-10T00:00:00",
                    "2019-07-11T00:00:00",
                    "2019-07-12T00:00:00",
                    "2019-07-15T00:00:00",
                    "2019-07-16T00:00:00",
                    "2019-07-17T00:00:00",
                    "2019-07-18T00:00:00",
                    "2019-07-19T00:00:00",
                    "2019-07-22T00:00:00",
                    "2019-07-23T00:00:00",
                    "2019-07-24T00:00:00",
                    "2019-07-25T00:00:00",
                    "2019-07-26T00:00:00",
                    "2019-07-29T00:00:00",
                    "2019-07-30T00:00:00",
                    "2019-07-31T00:00:00",
                    "2019-08-01T00:00:00",
                    "2019-08-02T00:00:00",
                    "2019-08-05T00:00:00",
                    "2019-08-06T00:00:00",
                    "2019-08-07T00:00:00",
                    "2019-08-08T00:00:00",
                    "2019-08-09T00:00:00",
                    "2019-08-12T00:00:00",
                    "2019-08-13T00:00:00",
                    "2019-08-14T00:00:00",
                    "2019-08-15T00:00:00",
                    "2019-08-16T00:00:00",
                    "2019-08-19T00:00:00",
                    "2019-08-20T00:00:00",
                    "2019-08-21T00:00:00",
                    "2019-08-22T00:00:00",
                    "2019-08-23T00:00:00",
                    "2019-08-26T00:00:00",
                    "2019-08-27T00:00:00",
                    "2019-08-28T00:00:00",
                    "2019-08-29T00:00:00",
                    "2019-08-30T00:00:00",
                    "2019-09-03T00:00:00",
                    "2019-09-04T00:00:00",
                    "2019-09-05T00:00:00",
                    "2019-09-06T00:00:00",
                    "2019-09-09T00:00:00",
                    "2019-09-10T00:00:00",
                    "2019-09-11T00:00:00",
                    "2019-09-12T00:00:00",
                    "2019-09-13T00:00:00",
                    "2019-09-16T00:00:00",
                    "2019-09-17T00:00:00",
                    "2019-09-18T00:00:00",
                    "2019-09-19T00:00:00",
                    "2019-09-20T00:00:00",
                    "2019-09-23T00:00:00",
                    "2019-09-24T00:00:00",
                    "2019-09-25T00:00:00",
                    "2019-09-26T00:00:00",
                    "2019-09-27T00:00:00",
                    "2019-09-30T00:00:00",
                    "2019-10-01T00:00:00",
                    "2019-10-02T00:00:00",
                    "2019-10-03T00:00:00",
                    "2019-10-04T00:00:00",
                    "2019-10-07T00:00:00",
                    "2019-10-08T00:00:00",
                    "2019-10-09T00:00:00",
                    "2019-10-10T00:00:00",
                    "2019-10-11T00:00:00",
                    "2019-10-14T00:00:00",
                    "2019-10-15T00:00:00",
                    "2019-10-16T00:00:00",
                    "2019-10-17T00:00:00",
                    "2019-10-18T00:00:00",
                    "2019-10-21T00:00:00",
                    "2019-10-22T00:00:00",
                    "2019-10-23T00:00:00",
                    "2019-10-24T00:00:00",
                    "2019-10-25T00:00:00",
                    "2019-10-28T00:00:00",
                    "2019-10-29T00:00:00",
                    "2019-10-30T00:00:00",
                    "2019-10-31T00:00:00",
                    "2019-11-01T00:00:00",
                    "2019-11-04T00:00:00",
                    "2019-11-05T00:00:00",
                    "2019-11-06T00:00:00",
                    "2019-11-07T00:00:00",
                    "2019-11-08T00:00:00",
                    "2019-11-11T00:00:00",
                    "2019-11-12T00:00:00",
                    "2019-11-13T00:00:00",
                    "2019-11-14T00:00:00",
                    "2019-11-15T00:00:00",
                    "2019-11-18T00:00:00",
                    "2019-11-19T00:00:00",
                    "2019-11-20T00:00:00",
                    "2019-11-21T00:00:00",
                    "2019-11-22T00:00:00",
                    "2019-11-25T00:00:00",
                    "2019-11-26T00:00:00",
                    "2019-11-27T00:00:00",
                    "2019-11-29T00:00:00",
                    "2019-12-02T00:00:00",
                    "2019-12-03T00:00:00",
                    "2019-12-04T00:00:00",
                    "2019-12-05T00:00:00",
                    "2019-12-06T00:00:00",
                    "2019-12-09T00:00:00",
                    "2019-12-10T00:00:00",
                    "2019-12-11T00:00:00",
                    "2019-12-12T00:00:00",
                    "2019-12-13T00:00:00",
                    "2019-12-16T00:00:00",
                    "2019-12-17T00:00:00",
                    "2019-12-18T00:00:00",
                    "2019-12-19T00:00:00",
                    "2019-12-20T00:00:00",
                    "2019-12-23T00:00:00",
                    "2019-12-24T00:00:00",
                    "2019-12-26T00:00:00",
                    "2019-12-27T00:00:00",
                    "2019-12-30T00:00:00"
                  ],
                  "xaxis": "x",
                  "y": [
                    10.73857142857143,
                    10.801428571428572,
                    10.928571428571429,
                    11.012857142857143,
                    11.138571428571428,
                    11.237142857142858,
                    11.364285714285716,
                    11.475714285714286,
                    11.611428571428572,
                    11.692857142857141,
                    11.807142857142859,
                    11.892857142857142,
                    12.008571428571429,
                    12.072857142857142,
                    12.142857142857142,
                    12.20142857142857,
                    12.287142857142857,
                    12.31,
                    12.337142857142856,
                    12.344285714285716,
                    12.331428571428573,
                    12.288571428571428,
                    12.241428571428571,
                    12.192857142857141,
                    12.16,
                    12.088571428571429,
                    11.985714285714284,
                    11.924285714285714,
                    11.905714285714286,
                    11.907142857142857,
                    11.824285714285713,
                    11.77142857142857,
                    11.780000000000001,
                    11.825714285714286,
                    11.855714285714285,
                    11.854285714285714,
                    11.867142857142857,
                    11.957142857142857,
                    12.040000000000001,
                    12.098571428571429,
                    12.147142857142857,
                    12.222857142857142,
                    12.274285714285714,
                    12.281428571428572,
                    12.231428571428571,
                    12.14857142857143,
                    12.094285714285714,
                    12.015714285714285,
                    11.952857142857143,
                    11.924285714285714,
                    11.914285714285715,
                    11.987142857142857,
                    12.074285714285713,
                    12.085714285714287,
                    12.1,
                    12.032857142857143,
                    11.941428571428572,
                    11.854285714285712,
                    11.73,
                    11.607142857142858,
                    11.555714285714286,
                    11.572857142857144,
                    11.651428571428571,
                    11.772857142857143,
                    11.897142857142857,
                    12.005714285714287,
                    12.111428571428572,
                    12.191428571428572,
                    12.217142857142857,
                    12.271428571428572,
                    12.357142857142858,
                    12.441428571428572,
                    12.587142857142856,
                    12.781428571428572,
                    12.957142857142856,
                    13.127142857142857,
                    13.244285714285715,
                    13.295714285714284,
                    13.352857142857143,
                    13.374285714285715,
                    13.362857142857143,
                    13.342857142857143,
                    13.311428571428573,
                    13.308571428571428,
                    13.275714285714287,
                    13.187142857142858,
                    13.044285714285715,
                    12.891428571428571,
                    12.75,
                    12.628571428571428,
                    12.417142857142858,
                    12.258571428571429,
                    12.14,
                    12.070000000000002,
                    11.975714285714286,
                    11.892857142857142,
                    11.831428571428571,
                    11.828571428571427,
                    11.782857142857141,
                    11.751428571428571,
                    11.694285714285714,
                    11.64857142857143,
                    11.607142857142858,
                    11.517142857142856,
                    11.454285714285714,
                    11.482857142857144,
                    11.492857142857144,
                    11.504285714285714,
                    11.514285714285714,
                    11.54142857142857,
                    11.605714285714287,
                    11.632857142857144,
                    11.604285714285712,
                    11.567142857142857,
                    11.538571428571428,
                    11.547142857142857,
                    11.56142857142857,
                    11.575714285714286,
                    11.605714285714285,
                    11.622857142857141,
                    11.641428571428573,
                    11.687142857142858,
                    11.747142857142858,
                    11.781428571428572,
                    11.812857142857144,
                    11.851428571428572,
                    11.914285714285715,
                    12.01,
                    12.054285714285713,
                    12.042857142857143,
                    12.04857142857143,
                    12.071428571428571,
                    12.12,
                    12.144285714285715,
                    12.161428571428571,
                    12.202857142857143,
                    12.272857142857143,
                    12.305714285714286,
                    12.321428571428571,
                    12.364285714285716,
                    12.394285714285713,
                    12.360000000000001,
                    12.321428571428571,
                    12.260000000000002,
                    12.215714285714284,
                    12.18142857142857,
                    12.069999999999999,
                    11.964285714285714,
                    11.855714285714285,
                    11.777142857142858,
                    11.695714285714287,
                    11.645714285714288,
                    11.575714285714286,
                    11.498571428571427,
                    11.448571428571428,
                    11.39,
                    11.31857142857143,
                    11.295714285714286,
                    11.268571428571429,
                    11.225714285714286,
                    11.232857142857144,
                    11.245714285714286,
                    11.292857142857143,
                    11.35142857142857,
                    11.357142857142858,
                    11.35142857142857,
                    11.387142857142857,
                    11.435714285714285,
                    11.457142857142857,
                    11.535714285714286,
                    11.642857142857142,
                    11.774285714285714,
                    11.951428571428574,
                    12.147142857142857,
                    12.34142857142857,
                    12.534285714285716,
                    12.717142857142857,
                    12.83,
                    12.90857142857143,
                    12.935714285714285,
                    12.930000000000001,
                    12.898571428571428,
                    12.842857142857143,
                    12.74,
                    12.638571428571428,
                    12.554285714285713,
                    12.465714285714284,
                    12.372857142857143,
                    12.23857142857143,
                    12.095714285714285,
                    11.965714285714286,
                    11.867142857142856,
                    11.765714285714285,
                    11.661428571428573,
                    11.54857142857143,
                    11.51142857142857,
                    11.56142857142857,
                    11.631428571428572,
                    11.722857142857142,
                    11.842857142857143,
                    11.965714285714284,
                    12.095714285714283,
                    12.22,
                    12.295714285714286,
                    12.384285714285713,
                    12.428571428571429,
                    12.464285714285714,
                    12.521428571428572,
                    12.575714285714286,
                    12.581428571428571,
                    12.56857142857143,
                    12.571428571428571,
                    12.652857142857144,
                    12.719999999999999,
                    12.76142857142857,
                    12.821428571428571,
                    12.897142857142857,
                    12.998571428571427,
                    13.058571428571428,
                    13.027142857142858,
                    13,
                    13.005714285714285,
                    12.98857142857143,
                    12.987142857142857,
                    12.975714285714286,
                    12.991428571428571,
                    13.051428571428572,
                    13.120000000000001,
                    13.155714285714284,
                    13.195714285714287,
                    13.20142857142857,
                    13.215714285714284,
                    13.17,
                    13.122857142857143,
                    13.074285714285713,
                    13.047142857142857,
                    13.022857142857143,
                    13.018571428571429,
                    12.995714285714286,
                    13.064285714285713,
                    13.12142857142857,
                    13.194285714285714,
                    13.272857142857143,
                    13.342857142857143,
                    13.411428571428571,
                    13.452857142857143,
                    13.442857142857145,
                    13.425714285714287,
                    13.391428571428573,
                    13.360000000000001,
                    13.334285714285713
                  ],
                  "yaxis": "y"
                }
              ],
              "layout": {
                "height": 600,
                "legend": {
                  "title": {
                    "text": "Data Points"
                  },
                  "tracegroupgap": 0
                },
                "margin": {
                  "t": 60
                },
                "template": {
                  "data": {
                    "bar": [
                      {
                        "error_x": {
                          "color": "#2a3f5f"
                        },
                        "error_y": {
                          "color": "#2a3f5f"
                        },
                        "marker": {
                          "line": {
                            "color": "#E5ECF6",
                            "width": 0.5
                          },
                          "pattern": {
                            "fillmode": "overlay",
                            "size": 10,
                            "solidity": 0.2
                          }
                        },
                        "type": "bar"
                      }
                    ],
                    "barpolar": [
                      {
                        "marker": {
                          "line": {
                            "color": "#E5ECF6",
                            "width": 0.5
                          },
                          "pattern": {
                            "fillmode": "overlay",
                            "size": 10,
                            "solidity": 0.2
                          }
                        },
                        "type": "barpolar"
                      }
                    ],
                    "carpet": [
                      {
                        "aaxis": {
                          "endlinecolor": "#2a3f5f",
                          "gridcolor": "white",
                          "linecolor": "white",
                          "minorgridcolor": "white",
                          "startlinecolor": "#2a3f5f"
                        },
                        "baxis": {
                          "endlinecolor": "#2a3f5f",
                          "gridcolor": "white",
                          "linecolor": "white",
                          "minorgridcolor": "white",
                          "startlinecolor": "#2a3f5f"
                        },
                        "type": "carpet"
                      }
                    ],
                    "choropleth": [
                      {
                        "colorbar": {
                          "outlinewidth": 0,
                          "ticks": ""
                        },
                        "type": "choropleth"
                      }
                    ],
                    "contour": [
                      {
                        "colorbar": {
                          "outlinewidth": 0,
                          "ticks": ""
                        },
                        "colorscale": [
                          [
                            0,
                            "#0d0887"
                          ],
                          [
                            0.1111111111111111,
                            "#46039f"
                          ],
                          [
                            0.2222222222222222,
                            "#7201a8"
                          ],
                          [
                            0.3333333333333333,
                            "#9c179e"
                          ],
                          [
                            0.4444444444444444,
                            "#bd3786"
                          ],
                          [
                            0.5555555555555556,
                            "#d8576b"
                          ],
                          [
                            0.6666666666666666,
                            "#ed7953"
                          ],
                          [
                            0.7777777777777778,
                            "#fb9f3a"
                          ],
                          [
                            0.8888888888888888,
                            "#fdca26"
                          ],
                          [
                            1,
                            "#f0f921"
                          ]
                        ],
                        "type": "contour"
                      }
                    ],
                    "contourcarpet": [
                      {
                        "colorbar": {
                          "outlinewidth": 0,
                          "ticks": ""
                        },
                        "type": "contourcarpet"
                      }
                    ],
                    "heatmap": [
                      {
                        "colorbar": {
                          "outlinewidth": 0,
                          "ticks": ""
                        },
                        "colorscale": [
                          [
                            0,
                            "#0d0887"
                          ],
                          [
                            0.1111111111111111,
                            "#46039f"
                          ],
                          [
                            0.2222222222222222,
                            "#7201a8"
                          ],
                          [
                            0.3333333333333333,
                            "#9c179e"
                          ],
                          [
                            0.4444444444444444,
                            "#bd3786"
                          ],
                          [
                            0.5555555555555556,
                            "#d8576b"
                          ],
                          [
                            0.6666666666666666,
                            "#ed7953"
                          ],
                          [
                            0.7777777777777778,
                            "#fb9f3a"
                          ],
                          [
                            0.8888888888888888,
                            "#fdca26"
                          ],
                          [
                            1,
                            "#f0f921"
                          ]
                        ],
                        "type": "heatmap"
                      }
                    ],
                    "heatmapgl": [
                      {
                        "colorbar": {
                          "outlinewidth": 0,
                          "ticks": ""
                        },
                        "colorscale": [
                          [
                            0,
                            "#0d0887"
                          ],
                          [
                            0.1111111111111111,
                            "#46039f"
                          ],
                          [
                            0.2222222222222222,
                            "#7201a8"
                          ],
                          [
                            0.3333333333333333,
                            "#9c179e"
                          ],
                          [
                            0.4444444444444444,
                            "#bd3786"
                          ],
                          [
                            0.5555555555555556,
                            "#d8576b"
                          ],
                          [
                            0.6666666666666666,
                            "#ed7953"
                          ],
                          [
                            0.7777777777777778,
                            "#fb9f3a"
                          ],
                          [
                            0.8888888888888888,
                            "#fdca26"
                          ],
                          [
                            1,
                            "#f0f921"
                          ]
                        ],
                        "type": "heatmapgl"
                      }
                    ],
                    "histogram": [
                      {
                        "marker": {
                          "pattern": {
                            "fillmode": "overlay",
                            "size": 10,
                            "solidity": 0.2
                          }
                        },
                        "type": "histogram"
                      }
                    ],
                    "histogram2d": [
                      {
                        "colorbar": {
                          "outlinewidth": 0,
                          "ticks": ""
                        },
                        "colorscale": [
                          [
                            0,
                            "#0d0887"
                          ],
                          [
                            0.1111111111111111,
                            "#46039f"
                          ],
                          [
                            0.2222222222222222,
                            "#7201a8"
                          ],
                          [
                            0.3333333333333333,
                            "#9c179e"
                          ],
                          [
                            0.4444444444444444,
                            "#bd3786"
                          ],
                          [
                            0.5555555555555556,
                            "#d8576b"
                          ],
                          [
                            0.6666666666666666,
                            "#ed7953"
                          ],
                          [
                            0.7777777777777778,
                            "#fb9f3a"
                          ],
                          [
                            0.8888888888888888,
                            "#fdca26"
                          ],
                          [
                            1,
                            "#f0f921"
                          ]
                        ],
                        "type": "histogram2d"
                      }
                    ],
                    "histogram2dcontour": [
                      {
                        "colorbar": {
                          "outlinewidth": 0,
                          "ticks": ""
                        },
                        "colorscale": [
                          [
                            0,
                            "#0d0887"
                          ],
                          [
                            0.1111111111111111,
                            "#46039f"
                          ],
                          [
                            0.2222222222222222,
                            "#7201a8"
                          ],
                          [
                            0.3333333333333333,
                            "#9c179e"
                          ],
                          [
                            0.4444444444444444,
                            "#bd3786"
                          ],
                          [
                            0.5555555555555556,
                            "#d8576b"
                          ],
                          [
                            0.6666666666666666,
                            "#ed7953"
                          ],
                          [
                            0.7777777777777778,
                            "#fb9f3a"
                          ],
                          [
                            0.8888888888888888,
                            "#fdca26"
                          ],
                          [
                            1,
                            "#f0f921"
                          ]
                        ],
                        "type": "histogram2dcontour"
                      }
                    ],
                    "mesh3d": [
                      {
                        "colorbar": {
                          "outlinewidth": 0,
                          "ticks": ""
                        },
                        "type": "mesh3d"
                      }
                    ],
                    "parcoords": [
                      {
                        "line": {
                          "colorbar": {
                            "outlinewidth": 0,
                            "ticks": ""
                          }
                        },
                        "type": "parcoords"
                      }
                    ],
                    "pie": [
                      {
                        "automargin": true,
                        "type": "pie"
                      }
                    ],
                    "scatter": [
                      {
                        "fillpattern": {
                          "fillmode": "overlay",
                          "size": 10,
                          "solidity": 0.2
                        },
                        "type": "scatter"
                      }
                    ],
                    "scatter3d": [
                      {
                        "line": {
                          "colorbar": {
                            "outlinewidth": 0,
                            "ticks": ""
                          }
                        },
                        "marker": {
                          "colorbar": {
                            "outlinewidth": 0,
                            "ticks": ""
                          }
                        },
                        "type": "scatter3d"
                      }
                    ],
                    "scattercarpet": [
                      {
                        "marker": {
                          "colorbar": {
                            "outlinewidth": 0,
                            "ticks": ""
                          }
                        },
                        "type": "scattercarpet"
                      }
                    ],
                    "scattergeo": [
                      {
                        "marker": {
                          "colorbar": {
                            "outlinewidth": 0,
                            "ticks": ""
                          }
                        },
                        "type": "scattergeo"
                      }
                    ],
                    "scattergl": [
                      {
                        "marker": {
                          "colorbar": {
                            "outlinewidth": 0,
                            "ticks": ""
                          }
                        },
                        "type": "scattergl"
                      }
                    ],
                    "scattermapbox": [
                      {
                        "marker": {
                          "colorbar": {
                            "outlinewidth": 0,
                            "ticks": ""
                          }
                        },
                        "type": "scattermapbox"
                      }
                    ],
                    "scatterpolar": [
                      {
                        "marker": {
                          "colorbar": {
                            "outlinewidth": 0,
                            "ticks": ""
                          }
                        },
                        "type": "scatterpolar"
                      }
                    ],
                    "scatterpolargl": [
                      {
                        "marker": {
                          "colorbar": {
                            "outlinewidth": 0,
                            "ticks": ""
                          }
                        },
                        "type": "scatterpolargl"
                      }
                    ],
                    "scatterternary": [
                      {
                        "marker": {
                          "colorbar": {
                            "outlinewidth": 0,
                            "ticks": ""
                          }
                        },
                        "type": "scatterternary"
                      }
                    ],
                    "surface": [
                      {
                        "colorbar": {
                          "outlinewidth": 0,
                          "ticks": ""
                        },
                        "colorscale": [
                          [
                            0,
                            "#0d0887"
                          ],
                          [
                            0.1111111111111111,
                            "#46039f"
                          ],
                          [
                            0.2222222222222222,
                            "#7201a8"
                          ],
                          [
                            0.3333333333333333,
                            "#9c179e"
                          ],
                          [
                            0.4444444444444444,
                            "#bd3786"
                          ],
                          [
                            0.5555555555555556,
                            "#d8576b"
                          ],
                          [
                            0.6666666666666666,
                            "#ed7953"
                          ],
                          [
                            0.7777777777777778,
                            "#fb9f3a"
                          ],
                          [
                            0.8888888888888888,
                            "#fdca26"
                          ],
                          [
                            1,
                            "#f0f921"
                          ]
                        ],
                        "type": "surface"
                      }
                    ],
                    "table": [
                      {
                        "cells": {
                          "fill": {
                            "color": "#EBF0F8"
                          },
                          "line": {
                            "color": "white"
                          }
                        },
                        "header": {
                          "fill": {
                            "color": "#C8D4E3"
                          },
                          "line": {
                            "color": "white"
                          }
                        },
                        "type": "table"
                      }
                    ]
                  },
                  "layout": {
                    "annotationdefaults": {
                      "arrowcolor": "#2a3f5f",
                      "arrowhead": 0,
                      "arrowwidth": 1
                    },
                    "autotypenumbers": "strict",
                    "coloraxis": {
                      "colorbar": {
                        "outlinewidth": 0,
                        "ticks": ""
                      }
                    },
                    "colorscale": {
                      "diverging": [
                        [
                          0,
                          "#8e0152"
                        ],
                        [
                          0.1,
                          "#c51b7d"
                        ],
                        [
                          0.2,
                          "#de77ae"
                        ],
                        [
                          0.3,
                          "#f1b6da"
                        ],
                        [
                          0.4,
                          "#fde0ef"
                        ],
                        [
                          0.5,
                          "#f7f7f7"
                        ],
                        [
                          0.6,
                          "#e6f5d0"
                        ],
                        [
                          0.7,
                          "#b8e186"
                        ],
                        [
                          0.8,
                          "#7fbc41"
                        ],
                        [
                          0.9,
                          "#4d9221"
                        ],
                        [
                          1,
                          "#276419"
                        ]
                      ],
                      "sequential": [
                        [
                          0,
                          "#0d0887"
                        ],
                        [
                          0.1111111111111111,
                          "#46039f"
                        ],
                        [
                          0.2222222222222222,
                          "#7201a8"
                        ],
                        [
                          0.3333333333333333,
                          "#9c179e"
                        ],
                        [
                          0.4444444444444444,
                          "#bd3786"
                        ],
                        [
                          0.5555555555555556,
                          "#d8576b"
                        ],
                        [
                          0.6666666666666666,
                          "#ed7953"
                        ],
                        [
                          0.7777777777777778,
                          "#fb9f3a"
                        ],
                        [
                          0.8888888888888888,
                          "#fdca26"
                        ],
                        [
                          1,
                          "#f0f921"
                        ]
                      ],
                      "sequentialminus": [
                        [
                          0,
                          "#0d0887"
                        ],
                        [
                          0.1111111111111111,
                          "#46039f"
                        ],
                        [
                          0.2222222222222222,
                          "#7201a8"
                        ],
                        [
                          0.3333333333333333,
                          "#9c179e"
                        ],
                        [
                          0.4444444444444444,
                          "#bd3786"
                        ],
                        [
                          0.5555555555555556,
                          "#d8576b"
                        ],
                        [
                          0.6666666666666666,
                          "#ed7953"
                        ],
                        [
                          0.7777777777777778,
                          "#fb9f3a"
                        ],
                        [
                          0.8888888888888888,
                          "#fdca26"
                        ],
                        [
                          1,
                          "#f0f921"
                        ]
                      ]
                    },
                    "colorway": [
                      "#636efa",
                      "#EF553B",
                      "#00cc96",
                      "#ab63fa",
                      "#FFA15A",
                      "#19d3f3",
                      "#FF6692",
                      "#B6E880",
                      "#FF97FF",
                      "#FECB52"
                    ],
                    "font": {
                      "color": "#2a3f5f"
                    },
                    "geo": {
                      "bgcolor": "white",
                      "lakecolor": "white",
                      "landcolor": "#E5ECF6",
                      "showlakes": true,
                      "showland": true,
                      "subunitcolor": "white"
                    },
                    "hoverlabel": {
                      "align": "left"
                    },
                    "hovermode": "closest",
                    "mapbox": {
                      "style": "light"
                    },
                    "paper_bgcolor": "white",
                    "plot_bgcolor": "#E5ECF6",
                    "polar": {
                      "angularaxis": {
                        "gridcolor": "white",
                        "linecolor": "white",
                        "ticks": ""
                      },
                      "bgcolor": "#E5ECF6",
                      "radialaxis": {
                        "gridcolor": "white",
                        "linecolor": "white",
                        "ticks": ""
                      }
                    },
                    "scene": {
                      "xaxis": {
                        "backgroundcolor": "#E5ECF6",
                        "gridcolor": "white",
                        "gridwidth": 2,
                        "linecolor": "white",
                        "showbackground": true,
                        "ticks": "",
                        "zerolinecolor": "white"
                      },
                      "yaxis": {
                        "backgroundcolor": "#E5ECF6",
                        "gridcolor": "white",
                        "gridwidth": 2,
                        "linecolor": "white",
                        "showbackground": true,
                        "ticks": "",
                        "zerolinecolor": "white"
                      },
                      "zaxis": {
                        "backgroundcolor": "#E5ECF6",
                        "gridcolor": "white",
                        "gridwidth": 2,
                        "linecolor": "white",
                        "showbackground": true,
                        "ticks": "",
                        "zerolinecolor": "white"
                      }
                    },
                    "shapedefaults": {
                      "line": {
                        "color": "#2a3f5f"
                      }
                    },
                    "ternary": {
                      "aaxis": {
                        "gridcolor": "white",
                        "linecolor": "white",
                        "ticks": ""
                      },
                      "baxis": {
                        "gridcolor": "white",
                        "linecolor": "white",
                        "ticks": ""
                      },
                      "bgcolor": "#E5ECF6",
                      "caxis": {
                        "gridcolor": "white",
                        "linecolor": "white",
                        "ticks": ""
                      }
                    },
                    "title": {
                      "x": 0.05
                    },
                    "xaxis": {
                      "automargin": true,
                      "gridcolor": "white",
                      "linecolor": "white",
                      "ticks": "",
                      "title": {
                        "standoff": 15
                      },
                      "zerolinecolor": "white",
                      "zerolinewidth": 2
                    },
                    "yaxis": {
                      "automargin": true,
                      "gridcolor": "white",
                      "linecolor": "white",
                      "ticks": "",
                      "title": {
                        "standoff": 15
                      },
                      "zerolinecolor": "white",
                      "zerolinewidth": 2
                    }
                  }
                },
                "title": {
                  "text": "Finance Institutes - Stock Market Price with Rolling Means <br><sup>CREDIT SUISSE</sup>"
                },
                "width": 1000,
                "xaxis": {
                  "anchor": "y",
                  "domain": [
                    0,
                    1
                  ],
                  "title": {
                    "text": "Date"
                  }
                },
                "yaxis": {
                  "anchor": "x",
                  "domain": [
                    0,
                    1
                  ],
                  "range": [
                    10,
                    15
                  ],
                  "title": {
                    "text": "US$"
                  }
                }
              }
            }
          },
          "metadata": {},
          "output_type": "display_data"
        }
      ],
      "source": [
        "import plotly.express as px\n",
        "df= dataX[(dataX['Date'] > \"2019-01-01\") & (dataX['Date'] < \"2019-12-31\")]\n",
        "#df.info()\n",
        "\n",
        "# Create Line plot\n",
        "fig = px.line(df, x=df['Date'], y=['Close', 'rolling_mean7'])\n",
        "\n",
        "\n",
        "# Setup Layout\n",
        "fig.update_layout(\n",
        "    title=\"Finance Institutes - Stock Market Price with Rolling Means <br><sup>CREDIT SUISSE</sup>\",\n",
        "    legend_title=\"Data Points\",\n",
        "    yaxis_title='US$',\n",
        "    width=1000, height=600,\n",
        "    yaxis_range = (10,15))\n",
        "\n",
        "# Display the plot\n",
        "fig.show()"
      ]
    },
    {
      "cell_type": "code",
      "execution_count": 72,
      "metadata": {
        "colab": {
          "base_uri": "https://localhost:8080/",
          "height": 833
        },
        "id": "mCncWJDGxmi2",
        "outputId": "eeb08a03-acc1-42b7-cfa4-2c3a9bc6daf5"
      },
      "outputs": [
        {
          "data": {
            "text/html": [
              "<div>\n",
              "<style scoped>\n",
              "    .dataframe tbody tr th:only-of-type {\n",
              "        vertical-align: middle;\n",
              "    }\n",
              "\n",
              "    .dataframe tbody tr th {\n",
              "        vertical-align: top;\n",
              "    }\n",
              "\n",
              "    .dataframe thead th {\n",
              "        text-align: right;\n",
              "    }\n",
              "</style>\n",
              "<table border=\"1\" class=\"dataframe\">\n",
              "  <thead>\n",
              "    <tr style=\"text-align: right;\">\n",
              "      <th></th>\n",
              "      <th>Date</th>\n",
              "      <th>Close</th>\n",
              "      <th>rolling_mean20</th>\n",
              "      <th>rolling_mean60</th>\n",
              "    </tr>\n",
              "  </thead>\n",
              "  <tbody>\n",
              "    <tr>\n",
              "      <th>0</th>\n",
              "      <td>2009-04-06</td>\n",
              "      <td>30.703125</td>\n",
              "      <td>NaN</td>\n",
              "      <td>NaN</td>\n",
              "    </tr>\n",
              "    <tr>\n",
              "      <th>1</th>\n",
              "      <td>2009-04-07</td>\n",
              "      <td>29.482422</td>\n",
              "      <td>NaN</td>\n",
              "      <td>NaN</td>\n",
              "    </tr>\n",
              "    <tr>\n",
              "      <th>2</th>\n",
              "      <td>2009-04-08</td>\n",
              "      <td>30.644531</td>\n",
              "      <td>NaN</td>\n",
              "      <td>NaN</td>\n",
              "    </tr>\n",
              "    <tr>\n",
              "      <th>3</th>\n",
              "      <td>2009-04-09</td>\n",
              "      <td>32.841797</td>\n",
              "      <td>NaN</td>\n",
              "      <td>NaN</td>\n",
              "    </tr>\n",
              "    <tr>\n",
              "      <th>4</th>\n",
              "      <td>2009-04-13</td>\n",
              "      <td>33.974609</td>\n",
              "      <td>NaN</td>\n",
              "      <td>NaN</td>\n",
              "    </tr>\n",
              "    <tr>\n",
              "      <th>5</th>\n",
              "      <td>2009-04-14</td>\n",
              "      <td>31.689453</td>\n",
              "      <td>NaN</td>\n",
              "      <td>NaN</td>\n",
              "    </tr>\n",
              "    <tr>\n",
              "      <th>6</th>\n",
              "      <td>2009-04-15</td>\n",
              "      <td>32.910156</td>\n",
              "      <td>NaN</td>\n",
              "      <td>NaN</td>\n",
              "    </tr>\n",
              "    <tr>\n",
              "      <th>7</th>\n",
              "      <td>2009-04-16</td>\n",
              "      <td>35.087891</td>\n",
              "      <td>NaN</td>\n",
              "      <td>NaN</td>\n",
              "    </tr>\n",
              "    <tr>\n",
              "      <th>8</th>\n",
              "      <td>2009-04-17</td>\n",
              "      <td>33.300781</td>\n",
              "      <td>NaN</td>\n",
              "      <td>NaN</td>\n",
              "    </tr>\n",
              "    <tr>\n",
              "      <th>9</th>\n",
              "      <td>2009-04-20</td>\n",
              "      <td>30.361328</td>\n",
              "      <td>NaN</td>\n",
              "      <td>NaN</td>\n",
              "    </tr>\n",
              "    <tr>\n",
              "      <th>10</th>\n",
              "      <td>2009-04-21</td>\n",
              "      <td>33.193359</td>\n",
              "      <td>NaN</td>\n",
              "      <td>NaN</td>\n",
              "    </tr>\n",
              "    <tr>\n",
              "      <th>11</th>\n",
              "      <td>2009-04-22</td>\n",
              "      <td>32.226563</td>\n",
              "      <td>NaN</td>\n",
              "      <td>NaN</td>\n",
              "    </tr>\n",
              "    <tr>\n",
              "      <th>12</th>\n",
              "      <td>2009-04-23</td>\n",
              "      <td>37.587891</td>\n",
              "      <td>NaN</td>\n",
              "      <td>NaN</td>\n",
              "    </tr>\n",
              "    <tr>\n",
              "      <th>13</th>\n",
              "      <td>2009-04-24</td>\n",
              "      <td>37.460938</td>\n",
              "      <td>NaN</td>\n",
              "      <td>NaN</td>\n",
              "    </tr>\n",
              "    <tr>\n",
              "      <th>14</th>\n",
              "      <td>2009-04-27</td>\n",
              "      <td>36.308594</td>\n",
              "      <td>NaN</td>\n",
              "      <td>NaN</td>\n",
              "    </tr>\n",
              "    <tr>\n",
              "      <th>15</th>\n",
              "      <td>2009-04-28</td>\n",
              "      <td>36.376953</td>\n",
              "      <td>NaN</td>\n",
              "      <td>NaN</td>\n",
              "    </tr>\n",
              "    <tr>\n",
              "      <th>16</th>\n",
              "      <td>2009-04-29</td>\n",
              "      <td>37.792969</td>\n",
              "      <td>NaN</td>\n",
              "      <td>NaN</td>\n",
              "    </tr>\n",
              "    <tr>\n",
              "      <th>17</th>\n",
              "      <td>2009-04-30</td>\n",
              "      <td>37.382813</td>\n",
              "      <td>NaN</td>\n",
              "      <td>NaN</td>\n",
              "    </tr>\n",
              "    <tr>\n",
              "      <th>18</th>\n",
              "      <td>2009-05-01</td>\n",
              "      <td>37.744141</td>\n",
              "      <td>NaN</td>\n",
              "      <td>NaN</td>\n",
              "    </tr>\n",
              "    <tr>\n",
              "      <th>19</th>\n",
              "      <td>2009-05-04</td>\n",
              "      <td>39.863281</td>\n",
              "      <td>34.346680</td>\n",
              "      <td>NaN</td>\n",
              "    </tr>\n",
              "    <tr>\n",
              "      <th>20</th>\n",
              "      <td>2009-05-05</td>\n",
              "      <td>38.369141</td>\n",
              "      <td>34.729981</td>\n",
              "      <td>NaN</td>\n",
              "    </tr>\n",
              "    <tr>\n",
              "      <th>21</th>\n",
              "      <td>2009-05-06</td>\n",
              "      <td>38.388672</td>\n",
              "      <td>35.175293</td>\n",
              "      <td>NaN</td>\n",
              "    </tr>\n",
              "    <tr>\n",
              "      <th>22</th>\n",
              "      <td>2009-05-07</td>\n",
              "      <td>36.708984</td>\n",
              "      <td>35.478516</td>\n",
              "      <td>NaN</td>\n",
              "    </tr>\n",
              "    <tr>\n",
              "      <th>23</th>\n",
              "      <td>2009-05-08</td>\n",
              "      <td>40.546875</td>\n",
              "      <td>35.863770</td>\n",
              "      <td>NaN</td>\n",
              "    </tr>\n",
              "    <tr>\n",
              "      <th>24</th>\n",
              "      <td>2009-05-11</td>\n",
              "      <td>40.097656</td>\n",
              "      <td>36.169922</td>\n",
              "      <td>NaN</td>\n",
              "    </tr>\n",
              "  </tbody>\n",
              "</table>\n",
              "</div>"
            ],
            "text/plain": [
              "         Date      Close  rolling_mean20  rolling_mean60\n",
              "0  2009-04-06  30.703125             NaN             NaN\n",
              "1  2009-04-07  29.482422             NaN             NaN\n",
              "2  2009-04-08  30.644531             NaN             NaN\n",
              "3  2009-04-09  32.841797             NaN             NaN\n",
              "4  2009-04-13  33.974609             NaN             NaN\n",
              "5  2009-04-14  31.689453             NaN             NaN\n",
              "6  2009-04-15  32.910156             NaN             NaN\n",
              "7  2009-04-16  35.087891             NaN             NaN\n",
              "8  2009-04-17  33.300781             NaN             NaN\n",
              "9  2009-04-20  30.361328             NaN             NaN\n",
              "10 2009-04-21  33.193359             NaN             NaN\n",
              "11 2009-04-22  32.226563             NaN             NaN\n",
              "12 2009-04-23  37.587891             NaN             NaN\n",
              "13 2009-04-24  37.460938             NaN             NaN\n",
              "14 2009-04-27  36.308594             NaN             NaN\n",
              "15 2009-04-28  36.376953             NaN             NaN\n",
              "16 2009-04-29  37.792969             NaN             NaN\n",
              "17 2009-04-30  37.382813             NaN             NaN\n",
              "18 2009-05-01  37.744141             NaN             NaN\n",
              "19 2009-05-04  39.863281       34.346680             NaN\n",
              "20 2009-05-05  38.369141       34.729981             NaN\n",
              "21 2009-05-06  38.388672       35.175293             NaN\n",
              "22 2009-05-07  36.708984       35.478516             NaN\n",
              "23 2009-05-08  40.546875       35.863770             NaN\n",
              "24 2009-05-11  40.097656       36.169922             NaN"
            ]
          },
          "execution_count": 72,
          "metadata": {},
          "output_type": "execute_result"
        }
      ],
      "source": [
        "data['rolling_mean20'] = data['Close'].rolling(window=20).mean()\n",
        "data['rolling_mean60'] = data['Close'].rolling(window=60).mean()\n",
        "\n",
        "dataY = data[['Date', 'Close','rolling_mean20','rolling_mean60',]]\n",
        "dataY.head(25)"
      ]
    },
    {
      "cell_type": "code",
      "execution_count": 73,
      "metadata": {
        "colab": {
          "base_uri": "https://localhost:8080/",
          "height": 617
        },
        "id": "MP_QKUg2ycCh",
        "outputId": "d6387173-3169-4757-c46c-a733ed7b8638"
      },
      "outputs": [
        {
          "data": {
            "application/vnd.plotly.v1+json": {
              "config": {
                "plotlyServerURL": "https://plot.ly"
              },
              "data": [
                {
                  "hovertemplate": "variable=Close<br>Date=%{x}<br>value=%{y}<extra></extra>",
                  "legendgroup": "Close",
                  "line": {
                    "color": "#636efa",
                    "dash": "solid"
                  },
                  "marker": {
                    "symbol": "circle"
                  },
                  "mode": "lines",
                  "name": "Close",
                  "orientation": "v",
                  "showlegend": true,
                  "type": "scatter",
                  "x": [
                    "2019-01-02T00:00:00",
                    "2019-01-03T00:00:00",
                    "2019-01-04T00:00:00",
                    "2019-01-07T00:00:00",
                    "2019-01-08T00:00:00",
                    "2019-01-09T00:00:00",
                    "2019-01-10T00:00:00",
                    "2019-01-11T00:00:00",
                    "2019-01-14T00:00:00",
                    "2019-01-15T00:00:00",
                    "2019-01-16T00:00:00",
                    "2019-01-17T00:00:00",
                    "2019-01-18T00:00:00",
                    "2019-01-22T00:00:00",
                    "2019-01-23T00:00:00",
                    "2019-01-24T00:00:00",
                    "2019-01-25T00:00:00",
                    "2019-01-28T00:00:00",
                    "2019-01-29T00:00:00",
                    "2019-01-30T00:00:00",
                    "2019-01-31T00:00:00",
                    "2019-02-01T00:00:00",
                    "2019-02-04T00:00:00",
                    "2019-02-05T00:00:00",
                    "2019-02-06T00:00:00",
                    "2019-02-07T00:00:00",
                    "2019-02-08T00:00:00",
                    "2019-02-11T00:00:00",
                    "2019-02-12T00:00:00",
                    "2019-02-13T00:00:00",
                    "2019-02-14T00:00:00",
                    "2019-02-15T00:00:00",
                    "2019-02-19T00:00:00",
                    "2019-02-20T00:00:00",
                    "2019-02-21T00:00:00",
                    "2019-02-22T00:00:00",
                    "2019-02-25T00:00:00",
                    "2019-02-26T00:00:00",
                    "2019-02-27T00:00:00",
                    "2019-02-28T00:00:00",
                    "2019-03-01T00:00:00",
                    "2019-03-04T00:00:00",
                    "2019-03-05T00:00:00",
                    "2019-03-06T00:00:00",
                    "2019-03-07T00:00:00",
                    "2019-03-08T00:00:00",
                    "2019-03-11T00:00:00",
                    "2019-03-12T00:00:00",
                    "2019-03-13T00:00:00",
                    "2019-03-14T00:00:00",
                    "2019-03-15T00:00:00",
                    "2019-03-18T00:00:00",
                    "2019-03-19T00:00:00",
                    "2019-03-20T00:00:00",
                    "2019-03-21T00:00:00",
                    "2019-03-22T00:00:00",
                    "2019-03-25T00:00:00",
                    "2019-03-26T00:00:00",
                    "2019-03-27T00:00:00",
                    "2019-03-28T00:00:00",
                    "2019-03-29T00:00:00",
                    "2019-04-01T00:00:00",
                    "2019-04-02T00:00:00",
                    "2019-04-03T00:00:00",
                    "2019-04-04T00:00:00",
                    "2019-04-05T00:00:00",
                    "2019-04-08T00:00:00",
                    "2019-04-09T00:00:00",
                    "2019-04-10T00:00:00",
                    "2019-04-11T00:00:00",
                    "2019-04-12T00:00:00",
                    "2019-04-15T00:00:00",
                    "2019-04-16T00:00:00",
                    "2019-04-17T00:00:00",
                    "2019-04-18T00:00:00",
                    "2019-04-22T00:00:00",
                    "2019-04-23T00:00:00",
                    "2019-04-24T00:00:00",
                    "2019-04-25T00:00:00",
                    "2019-04-26T00:00:00",
                    "2019-04-29T00:00:00",
                    "2019-04-30T00:00:00",
                    "2019-05-01T00:00:00",
                    "2019-05-02T00:00:00",
                    "2019-05-03T00:00:00",
                    "2019-05-06T00:00:00",
                    "2019-05-07T00:00:00",
                    "2019-05-08T00:00:00",
                    "2019-05-09T00:00:00",
                    "2019-05-10T00:00:00",
                    "2019-05-13T00:00:00",
                    "2019-05-14T00:00:00",
                    "2019-05-15T00:00:00",
                    "2019-05-16T00:00:00",
                    "2019-05-17T00:00:00",
                    "2019-05-20T00:00:00",
                    "2019-05-21T00:00:00",
                    "2019-05-22T00:00:00",
                    "2019-05-23T00:00:00",
                    "2019-05-24T00:00:00",
                    "2019-05-28T00:00:00",
                    "2019-05-29T00:00:00",
                    "2019-05-30T00:00:00",
                    "2019-05-31T00:00:00",
                    "2019-06-03T00:00:00",
                    "2019-06-04T00:00:00",
                    "2019-06-05T00:00:00",
                    "2019-06-06T00:00:00",
                    "2019-06-07T00:00:00",
                    "2019-06-10T00:00:00",
                    "2019-06-11T00:00:00",
                    "2019-06-12T00:00:00",
                    "2019-06-13T00:00:00",
                    "2019-06-14T00:00:00",
                    "2019-06-17T00:00:00",
                    "2019-06-18T00:00:00",
                    "2019-06-19T00:00:00",
                    "2019-06-20T00:00:00",
                    "2019-06-21T00:00:00",
                    "2019-06-24T00:00:00",
                    "2019-06-25T00:00:00",
                    "2019-06-26T00:00:00",
                    "2019-06-27T00:00:00",
                    "2019-06-28T00:00:00",
                    "2019-07-01T00:00:00",
                    "2019-07-02T00:00:00",
                    "2019-07-03T00:00:00",
                    "2019-07-05T00:00:00",
                    "2019-07-08T00:00:00",
                    "2019-07-09T00:00:00",
                    "2019-07-10T00:00:00",
                    "2019-07-11T00:00:00",
                    "2019-07-12T00:00:00",
                    "2019-07-15T00:00:00",
                    "2019-07-16T00:00:00",
                    "2019-07-17T00:00:00",
                    "2019-07-18T00:00:00",
                    "2019-07-19T00:00:00",
                    "2019-07-22T00:00:00",
                    "2019-07-23T00:00:00",
                    "2019-07-24T00:00:00",
                    "2019-07-25T00:00:00",
                    "2019-07-26T00:00:00",
                    "2019-07-29T00:00:00",
                    "2019-07-30T00:00:00",
                    "2019-07-31T00:00:00",
                    "2019-08-01T00:00:00",
                    "2019-08-02T00:00:00",
                    "2019-08-05T00:00:00",
                    "2019-08-06T00:00:00",
                    "2019-08-07T00:00:00",
                    "2019-08-08T00:00:00",
                    "2019-08-09T00:00:00",
                    "2019-08-12T00:00:00",
                    "2019-08-13T00:00:00",
                    "2019-08-14T00:00:00",
                    "2019-08-15T00:00:00",
                    "2019-08-16T00:00:00",
                    "2019-08-19T00:00:00",
                    "2019-08-20T00:00:00",
                    "2019-08-21T00:00:00",
                    "2019-08-22T00:00:00",
                    "2019-08-23T00:00:00",
                    "2019-08-26T00:00:00",
                    "2019-08-27T00:00:00",
                    "2019-08-28T00:00:00",
                    "2019-08-29T00:00:00",
                    "2019-08-30T00:00:00",
                    "2019-09-03T00:00:00",
                    "2019-09-04T00:00:00",
                    "2019-09-05T00:00:00",
                    "2019-09-06T00:00:00",
                    "2019-09-09T00:00:00",
                    "2019-09-10T00:00:00",
                    "2019-09-11T00:00:00",
                    "2019-09-12T00:00:00",
                    "2019-09-13T00:00:00",
                    "2019-09-16T00:00:00",
                    "2019-09-17T00:00:00",
                    "2019-09-18T00:00:00",
                    "2019-09-19T00:00:00",
                    "2019-09-20T00:00:00",
                    "2019-09-23T00:00:00",
                    "2019-09-24T00:00:00",
                    "2019-09-25T00:00:00",
                    "2019-09-26T00:00:00",
                    "2019-09-27T00:00:00",
                    "2019-09-30T00:00:00",
                    "2019-10-01T00:00:00",
                    "2019-10-02T00:00:00",
                    "2019-10-03T00:00:00",
                    "2019-10-04T00:00:00",
                    "2019-10-07T00:00:00",
                    "2019-10-08T00:00:00",
                    "2019-10-09T00:00:00",
                    "2019-10-10T00:00:00",
                    "2019-10-11T00:00:00",
                    "2019-10-14T00:00:00",
                    "2019-10-15T00:00:00",
                    "2019-10-16T00:00:00",
                    "2019-10-17T00:00:00",
                    "2019-10-18T00:00:00",
                    "2019-10-21T00:00:00",
                    "2019-10-22T00:00:00",
                    "2019-10-23T00:00:00",
                    "2019-10-24T00:00:00",
                    "2019-10-25T00:00:00",
                    "2019-10-28T00:00:00",
                    "2019-10-29T00:00:00",
                    "2019-10-30T00:00:00",
                    "2019-10-31T00:00:00",
                    "2019-11-01T00:00:00",
                    "2019-11-04T00:00:00",
                    "2019-11-05T00:00:00",
                    "2019-11-06T00:00:00",
                    "2019-11-07T00:00:00",
                    "2019-11-08T00:00:00",
                    "2019-11-11T00:00:00",
                    "2019-11-12T00:00:00",
                    "2019-11-13T00:00:00",
                    "2019-11-14T00:00:00",
                    "2019-11-15T00:00:00",
                    "2019-11-18T00:00:00",
                    "2019-11-19T00:00:00",
                    "2019-11-20T00:00:00",
                    "2019-11-21T00:00:00",
                    "2019-11-22T00:00:00",
                    "2019-11-25T00:00:00",
                    "2019-11-26T00:00:00",
                    "2019-11-27T00:00:00",
                    "2019-11-29T00:00:00",
                    "2019-12-02T00:00:00",
                    "2019-12-03T00:00:00",
                    "2019-12-04T00:00:00",
                    "2019-12-05T00:00:00",
                    "2019-12-06T00:00:00",
                    "2019-12-09T00:00:00",
                    "2019-12-10T00:00:00",
                    "2019-12-11T00:00:00",
                    "2019-12-12T00:00:00",
                    "2019-12-13T00:00:00",
                    "2019-12-16T00:00:00",
                    "2019-12-17T00:00:00",
                    "2019-12-18T00:00:00",
                    "2019-12-19T00:00:00",
                    "2019-12-20T00:00:00",
                    "2019-12-23T00:00:00",
                    "2019-12-24T00:00:00",
                    "2019-12-26T00:00:00",
                    "2019-12-27T00:00:00",
                    "2019-12-30T00:00:00"
                  ],
                  "xaxis": "x",
                  "y": [
                    11.04,
                    10.95,
                    11.31,
                    11.39,
                    11.55,
                    11.56,
                    11.75,
                    11.82,
                    11.9,
                    11.88,
                    12.19,
                    12.15,
                    12.37,
                    12.2,
                    12.31,
                    12.31,
                    12.48,
                    12.35,
                    12.34,
                    12.42,
                    12.11,
                    12.01,
                    11.98,
                    12.14,
                    12.12,
                    11.84,
                    11.7,
                    11.68,
                    11.88,
                    11.99,
                    11.56,
                    11.75,
                    11.9,
                    12.02,
                    11.89,
                    11.87,
                    12.08,
                    12.19,
                    12.33,
                    12.31,
                    12.36,
                    12.42,
                    12.23,
                    12.13,
                    11.84,
                    11.75,
                    11.93,
                    11.81,
                    11.98,
                    12.03,
                    12.06,
                    12.35,
                    12.36,
                    12.01,
                    11.91,
                    11.51,
                    11.39,
                    11.45,
                    11.48,
                    11.5,
                    11.65,
                    12.03,
                    12.06,
                    12.24,
                    12.32,
                    12.24,
                    12.24,
                    12.21,
                    12.21,
                    12.44,
                    12.84,
                    12.91,
                    13.26,
                    13.6,
                    13.44,
                    13.4,
                    13.26,
                    13.2,
                    13.31,
                    13.41,
                    13.52,
                    13.3,
                    13.18,
                    13.24,
                    12.97,
                    12.69,
                    12.41,
                    12.45,
                    12.31,
                    12.33,
                    11.76,
                    11.86,
                    11.86,
                    11.92,
                    11.79,
                    11.73,
                    11.9,
                    11.74,
                    11.54,
                    11.64,
                    11.52,
                    11.47,
                    11.44,
                    11.27,
                    11.3,
                    11.74,
                    11.71,
                    11.6,
                    11.54,
                    11.63,
                    11.72,
                    11.49,
                    11.54,
                    11.45,
                    11.4,
                    11.6,
                    11.73,
                    11.82,
                    11.7,
                    11.66,
                    11.58,
                    11.72,
                    12.02,
                    11.97,
                    12.04,
                    11.97,
                    12.1,
                    12.25,
                    12.03,
                    11.94,
                    12.01,
                    12.2,
                    12.31,
                    12.27,
                    12.37,
                    12.32,
                    12.43,
                    12.24,
                    12.31,
                    12.61,
                    12.48,
                    12.13,
                    12.05,
                    12,
                    11.93,
                    12.07,
                    11.83,
                    11.74,
                    11.37,
                    11.5,
                    11.43,
                    11.58,
                    11.58,
                    11.29,
                    11.39,
                    10.96,
                    11,
                    11.27,
                    11.39,
                    11.28,
                    11.34,
                    11.48,
                    11.29,
                    11.41,
                    11.31,
                    11.35,
                    11.53,
                    11.68,
                    11.63,
                    11.84,
                    12.16,
                    12.23,
                    12.59,
                    12.9,
                    13.04,
                    12.98,
                    13.12,
                    12.95,
                    12.78,
                    12.78,
                    12.86,
                    12.82,
                    12.59,
                    12.4,
                    12.24,
                    12.19,
                    12.16,
                    12.21,
                    11.88,
                    11.59,
                    11.49,
                    11.55,
                    11.48,
                    11.43,
                    11.42,
                    11.62,
                    11.94,
                    11.98,
                    12.19,
                    12.32,
                    12.29,
                    12.33,
                    12.49,
                    12.47,
                    12.6,
                    12.5,
                    12.57,
                    12.69,
                    12.71,
                    12.53,
                    12.38,
                    12.62,
                    13.07,
                    13.04,
                    12.98,
                    13.13,
                    13.06,
                    13.09,
                    13.04,
                    12.85,
                    12.85,
                    13.02,
                    13.01,
                    13.05,
                    13.01,
                    13.15,
                    13.27,
                    13.33,
                    13.27,
                    13.29,
                    13.09,
                    13.11,
                    12.83,
                    12.94,
                    12.99,
                    13.08,
                    13.12,
                    13.06,
                    12.95,
                    13.31,
                    13.34,
                    13.5,
                    13.63,
                    13.61,
                    13.54,
                    13.24,
                    13.24,
                    13.22,
                    13.26,
                    13.41,
                    13.43
                  ],
                  "yaxis": "y"
                },
                {
                  "hovertemplate": "variable=rolling_mean20<br>Date=%{x}<br>value=%{y}<extra></extra>",
                  "legendgroup": "rolling_mean20",
                  "line": {
                    "color": "#EF553B",
                    "dash": "solid"
                  },
                  "marker": {
                    "symbol": "circle"
                  },
                  "mode": "lines",
                  "name": "rolling_mean20",
                  "orientation": "v",
                  "showlegend": true,
                  "type": "scatter",
                  "x": [
                    "2019-01-02T00:00:00",
                    "2019-01-03T00:00:00",
                    "2019-01-04T00:00:00",
                    "2019-01-07T00:00:00",
                    "2019-01-08T00:00:00",
                    "2019-01-09T00:00:00",
                    "2019-01-10T00:00:00",
                    "2019-01-11T00:00:00",
                    "2019-01-14T00:00:00",
                    "2019-01-15T00:00:00",
                    "2019-01-16T00:00:00",
                    "2019-01-17T00:00:00",
                    "2019-01-18T00:00:00",
                    "2019-01-22T00:00:00",
                    "2019-01-23T00:00:00",
                    "2019-01-24T00:00:00",
                    "2019-01-25T00:00:00",
                    "2019-01-28T00:00:00",
                    "2019-01-29T00:00:00",
                    "2019-01-30T00:00:00",
                    "2019-01-31T00:00:00",
                    "2019-02-01T00:00:00",
                    "2019-02-04T00:00:00",
                    "2019-02-05T00:00:00",
                    "2019-02-06T00:00:00",
                    "2019-02-07T00:00:00",
                    "2019-02-08T00:00:00",
                    "2019-02-11T00:00:00",
                    "2019-02-12T00:00:00",
                    "2019-02-13T00:00:00",
                    "2019-02-14T00:00:00",
                    "2019-02-15T00:00:00",
                    "2019-02-19T00:00:00",
                    "2019-02-20T00:00:00",
                    "2019-02-21T00:00:00",
                    "2019-02-22T00:00:00",
                    "2019-02-25T00:00:00",
                    "2019-02-26T00:00:00",
                    "2019-02-27T00:00:00",
                    "2019-02-28T00:00:00",
                    "2019-03-01T00:00:00",
                    "2019-03-04T00:00:00",
                    "2019-03-05T00:00:00",
                    "2019-03-06T00:00:00",
                    "2019-03-07T00:00:00",
                    "2019-03-08T00:00:00",
                    "2019-03-11T00:00:00",
                    "2019-03-12T00:00:00",
                    "2019-03-13T00:00:00",
                    "2019-03-14T00:00:00",
                    "2019-03-15T00:00:00",
                    "2019-03-18T00:00:00",
                    "2019-03-19T00:00:00",
                    "2019-03-20T00:00:00",
                    "2019-03-21T00:00:00",
                    "2019-03-22T00:00:00",
                    "2019-03-25T00:00:00",
                    "2019-03-26T00:00:00",
                    "2019-03-27T00:00:00",
                    "2019-03-28T00:00:00",
                    "2019-03-29T00:00:00",
                    "2019-04-01T00:00:00",
                    "2019-04-02T00:00:00",
                    "2019-04-03T00:00:00",
                    "2019-04-04T00:00:00",
                    "2019-04-05T00:00:00",
                    "2019-04-08T00:00:00",
                    "2019-04-09T00:00:00",
                    "2019-04-10T00:00:00",
                    "2019-04-11T00:00:00",
                    "2019-04-12T00:00:00",
                    "2019-04-15T00:00:00",
                    "2019-04-16T00:00:00",
                    "2019-04-17T00:00:00",
                    "2019-04-18T00:00:00",
                    "2019-04-22T00:00:00",
                    "2019-04-23T00:00:00",
                    "2019-04-24T00:00:00",
                    "2019-04-25T00:00:00",
                    "2019-04-26T00:00:00",
                    "2019-04-29T00:00:00",
                    "2019-04-30T00:00:00",
                    "2019-05-01T00:00:00",
                    "2019-05-02T00:00:00",
                    "2019-05-03T00:00:00",
                    "2019-05-06T00:00:00",
                    "2019-05-07T00:00:00",
                    "2019-05-08T00:00:00",
                    "2019-05-09T00:00:00",
                    "2019-05-10T00:00:00",
                    "2019-05-13T00:00:00",
                    "2019-05-14T00:00:00",
                    "2019-05-15T00:00:00",
                    "2019-05-16T00:00:00",
                    "2019-05-17T00:00:00",
                    "2019-05-20T00:00:00",
                    "2019-05-21T00:00:00",
                    "2019-05-22T00:00:00",
                    "2019-05-23T00:00:00",
                    "2019-05-24T00:00:00",
                    "2019-05-28T00:00:00",
                    "2019-05-29T00:00:00",
                    "2019-05-30T00:00:00",
                    "2019-05-31T00:00:00",
                    "2019-06-03T00:00:00",
                    "2019-06-04T00:00:00",
                    "2019-06-05T00:00:00",
                    "2019-06-06T00:00:00",
                    "2019-06-07T00:00:00",
                    "2019-06-10T00:00:00",
                    "2019-06-11T00:00:00",
                    "2019-06-12T00:00:00",
                    "2019-06-13T00:00:00",
                    "2019-06-14T00:00:00",
                    "2019-06-17T00:00:00",
                    "2019-06-18T00:00:00",
                    "2019-06-19T00:00:00",
                    "2019-06-20T00:00:00",
                    "2019-06-21T00:00:00",
                    "2019-06-24T00:00:00",
                    "2019-06-25T00:00:00",
                    "2019-06-26T00:00:00",
                    "2019-06-27T00:00:00",
                    "2019-06-28T00:00:00",
                    "2019-07-01T00:00:00",
                    "2019-07-02T00:00:00",
                    "2019-07-03T00:00:00",
                    "2019-07-05T00:00:00",
                    "2019-07-08T00:00:00",
                    "2019-07-09T00:00:00",
                    "2019-07-10T00:00:00",
                    "2019-07-11T00:00:00",
                    "2019-07-12T00:00:00",
                    "2019-07-15T00:00:00",
                    "2019-07-16T00:00:00",
                    "2019-07-17T00:00:00",
                    "2019-07-18T00:00:00",
                    "2019-07-19T00:00:00",
                    "2019-07-22T00:00:00",
                    "2019-07-23T00:00:00",
                    "2019-07-24T00:00:00",
                    "2019-07-25T00:00:00",
                    "2019-07-26T00:00:00",
                    "2019-07-29T00:00:00",
                    "2019-07-30T00:00:00",
                    "2019-07-31T00:00:00",
                    "2019-08-01T00:00:00",
                    "2019-08-02T00:00:00",
                    "2019-08-05T00:00:00",
                    "2019-08-06T00:00:00",
                    "2019-08-07T00:00:00",
                    "2019-08-08T00:00:00",
                    "2019-08-09T00:00:00",
                    "2019-08-12T00:00:00",
                    "2019-08-13T00:00:00",
                    "2019-08-14T00:00:00",
                    "2019-08-15T00:00:00",
                    "2019-08-16T00:00:00",
                    "2019-08-19T00:00:00",
                    "2019-08-20T00:00:00",
                    "2019-08-21T00:00:00",
                    "2019-08-22T00:00:00",
                    "2019-08-23T00:00:00",
                    "2019-08-26T00:00:00",
                    "2019-08-27T00:00:00",
                    "2019-08-28T00:00:00",
                    "2019-08-29T00:00:00",
                    "2019-08-30T00:00:00",
                    "2019-09-03T00:00:00",
                    "2019-09-04T00:00:00",
                    "2019-09-05T00:00:00",
                    "2019-09-06T00:00:00",
                    "2019-09-09T00:00:00",
                    "2019-09-10T00:00:00",
                    "2019-09-11T00:00:00",
                    "2019-09-12T00:00:00",
                    "2019-09-13T00:00:00",
                    "2019-09-16T00:00:00",
                    "2019-09-17T00:00:00",
                    "2019-09-18T00:00:00",
                    "2019-09-19T00:00:00",
                    "2019-09-20T00:00:00",
                    "2019-09-23T00:00:00",
                    "2019-09-24T00:00:00",
                    "2019-09-25T00:00:00",
                    "2019-09-26T00:00:00",
                    "2019-09-27T00:00:00",
                    "2019-09-30T00:00:00",
                    "2019-10-01T00:00:00",
                    "2019-10-02T00:00:00",
                    "2019-10-03T00:00:00",
                    "2019-10-04T00:00:00",
                    "2019-10-07T00:00:00",
                    "2019-10-08T00:00:00",
                    "2019-10-09T00:00:00",
                    "2019-10-10T00:00:00",
                    "2019-10-11T00:00:00",
                    "2019-10-14T00:00:00",
                    "2019-10-15T00:00:00",
                    "2019-10-16T00:00:00",
                    "2019-10-17T00:00:00",
                    "2019-10-18T00:00:00",
                    "2019-10-21T00:00:00",
                    "2019-10-22T00:00:00",
                    "2019-10-23T00:00:00",
                    "2019-10-24T00:00:00",
                    "2019-10-25T00:00:00",
                    "2019-10-28T00:00:00",
                    "2019-10-29T00:00:00",
                    "2019-10-30T00:00:00",
                    "2019-10-31T00:00:00",
                    "2019-11-01T00:00:00",
                    "2019-11-04T00:00:00",
                    "2019-11-05T00:00:00",
                    "2019-11-06T00:00:00",
                    "2019-11-07T00:00:00",
                    "2019-11-08T00:00:00",
                    "2019-11-11T00:00:00",
                    "2019-11-12T00:00:00",
                    "2019-11-13T00:00:00",
                    "2019-11-14T00:00:00",
                    "2019-11-15T00:00:00",
                    "2019-11-18T00:00:00",
                    "2019-11-19T00:00:00",
                    "2019-11-20T00:00:00",
                    "2019-11-21T00:00:00",
                    "2019-11-22T00:00:00",
                    "2019-11-25T00:00:00",
                    "2019-11-26T00:00:00",
                    "2019-11-27T00:00:00",
                    "2019-11-29T00:00:00",
                    "2019-12-02T00:00:00",
                    "2019-12-03T00:00:00",
                    "2019-12-04T00:00:00",
                    "2019-12-05T00:00:00",
                    "2019-12-06T00:00:00",
                    "2019-12-09T00:00:00",
                    "2019-12-10T00:00:00",
                    "2019-12-11T00:00:00",
                    "2019-12-12T00:00:00",
                    "2019-12-13T00:00:00",
                    "2019-12-16T00:00:00",
                    "2019-12-17T00:00:00",
                    "2019-12-18T00:00:00",
                    "2019-12-19T00:00:00",
                    "2019-12-20T00:00:00",
                    "2019-12-23T00:00:00",
                    "2019-12-24T00:00:00",
                    "2019-12-26T00:00:00",
                    "2019-12-27T00:00:00",
                    "2019-12-30T00:00:00"
                  ],
                  "xaxis": "x",
                  "y": [
                    11.001,
                    10.944,
                    10.9275,
                    10.930499999999999,
                    10.9525,
                    10.980500000000001,
                    11.022,
                    11.047,
                    11.079,
                    11.118,
                    11.1805,
                    11.243500000000001,
                    11.325999999999999,
                    11.4095,
                    11.499500000000001,
                    11.594,
                    11.678,
                    11.761999999999999,
                    11.8355,
                    11.9135,
                    11.967,
                    12.02,
                    12.0535,
                    12.091,
                    12.119499999999999,
                    12.1335,
                    12.130999999999998,
                    12.123999999999999,
                    12.123,
                    12.128499999999999,
                    12.097,
                    12.077,
                    12.053500000000001,
                    12.0445,
                    12.0235,
                    12.0015,
                    11.9815,
                    11.9735,
                    11.973,
                    11.9675,
                    11.98,
                    12.0005,
                    12.013,
                    12.0125,
                    11.9985,
                    11.994,
                    12.005500000000001,
                    12.012,
                    12.017,
                    12.019,
                    12.044,
                    12.074,
                    12.097,
                    12.0965,
                    12.0975,
                    12.0795,
                    12.045,
                    12.008,
                    11.9655,
                    11.925,
                    11.889500000000002,
                    11.870000000000001,
                    11.861500000000001,
                    11.867,
                    11.891,
                    11.9155,
                    11.931000000000001,
                    11.951,
                    11.9625,
                    11.983,
                    12.022,
                    12.05,
                    12.095,
                    12.1745,
                    12.251000000000001,
                    12.3455,
                    12.439,
                    12.5265,
                    12.617999999999999,
                    12.7135,
                    12.806999999999999,
                    12.870499999999998,
                    12.926499999999999,
                    12.976500000000001,
                    13.009,
                    13.0315,
                    13.040000000000001,
                    13.051999999999998,
                    13.056999999999999,
                    13.0515,
                    12.997499999999999,
                    12.945000000000002,
                    12.875,
                    12.791,
                    12.708499999999999,
                    12.625,
                    12.556999999999999,
                    12.484,
                    12.3955,
                    12.307,
                    12.207,
                    12.1155,
                    12.0285,
                    11.93,
                    11.8465,
                    11.799000000000001,
                    11.764,
                    11.7215,
                    11.683,
                    11.648,
                    11.645999999999999,
                    11.627500000000001,
                    11.6115,
                    11.588,
                    11.5685,
                    11.562,
                    11.5535,
                    11.557500000000001,
                    11.5655,
                    11.5665,
                    11.5695,
                    11.581999999999999,
                    11.611,
                    11.646,
                    11.683,
                    11.6945,
                    11.714,
                    11.7465,
                    11.770999999999999,
                    11.7865,
                    11.801,
                    11.8365,
                    11.875,
                    11.916,
                    11.9645,
                    12.0005,
                    12.035499999999999,
                    12.0565,
                    12.087,
                    12.1345,
                    12.1795,
                    12.2,
                    12.2015,
                    12.203,
                    12.1975,
                    12.2025,
                    12.189,
                    12.1635,
                    12.130500000000001,
                    12.108500000000001,
                    12.0795,
                    12.0485,
                    12.012,
                    11.963,
                    11.914,
                    11.846,
                    11.7745,
                    11.726,
                    11.68,
                    11.6135,
                    11.5565,
                    11.524,
                    11.486,
                    11.4565,
                    11.425500000000001,
                    11.3895,
                    11.374500000000001,
                    11.371500000000001,
                    11.3845,
                    11.4015,
                    11.438,
                    11.4705,
                    11.520999999999999,
                    11.6015,
                    11.684000000000001,
                    11.785,
                    11.891,
                    11.975,
                    12.044500000000001,
                    12.1195,
                    12.1955,
                    12.2625,
                    12.327499999999999,
                    12.376999999999999,
                    12.4235,
                    12.4655,
                    12.497,
                    12.5235,
                    12.536,
                    12.5235,
                    12.489999999999998,
                    12.456,
                    12.4005,
                    12.327,
                    12.246,
                    12.177999999999999,
                    12.119,
                    12.0705,
                    12.041,
                    12.017999999999999,
                    11.9895,
                    11.965,
                    11.96,
                    11.9635,
                    11.9815,
                    11.997,
                    12.0175,
                    12.0415,
                    12.083,
                    12.129999999999999,
                    12.1745,
                    12.228,
                    12.307500000000001,
                    12.388,
                    12.466,
                    12.541500000000001,
                    12.5975,
                    12.653,
                    12.6955,
                    12.722,
                    12.75,
                    12.7845,
                    12.8105,
                    12.839499999999997,
                    12.86,
                    12.892500000000002,
                    12.9275,
                    12.9595,
                    12.9875,
                    13.0255,
                    13.061000000000002,
                    13.0855,
                    13.073500000000001,
                    13.0685,
                    13.068999999999999,
                    13.0665,
                    13.0695,
                    13.068000000000001,
                    13.0635,
                    13.086500000000001,
                    13.111,
                    13.135,
                    13.166,
                    13.193999999999999,
                    13.220500000000001,
                    13.225,
                    13.223499999999998,
                    13.218,
                    13.217500000000001,
                    13.223500000000001,
                    13.2405
                  ],
                  "yaxis": "y"
                },
                {
                  "hovertemplate": "variable=rolling_mean60<br>Date=%{x}<br>value=%{y}<extra></extra>",
                  "legendgroup": "rolling_mean60",
                  "line": {
                    "color": "#00cc96",
                    "dash": "solid"
                  },
                  "marker": {
                    "symbol": "circle"
                  },
                  "mode": "lines",
                  "name": "rolling_mean60",
                  "orientation": "v",
                  "showlegend": true,
                  "type": "scatter",
                  "x": [
                    "2019-01-02T00:00:00",
                    "2019-01-03T00:00:00",
                    "2019-01-04T00:00:00",
                    "2019-01-07T00:00:00",
                    "2019-01-08T00:00:00",
                    "2019-01-09T00:00:00",
                    "2019-01-10T00:00:00",
                    "2019-01-11T00:00:00",
                    "2019-01-14T00:00:00",
                    "2019-01-15T00:00:00",
                    "2019-01-16T00:00:00",
                    "2019-01-17T00:00:00",
                    "2019-01-18T00:00:00",
                    "2019-01-22T00:00:00",
                    "2019-01-23T00:00:00",
                    "2019-01-24T00:00:00",
                    "2019-01-25T00:00:00",
                    "2019-01-28T00:00:00",
                    "2019-01-29T00:00:00",
                    "2019-01-30T00:00:00",
                    "2019-01-31T00:00:00",
                    "2019-02-01T00:00:00",
                    "2019-02-04T00:00:00",
                    "2019-02-05T00:00:00",
                    "2019-02-06T00:00:00",
                    "2019-02-07T00:00:00",
                    "2019-02-08T00:00:00",
                    "2019-02-11T00:00:00",
                    "2019-02-12T00:00:00",
                    "2019-02-13T00:00:00",
                    "2019-02-14T00:00:00",
                    "2019-02-15T00:00:00",
                    "2019-02-19T00:00:00",
                    "2019-02-20T00:00:00",
                    "2019-02-21T00:00:00",
                    "2019-02-22T00:00:00",
                    "2019-02-25T00:00:00",
                    "2019-02-26T00:00:00",
                    "2019-02-27T00:00:00",
                    "2019-02-28T00:00:00",
                    "2019-03-01T00:00:00",
                    "2019-03-04T00:00:00",
                    "2019-03-05T00:00:00",
                    "2019-03-06T00:00:00",
                    "2019-03-07T00:00:00",
                    "2019-03-08T00:00:00",
                    "2019-03-11T00:00:00",
                    "2019-03-12T00:00:00",
                    "2019-03-13T00:00:00",
                    "2019-03-14T00:00:00",
                    "2019-03-15T00:00:00",
                    "2019-03-18T00:00:00",
                    "2019-03-19T00:00:00",
                    "2019-03-20T00:00:00",
                    "2019-03-21T00:00:00",
                    "2019-03-22T00:00:00",
                    "2019-03-25T00:00:00",
                    "2019-03-26T00:00:00",
                    "2019-03-27T00:00:00",
                    "2019-03-28T00:00:00",
                    "2019-03-29T00:00:00",
                    "2019-04-01T00:00:00",
                    "2019-04-02T00:00:00",
                    "2019-04-03T00:00:00",
                    "2019-04-04T00:00:00",
                    "2019-04-05T00:00:00",
                    "2019-04-08T00:00:00",
                    "2019-04-09T00:00:00",
                    "2019-04-10T00:00:00",
                    "2019-04-11T00:00:00",
                    "2019-04-12T00:00:00",
                    "2019-04-15T00:00:00",
                    "2019-04-16T00:00:00",
                    "2019-04-17T00:00:00",
                    "2019-04-18T00:00:00",
                    "2019-04-22T00:00:00",
                    "2019-04-23T00:00:00",
                    "2019-04-24T00:00:00",
                    "2019-04-25T00:00:00",
                    "2019-04-26T00:00:00",
                    "2019-04-29T00:00:00",
                    "2019-04-30T00:00:00",
                    "2019-05-01T00:00:00",
                    "2019-05-02T00:00:00",
                    "2019-05-03T00:00:00",
                    "2019-05-06T00:00:00",
                    "2019-05-07T00:00:00",
                    "2019-05-08T00:00:00",
                    "2019-05-09T00:00:00",
                    "2019-05-10T00:00:00",
                    "2019-05-13T00:00:00",
                    "2019-05-14T00:00:00",
                    "2019-05-15T00:00:00",
                    "2019-05-16T00:00:00",
                    "2019-05-17T00:00:00",
                    "2019-05-20T00:00:00",
                    "2019-05-21T00:00:00",
                    "2019-05-22T00:00:00",
                    "2019-05-23T00:00:00",
                    "2019-05-24T00:00:00",
                    "2019-05-28T00:00:00",
                    "2019-05-29T00:00:00",
                    "2019-05-30T00:00:00",
                    "2019-05-31T00:00:00",
                    "2019-06-03T00:00:00",
                    "2019-06-04T00:00:00",
                    "2019-06-05T00:00:00",
                    "2019-06-06T00:00:00",
                    "2019-06-07T00:00:00",
                    "2019-06-10T00:00:00",
                    "2019-06-11T00:00:00",
                    "2019-06-12T00:00:00",
                    "2019-06-13T00:00:00",
                    "2019-06-14T00:00:00",
                    "2019-06-17T00:00:00",
                    "2019-06-18T00:00:00",
                    "2019-06-19T00:00:00",
                    "2019-06-20T00:00:00",
                    "2019-06-21T00:00:00",
                    "2019-06-24T00:00:00",
                    "2019-06-25T00:00:00",
                    "2019-06-26T00:00:00",
                    "2019-06-27T00:00:00",
                    "2019-06-28T00:00:00",
                    "2019-07-01T00:00:00",
                    "2019-07-02T00:00:00",
                    "2019-07-03T00:00:00",
                    "2019-07-05T00:00:00",
                    "2019-07-08T00:00:00",
                    "2019-07-09T00:00:00",
                    "2019-07-10T00:00:00",
                    "2019-07-11T00:00:00",
                    "2019-07-12T00:00:00",
                    "2019-07-15T00:00:00",
                    "2019-07-16T00:00:00",
                    "2019-07-17T00:00:00",
                    "2019-07-18T00:00:00",
                    "2019-07-19T00:00:00",
                    "2019-07-22T00:00:00",
                    "2019-07-23T00:00:00",
                    "2019-07-24T00:00:00",
                    "2019-07-25T00:00:00",
                    "2019-07-26T00:00:00",
                    "2019-07-29T00:00:00",
                    "2019-07-30T00:00:00",
                    "2019-07-31T00:00:00",
                    "2019-08-01T00:00:00",
                    "2019-08-02T00:00:00",
                    "2019-08-05T00:00:00",
                    "2019-08-06T00:00:00",
                    "2019-08-07T00:00:00",
                    "2019-08-08T00:00:00",
                    "2019-08-09T00:00:00",
                    "2019-08-12T00:00:00",
                    "2019-08-13T00:00:00",
                    "2019-08-14T00:00:00",
                    "2019-08-15T00:00:00",
                    "2019-08-16T00:00:00",
                    "2019-08-19T00:00:00",
                    "2019-08-20T00:00:00",
                    "2019-08-21T00:00:00",
                    "2019-08-22T00:00:00",
                    "2019-08-23T00:00:00",
                    "2019-08-26T00:00:00",
                    "2019-08-27T00:00:00",
                    "2019-08-28T00:00:00",
                    "2019-08-29T00:00:00",
                    "2019-08-30T00:00:00",
                    "2019-09-03T00:00:00",
                    "2019-09-04T00:00:00",
                    "2019-09-05T00:00:00",
                    "2019-09-06T00:00:00",
                    "2019-09-09T00:00:00",
                    "2019-09-10T00:00:00",
                    "2019-09-11T00:00:00",
                    "2019-09-12T00:00:00",
                    "2019-09-13T00:00:00",
                    "2019-09-16T00:00:00",
                    "2019-09-17T00:00:00",
                    "2019-09-18T00:00:00",
                    "2019-09-19T00:00:00",
                    "2019-09-20T00:00:00",
                    "2019-09-23T00:00:00",
                    "2019-09-24T00:00:00",
                    "2019-09-25T00:00:00",
                    "2019-09-26T00:00:00",
                    "2019-09-27T00:00:00",
                    "2019-09-30T00:00:00",
                    "2019-10-01T00:00:00",
                    "2019-10-02T00:00:00",
                    "2019-10-03T00:00:00",
                    "2019-10-04T00:00:00",
                    "2019-10-07T00:00:00",
                    "2019-10-08T00:00:00",
                    "2019-10-09T00:00:00",
                    "2019-10-10T00:00:00",
                    "2019-10-11T00:00:00",
                    "2019-10-14T00:00:00",
                    "2019-10-15T00:00:00",
                    "2019-10-16T00:00:00",
                    "2019-10-17T00:00:00",
                    "2019-10-18T00:00:00",
                    "2019-10-21T00:00:00",
                    "2019-10-22T00:00:00",
                    "2019-10-23T00:00:00",
                    "2019-10-24T00:00:00",
                    "2019-10-25T00:00:00",
                    "2019-10-28T00:00:00",
                    "2019-10-29T00:00:00",
                    "2019-10-30T00:00:00",
                    "2019-10-31T00:00:00",
                    "2019-11-01T00:00:00",
                    "2019-11-04T00:00:00",
                    "2019-11-05T00:00:00",
                    "2019-11-06T00:00:00",
                    "2019-11-07T00:00:00",
                    "2019-11-08T00:00:00",
                    "2019-11-11T00:00:00",
                    "2019-11-12T00:00:00",
                    "2019-11-13T00:00:00",
                    "2019-11-14T00:00:00",
                    "2019-11-15T00:00:00",
                    "2019-11-18T00:00:00",
                    "2019-11-19T00:00:00",
                    "2019-11-20T00:00:00",
                    "2019-11-21T00:00:00",
                    "2019-11-22T00:00:00",
                    "2019-11-25T00:00:00",
                    "2019-11-26T00:00:00",
                    "2019-11-27T00:00:00",
                    "2019-11-29T00:00:00",
                    "2019-12-02T00:00:00",
                    "2019-12-03T00:00:00",
                    "2019-12-04T00:00:00",
                    "2019-12-05T00:00:00",
                    "2019-12-06T00:00:00",
                    "2019-12-09T00:00:00",
                    "2019-12-10T00:00:00",
                    "2019-12-11T00:00:00",
                    "2019-12-12T00:00:00",
                    "2019-12-13T00:00:00",
                    "2019-12-16T00:00:00",
                    "2019-12-17T00:00:00",
                    "2019-12-18T00:00:00",
                    "2019-12-19T00:00:00",
                    "2019-12-20T00:00:00",
                    "2019-12-23T00:00:00",
                    "2019-12-24T00:00:00",
                    "2019-12-26T00:00:00",
                    "2019-12-27T00:00:00",
                    "2019-12-30T00:00:00"
                  ],
                  "xaxis": "x",
                  "y": [
                    12.190833333333332,
                    12.134833333333335,
                    12.087166666666665,
                    12.043,
                    12.006166666666667,
                    11.975166666666667,
                    11.946,
                    11.917666666666667,
                    11.8895,
                    11.861166666666666,
                    11.845166666666668,
                    11.828666666666667,
                    11.818000000000001,
                    11.807166666666665,
                    11.808166666666667,
                    11.805666666666665,
                    11.805666666666665,
                    11.803166666666666,
                    11.795333333333334,
                    11.786833333333334,
                    11.773333333333333,
                    11.7595,
                    11.7465,
                    11.735666666666667,
                    11.720166666666668,
                    11.702499999999999,
                    11.683666666666666,
                    11.670166666666667,
                    11.659666666666668,
                    11.6525,
                    11.638166666666667,
                    11.627666666666666,
                    11.621,
                    11.626000000000001,
                    11.624833333333333,
                    11.626166666666668,
                    11.626,
                    11.630333333333335,
                    11.633999999999999,
                    11.640333333333333,
                    11.649333333333335,
                    11.654833333333332,
                    11.664666666666667,
                    11.677999999999999,
                    11.690166666666666,
                    11.702666666666666,
                    11.7195,
                    11.727666666666668,
                    11.739666666666666,
                    11.755166666666668,
                    11.773833333333332,
                    11.798166666666667,
                    11.8255,
                    11.850166666666667,
                    11.8735,
                    11.891666666666667,
                    11.9015,
                    11.9145,
                    11.924666666666667,
                    11.935333333333334,
                    11.945500000000001,
                    11.9635,
                    11.976,
                    11.990166666666669,
                    12.002999999999998,
                    12.014333333333333,
                    12.0225,
                    12.029,
                    12.034166666666668,
                    12.0435,
                    12.054333333333334,
                    12.067,
                    12.081833333333332,
                    12.105166666666667,
                    12.123999999999999,
                    12.142166666666668,
                    12.155166666666668,
                    12.169333333333332,
                    12.1855,
                    12.202,
                    12.2255,
                    12.247000000000002,
                    12.267,
                    12.285333333333334,
                    12.2995,
                    12.313666666666666,
                    12.325500000000002,
                    12.338333333333333,
                    12.3455,
                    12.351166666666666,
                    12.3545,
                    12.356333333333334,
                    12.355666666666668,
                    12.354000000000001,
                    12.352333333333332,
                    12.35,
                    12.347000000000001,
                    12.3395,
                    12.326333333333334,
                    12.315166666666666,
                    12.301166666666665,
                    12.285333333333334,
                    12.272166666666667,
                    12.257833333333334,
                    12.248833333333332,
                    12.248666666666667,
                    12.245000000000001,
                    12.2415,
                    12.234166666666665,
                    12.2275,
                    12.221833333333334,
                    12.207500000000001,
                    12.193833333333334,
                    12.184500000000002,
                    12.176,
                    12.177500000000002,
                    12.183166666666665,
                    12.189333333333334,
                    12.193000000000001,
                    12.195666666666666,
                    12.194500000000001,
                    12.189333333333334,
                    12.188666666666666,
                    12.184166666666666,
                    12.1795,
                    12.175,
                    12.172666666666666,
                    12.173333333333334,
                    12.170333333333332,
                    12.162,
                    12.148166666666667,
                    12.136333333333335,
                    12.1205,
                    12.098333333333333,
                    12.0805,
                    12.0625,
                    12.048666666666666,
                    12.032666666666668,
                    12.016,
                    12.002666666666666,
                    11.985333333333333,
                    11.965833333333332,
                    11.947000000000001,
                    11.926333333333334,
                    11.908999999999999,
                    11.898666666666667,
                    11.889,
                    11.877166666666666,
                    11.8615,
                    11.847666666666667,
                    11.842166666666667,
                    11.8375,
                    11.832833333333333,
                    11.822333333333331,
                    11.815666666666665,
                    11.802833333333332,
                    11.787833333333333,
                    11.78,
                    11.7775,
                    11.771500000000001,
                    11.7685,
                    11.768666666666666,
                    11.766166666666665,
                    11.7685,
                    11.768666666666666,
                    11.762166666666667,
                    11.759166666666665,
                    11.7605,
                    11.762,
                    11.7655,
                    11.772833333333333,
                    11.785166666666667,
                    11.802666666666665,
                    11.826833333333331,
                    11.854166666666666,
                    11.877166666666666,
                    11.900333333333334,
                    11.919166666666666,
                    11.937166666666664,
                    11.955833333333334,
                    11.977166666666667,
                    11.9955,
                    12.005,
                    12.012166666666667,
                    12.0155,
                    12.019166666666667,
                    12.020166666666666,
                    12.019499999999999,
                    12.017,
                    12.011166666666666,
                    12.0025,
                    11.991666666666667,
                    11.977833333333333,
                    11.963833333333334,
                    11.948,
                    11.936333333333332,
                    11.928166666666668,
                    11.923833333333333,
                    11.921833333333332,
                    11.917000000000002,
                    11.913833333333335,
                    11.917166666666667,
                    11.924499999999998,
                    11.932333333333332,
                    11.9435,
                    11.950666666666667,
                    11.963000000000001,
                    11.978833333333334,
                    12.001166666666668,
                    12.018333333333334,
                    12.034166666666666,
                    12.0515,
                    12.076333333333334,
                    12.105500000000001,
                    12.132000000000001,
                    12.168166666666668,
                    12.202499999999999,
                    12.232833333333334,
                    12.260333333333334,
                    12.286499999999998,
                    12.311666666666667,
                    12.337333333333333,
                    12.366000000000001,
                    12.393333333333333,
                    12.421666666666669,
                    12.451666666666666,
                    12.480666666666668,
                    12.508166666666666,
                    12.5355,
                    12.559666666666667,
                    12.575166666666666,
                    12.589833333333333,
                    12.593833333333333,
                    12.594500000000002,
                    12.593666666666667,
                    12.595333333333333,
                    12.595333333333333,
                    12.597166666666668,
                    12.6,
                    12.608833333333333,
                    12.616833333333334,
                    12.628166666666667,
                    12.6455,
                    12.665666666666668,
                    12.687333333333333,
                    12.704833333333335,
                    12.722833333333334,
                    12.739666666666666,
                    12.762666666666666,
                    12.793000000000001,
                    12.825333333333333
                  ],
                  "yaxis": "y"
                }
              ],
              "layout": {
                "height": 600,
                "legend": {
                  "title": {
                    "text": "Data Points"
                  },
                  "tracegroupgap": 0
                },
                "margin": {
                  "t": 60
                },
                "template": {
                  "data": {
                    "bar": [
                      {
                        "error_x": {
                          "color": "#2a3f5f"
                        },
                        "error_y": {
                          "color": "#2a3f5f"
                        },
                        "marker": {
                          "line": {
                            "color": "#E5ECF6",
                            "width": 0.5
                          },
                          "pattern": {
                            "fillmode": "overlay",
                            "size": 10,
                            "solidity": 0.2
                          }
                        },
                        "type": "bar"
                      }
                    ],
                    "barpolar": [
                      {
                        "marker": {
                          "line": {
                            "color": "#E5ECF6",
                            "width": 0.5
                          },
                          "pattern": {
                            "fillmode": "overlay",
                            "size": 10,
                            "solidity": 0.2
                          }
                        },
                        "type": "barpolar"
                      }
                    ],
                    "carpet": [
                      {
                        "aaxis": {
                          "endlinecolor": "#2a3f5f",
                          "gridcolor": "white",
                          "linecolor": "white",
                          "minorgridcolor": "white",
                          "startlinecolor": "#2a3f5f"
                        },
                        "baxis": {
                          "endlinecolor": "#2a3f5f",
                          "gridcolor": "white",
                          "linecolor": "white",
                          "minorgridcolor": "white",
                          "startlinecolor": "#2a3f5f"
                        },
                        "type": "carpet"
                      }
                    ],
                    "choropleth": [
                      {
                        "colorbar": {
                          "outlinewidth": 0,
                          "ticks": ""
                        },
                        "type": "choropleth"
                      }
                    ],
                    "contour": [
                      {
                        "colorbar": {
                          "outlinewidth": 0,
                          "ticks": ""
                        },
                        "colorscale": [
                          [
                            0,
                            "#0d0887"
                          ],
                          [
                            0.1111111111111111,
                            "#46039f"
                          ],
                          [
                            0.2222222222222222,
                            "#7201a8"
                          ],
                          [
                            0.3333333333333333,
                            "#9c179e"
                          ],
                          [
                            0.4444444444444444,
                            "#bd3786"
                          ],
                          [
                            0.5555555555555556,
                            "#d8576b"
                          ],
                          [
                            0.6666666666666666,
                            "#ed7953"
                          ],
                          [
                            0.7777777777777778,
                            "#fb9f3a"
                          ],
                          [
                            0.8888888888888888,
                            "#fdca26"
                          ],
                          [
                            1,
                            "#f0f921"
                          ]
                        ],
                        "type": "contour"
                      }
                    ],
                    "contourcarpet": [
                      {
                        "colorbar": {
                          "outlinewidth": 0,
                          "ticks": ""
                        },
                        "type": "contourcarpet"
                      }
                    ],
                    "heatmap": [
                      {
                        "colorbar": {
                          "outlinewidth": 0,
                          "ticks": ""
                        },
                        "colorscale": [
                          [
                            0,
                            "#0d0887"
                          ],
                          [
                            0.1111111111111111,
                            "#46039f"
                          ],
                          [
                            0.2222222222222222,
                            "#7201a8"
                          ],
                          [
                            0.3333333333333333,
                            "#9c179e"
                          ],
                          [
                            0.4444444444444444,
                            "#bd3786"
                          ],
                          [
                            0.5555555555555556,
                            "#d8576b"
                          ],
                          [
                            0.6666666666666666,
                            "#ed7953"
                          ],
                          [
                            0.7777777777777778,
                            "#fb9f3a"
                          ],
                          [
                            0.8888888888888888,
                            "#fdca26"
                          ],
                          [
                            1,
                            "#f0f921"
                          ]
                        ],
                        "type": "heatmap"
                      }
                    ],
                    "heatmapgl": [
                      {
                        "colorbar": {
                          "outlinewidth": 0,
                          "ticks": ""
                        },
                        "colorscale": [
                          [
                            0,
                            "#0d0887"
                          ],
                          [
                            0.1111111111111111,
                            "#46039f"
                          ],
                          [
                            0.2222222222222222,
                            "#7201a8"
                          ],
                          [
                            0.3333333333333333,
                            "#9c179e"
                          ],
                          [
                            0.4444444444444444,
                            "#bd3786"
                          ],
                          [
                            0.5555555555555556,
                            "#d8576b"
                          ],
                          [
                            0.6666666666666666,
                            "#ed7953"
                          ],
                          [
                            0.7777777777777778,
                            "#fb9f3a"
                          ],
                          [
                            0.8888888888888888,
                            "#fdca26"
                          ],
                          [
                            1,
                            "#f0f921"
                          ]
                        ],
                        "type": "heatmapgl"
                      }
                    ],
                    "histogram": [
                      {
                        "marker": {
                          "pattern": {
                            "fillmode": "overlay",
                            "size": 10,
                            "solidity": 0.2
                          }
                        },
                        "type": "histogram"
                      }
                    ],
                    "histogram2d": [
                      {
                        "colorbar": {
                          "outlinewidth": 0,
                          "ticks": ""
                        },
                        "colorscale": [
                          [
                            0,
                            "#0d0887"
                          ],
                          [
                            0.1111111111111111,
                            "#46039f"
                          ],
                          [
                            0.2222222222222222,
                            "#7201a8"
                          ],
                          [
                            0.3333333333333333,
                            "#9c179e"
                          ],
                          [
                            0.4444444444444444,
                            "#bd3786"
                          ],
                          [
                            0.5555555555555556,
                            "#d8576b"
                          ],
                          [
                            0.6666666666666666,
                            "#ed7953"
                          ],
                          [
                            0.7777777777777778,
                            "#fb9f3a"
                          ],
                          [
                            0.8888888888888888,
                            "#fdca26"
                          ],
                          [
                            1,
                            "#f0f921"
                          ]
                        ],
                        "type": "histogram2d"
                      }
                    ],
                    "histogram2dcontour": [
                      {
                        "colorbar": {
                          "outlinewidth": 0,
                          "ticks": ""
                        },
                        "colorscale": [
                          [
                            0,
                            "#0d0887"
                          ],
                          [
                            0.1111111111111111,
                            "#46039f"
                          ],
                          [
                            0.2222222222222222,
                            "#7201a8"
                          ],
                          [
                            0.3333333333333333,
                            "#9c179e"
                          ],
                          [
                            0.4444444444444444,
                            "#bd3786"
                          ],
                          [
                            0.5555555555555556,
                            "#d8576b"
                          ],
                          [
                            0.6666666666666666,
                            "#ed7953"
                          ],
                          [
                            0.7777777777777778,
                            "#fb9f3a"
                          ],
                          [
                            0.8888888888888888,
                            "#fdca26"
                          ],
                          [
                            1,
                            "#f0f921"
                          ]
                        ],
                        "type": "histogram2dcontour"
                      }
                    ],
                    "mesh3d": [
                      {
                        "colorbar": {
                          "outlinewidth": 0,
                          "ticks": ""
                        },
                        "type": "mesh3d"
                      }
                    ],
                    "parcoords": [
                      {
                        "line": {
                          "colorbar": {
                            "outlinewidth": 0,
                            "ticks": ""
                          }
                        },
                        "type": "parcoords"
                      }
                    ],
                    "pie": [
                      {
                        "automargin": true,
                        "type": "pie"
                      }
                    ],
                    "scatter": [
                      {
                        "fillpattern": {
                          "fillmode": "overlay",
                          "size": 10,
                          "solidity": 0.2
                        },
                        "type": "scatter"
                      }
                    ],
                    "scatter3d": [
                      {
                        "line": {
                          "colorbar": {
                            "outlinewidth": 0,
                            "ticks": ""
                          }
                        },
                        "marker": {
                          "colorbar": {
                            "outlinewidth": 0,
                            "ticks": ""
                          }
                        },
                        "type": "scatter3d"
                      }
                    ],
                    "scattercarpet": [
                      {
                        "marker": {
                          "colorbar": {
                            "outlinewidth": 0,
                            "ticks": ""
                          }
                        },
                        "type": "scattercarpet"
                      }
                    ],
                    "scattergeo": [
                      {
                        "marker": {
                          "colorbar": {
                            "outlinewidth": 0,
                            "ticks": ""
                          }
                        },
                        "type": "scattergeo"
                      }
                    ],
                    "scattergl": [
                      {
                        "marker": {
                          "colorbar": {
                            "outlinewidth": 0,
                            "ticks": ""
                          }
                        },
                        "type": "scattergl"
                      }
                    ],
                    "scattermapbox": [
                      {
                        "marker": {
                          "colorbar": {
                            "outlinewidth": 0,
                            "ticks": ""
                          }
                        },
                        "type": "scattermapbox"
                      }
                    ],
                    "scatterpolar": [
                      {
                        "marker": {
                          "colorbar": {
                            "outlinewidth": 0,
                            "ticks": ""
                          }
                        },
                        "type": "scatterpolar"
                      }
                    ],
                    "scatterpolargl": [
                      {
                        "marker": {
                          "colorbar": {
                            "outlinewidth": 0,
                            "ticks": ""
                          }
                        },
                        "type": "scatterpolargl"
                      }
                    ],
                    "scatterternary": [
                      {
                        "marker": {
                          "colorbar": {
                            "outlinewidth": 0,
                            "ticks": ""
                          }
                        },
                        "type": "scatterternary"
                      }
                    ],
                    "surface": [
                      {
                        "colorbar": {
                          "outlinewidth": 0,
                          "ticks": ""
                        },
                        "colorscale": [
                          [
                            0,
                            "#0d0887"
                          ],
                          [
                            0.1111111111111111,
                            "#46039f"
                          ],
                          [
                            0.2222222222222222,
                            "#7201a8"
                          ],
                          [
                            0.3333333333333333,
                            "#9c179e"
                          ],
                          [
                            0.4444444444444444,
                            "#bd3786"
                          ],
                          [
                            0.5555555555555556,
                            "#d8576b"
                          ],
                          [
                            0.6666666666666666,
                            "#ed7953"
                          ],
                          [
                            0.7777777777777778,
                            "#fb9f3a"
                          ],
                          [
                            0.8888888888888888,
                            "#fdca26"
                          ],
                          [
                            1,
                            "#f0f921"
                          ]
                        ],
                        "type": "surface"
                      }
                    ],
                    "table": [
                      {
                        "cells": {
                          "fill": {
                            "color": "#EBF0F8"
                          },
                          "line": {
                            "color": "white"
                          }
                        },
                        "header": {
                          "fill": {
                            "color": "#C8D4E3"
                          },
                          "line": {
                            "color": "white"
                          }
                        },
                        "type": "table"
                      }
                    ]
                  },
                  "layout": {
                    "annotationdefaults": {
                      "arrowcolor": "#2a3f5f",
                      "arrowhead": 0,
                      "arrowwidth": 1
                    },
                    "autotypenumbers": "strict",
                    "coloraxis": {
                      "colorbar": {
                        "outlinewidth": 0,
                        "ticks": ""
                      }
                    },
                    "colorscale": {
                      "diverging": [
                        [
                          0,
                          "#8e0152"
                        ],
                        [
                          0.1,
                          "#c51b7d"
                        ],
                        [
                          0.2,
                          "#de77ae"
                        ],
                        [
                          0.3,
                          "#f1b6da"
                        ],
                        [
                          0.4,
                          "#fde0ef"
                        ],
                        [
                          0.5,
                          "#f7f7f7"
                        ],
                        [
                          0.6,
                          "#e6f5d0"
                        ],
                        [
                          0.7,
                          "#b8e186"
                        ],
                        [
                          0.8,
                          "#7fbc41"
                        ],
                        [
                          0.9,
                          "#4d9221"
                        ],
                        [
                          1,
                          "#276419"
                        ]
                      ],
                      "sequential": [
                        [
                          0,
                          "#0d0887"
                        ],
                        [
                          0.1111111111111111,
                          "#46039f"
                        ],
                        [
                          0.2222222222222222,
                          "#7201a8"
                        ],
                        [
                          0.3333333333333333,
                          "#9c179e"
                        ],
                        [
                          0.4444444444444444,
                          "#bd3786"
                        ],
                        [
                          0.5555555555555556,
                          "#d8576b"
                        ],
                        [
                          0.6666666666666666,
                          "#ed7953"
                        ],
                        [
                          0.7777777777777778,
                          "#fb9f3a"
                        ],
                        [
                          0.8888888888888888,
                          "#fdca26"
                        ],
                        [
                          1,
                          "#f0f921"
                        ]
                      ],
                      "sequentialminus": [
                        [
                          0,
                          "#0d0887"
                        ],
                        [
                          0.1111111111111111,
                          "#46039f"
                        ],
                        [
                          0.2222222222222222,
                          "#7201a8"
                        ],
                        [
                          0.3333333333333333,
                          "#9c179e"
                        ],
                        [
                          0.4444444444444444,
                          "#bd3786"
                        ],
                        [
                          0.5555555555555556,
                          "#d8576b"
                        ],
                        [
                          0.6666666666666666,
                          "#ed7953"
                        ],
                        [
                          0.7777777777777778,
                          "#fb9f3a"
                        ],
                        [
                          0.8888888888888888,
                          "#fdca26"
                        ],
                        [
                          1,
                          "#f0f921"
                        ]
                      ]
                    },
                    "colorway": [
                      "#636efa",
                      "#EF553B",
                      "#00cc96",
                      "#ab63fa",
                      "#FFA15A",
                      "#19d3f3",
                      "#FF6692",
                      "#B6E880",
                      "#FF97FF",
                      "#FECB52"
                    ],
                    "font": {
                      "color": "#2a3f5f"
                    },
                    "geo": {
                      "bgcolor": "white",
                      "lakecolor": "white",
                      "landcolor": "#E5ECF6",
                      "showlakes": true,
                      "showland": true,
                      "subunitcolor": "white"
                    },
                    "hoverlabel": {
                      "align": "left"
                    },
                    "hovermode": "closest",
                    "mapbox": {
                      "style": "light"
                    },
                    "paper_bgcolor": "white",
                    "plot_bgcolor": "#E5ECF6",
                    "polar": {
                      "angularaxis": {
                        "gridcolor": "white",
                        "linecolor": "white",
                        "ticks": ""
                      },
                      "bgcolor": "#E5ECF6",
                      "radialaxis": {
                        "gridcolor": "white",
                        "linecolor": "white",
                        "ticks": ""
                      }
                    },
                    "scene": {
                      "xaxis": {
                        "backgroundcolor": "#E5ECF6",
                        "gridcolor": "white",
                        "gridwidth": 2,
                        "linecolor": "white",
                        "showbackground": true,
                        "ticks": "",
                        "zerolinecolor": "white"
                      },
                      "yaxis": {
                        "backgroundcolor": "#E5ECF6",
                        "gridcolor": "white",
                        "gridwidth": 2,
                        "linecolor": "white",
                        "showbackground": true,
                        "ticks": "",
                        "zerolinecolor": "white"
                      },
                      "zaxis": {
                        "backgroundcolor": "#E5ECF6",
                        "gridcolor": "white",
                        "gridwidth": 2,
                        "linecolor": "white",
                        "showbackground": true,
                        "ticks": "",
                        "zerolinecolor": "white"
                      }
                    },
                    "shapedefaults": {
                      "line": {
                        "color": "#2a3f5f"
                      }
                    },
                    "ternary": {
                      "aaxis": {
                        "gridcolor": "white",
                        "linecolor": "white",
                        "ticks": ""
                      },
                      "baxis": {
                        "gridcolor": "white",
                        "linecolor": "white",
                        "ticks": ""
                      },
                      "bgcolor": "#E5ECF6",
                      "caxis": {
                        "gridcolor": "white",
                        "linecolor": "white",
                        "ticks": ""
                      }
                    },
                    "title": {
                      "x": 0.05
                    },
                    "xaxis": {
                      "automargin": true,
                      "gridcolor": "white",
                      "linecolor": "white",
                      "ticks": "",
                      "title": {
                        "standoff": 15
                      },
                      "zerolinecolor": "white",
                      "zerolinewidth": 2
                    },
                    "yaxis": {
                      "automargin": true,
                      "gridcolor": "white",
                      "linecolor": "white",
                      "ticks": "",
                      "title": {
                        "standoff": 15
                      },
                      "zerolinecolor": "white",
                      "zerolinewidth": 2
                    }
                  }
                },
                "title": {
                  "text": "Finance Institutes - Stock Market Price with Rolling Means <br><sup>CREDIT SUISSE</sup>"
                },
                "width": 1000,
                "xaxis": {
                  "anchor": "y",
                  "domain": [
                    0,
                    1
                  ],
                  "title": {
                    "text": "Date"
                  }
                },
                "yaxis": {
                  "anchor": "x",
                  "domain": [
                    0,
                    1
                  ],
                  "range": [
                    10,
                    15
                  ],
                  "title": {
                    "text": "US$"
                  }
                }
              }
            }
          },
          "metadata": {},
          "output_type": "display_data"
        }
      ],
      "source": [
        "import plotly.express as px\n",
        "df= dataY[(dataY['Date'] > \"2019-01-01\") & (dataY['Date'] < \"2019-12-31\")]\n",
        "#df.info()\n",
        "\n",
        "# Create Line plot\n",
        "fig = px.line(df, x=df['Date'], y=['Close', 'rolling_mean20','rolling_mean60'])\n",
        "\n",
        "\n",
        "# Setup Layout\n",
        "fig.update_layout(\n",
        "    title=\"Finance Institutes - Stock Market Price with Rolling Means <br><sup>CREDIT SUISSE</sup>\",\n",
        "    legend_title=\"Data Points\",\n",
        "    yaxis_title='US$',\n",
        "    width=1000, height=600,\n",
        "    yaxis_range = (10,15))\n",
        "\n",
        "# Display the plot\n",
        "fig.show()"
      ]
    },
    {
      "cell_type": "markdown",
      "metadata": {
        "id": "Z14NNUMZ9aky"
      },
      "source": [
        "---  \n",
        "### **Differencing** Time Series\n",
        "Differencing is a method of transforming a time series dataset. Differencing is performed by subtracting the previous observation from the current observation.  \n",
        "\n",
        "Differencing can help stabilize the mean of the time series by removing changes in the level of a time series, and so eliminating (or reducing) trend and seasonality. "
      ]
    },
    {
      "cell_type": "code",
      "execution_count": 74,
      "metadata": {
        "colab": {
          "base_uri": "https://localhost:8080/",
          "height": 352
        },
        "id": "uBHCJZn-ARmR",
        "outputId": "6adf0c88-eb19-4d64-b47a-3b18782bc17a"
      },
      "outputs": [
        {
          "name": "stderr",
          "output_type": "stream",
          "text": [
            "C:\\Users\\MarcoReinle\\AppData\\Local\\Temp\\ipykernel_4392\\4216438825.py:2: SettingWithCopyWarning:\n",
            "\n",
            "\n",
            "A value is trying to be set on a copy of a slice from a DataFrame.\n",
            "Try using .loc[row_indexer,col_indexer] = value instead\n",
            "\n",
            "See the caveats in the documentation: https://pandas.pydata.org/pandas-docs/stable/user_guide/indexing.html#returning-a-view-versus-a-copy\n",
            "\n"
          ]
        },
        {
          "data": {
            "text/html": [
              "<div>\n",
              "<style scoped>\n",
              "    .dataframe tbody tr th:only-of-type {\n",
              "        vertical-align: middle;\n",
              "    }\n",
              "\n",
              "    .dataframe tbody tr th {\n",
              "        vertical-align: top;\n",
              "    }\n",
              "\n",
              "    .dataframe thead th {\n",
              "        text-align: right;\n",
              "    }\n",
              "</style>\n",
              "<table border=\"1\" class=\"dataframe\">\n",
              "  <thead>\n",
              "    <tr style=\"text-align: right;\">\n",
              "      <th></th>\n",
              "      <th>Date</th>\n",
              "      <th>Close</th>\n",
              "      <th>diff1</th>\n",
              "    </tr>\n",
              "  </thead>\n",
              "  <tbody>\n",
              "    <tr>\n",
              "      <th>0</th>\n",
              "      <td>2009-04-06</td>\n",
              "      <td>30.703125</td>\n",
              "      <td>NaN</td>\n",
              "    </tr>\n",
              "    <tr>\n",
              "      <th>1</th>\n",
              "      <td>2009-04-07</td>\n",
              "      <td>29.482422</td>\n",
              "      <td>-1.220703</td>\n",
              "    </tr>\n",
              "    <tr>\n",
              "      <th>2</th>\n",
              "      <td>2009-04-08</td>\n",
              "      <td>30.644531</td>\n",
              "      <td>1.162109</td>\n",
              "    </tr>\n",
              "    <tr>\n",
              "      <th>3</th>\n",
              "      <td>2009-04-09</td>\n",
              "      <td>32.841797</td>\n",
              "      <td>2.197266</td>\n",
              "    </tr>\n",
              "    <tr>\n",
              "      <th>4</th>\n",
              "      <td>2009-04-13</td>\n",
              "      <td>33.974609</td>\n",
              "      <td>1.132812</td>\n",
              "    </tr>\n",
              "  </tbody>\n",
              "</table>\n",
              "</div>"
            ],
            "text/plain": [
              "        Date      Close     diff1\n",
              "0 2009-04-06  30.703125       NaN\n",
              "1 2009-04-07  29.482422 -1.220703\n",
              "2 2009-04-08  30.644531  1.162109\n",
              "3 2009-04-09  32.841797  2.197266\n",
              "4 2009-04-13  33.974609  1.132812"
            ]
          },
          "execution_count": 74,
          "metadata": {},
          "output_type": "execute_result"
        }
      ],
      "source": [
        "dataZ = data[['Date', 'Close']]\n",
        "dataZ['diff1'] = dataZ['Close'].diff(periods=1)\n",
        "\n",
        "dataZ.head()"
      ]
    },
    {
      "cell_type": "code",
      "execution_count": 75,
      "metadata": {
        "colab": {
          "base_uri": "https://localhost:8080/",
          "height": 655
        },
        "id": "dZnrw2vtBE7r",
        "outputId": "5085b465-77b5-4478-d6a2-e7c85a1a6a08"
      },
      "outputs": [
        {
          "name": "stderr",
          "output_type": "stream",
          "text": [
            "C:\\Users\\MarcoReinle\\AppData\\Local\\Temp\\ipykernel_4392\\3012783936.py:1: SettingWithCopyWarning:\n",
            "\n",
            "\n",
            "A value is trying to be set on a copy of a slice from a DataFrame.\n",
            "Try using .loc[row_indexer,col_indexer] = value instead\n",
            "\n",
            "See the caveats in the documentation: https://pandas.pydata.org/pandas-docs/stable/user_guide/indexing.html#returning-a-view-versus-a-copy\n",
            "\n",
            "C:\\Users\\MarcoReinle\\AppData\\Local\\Temp\\ipykernel_4392\\3012783936.py:2: SettingWithCopyWarning:\n",
            "\n",
            "\n",
            "A value is trying to be set on a copy of a slice from a DataFrame.\n",
            "Try using .loc[row_indexer,col_indexer] = value instead\n",
            "\n",
            "See the caveats in the documentation: https://pandas.pydata.org/pandas-docs/stable/user_guide/indexing.html#returning-a-view-versus-a-copy\n",
            "\n"
          ]
        },
        {
          "data": {
            "text/html": [
              "<div>\n",
              "<style scoped>\n",
              "    .dataframe tbody tr th:only-of-type {\n",
              "        vertical-align: middle;\n",
              "    }\n",
              "\n",
              "    .dataframe tbody tr th {\n",
              "        vertical-align: top;\n",
              "    }\n",
              "\n",
              "    .dataframe thead th {\n",
              "        text-align: right;\n",
              "    }\n",
              "</style>\n",
              "<table border=\"1\" class=\"dataframe\">\n",
              "  <thead>\n",
              "    <tr style=\"text-align: right;\">\n",
              "      <th></th>\n",
              "      <th>Date</th>\n",
              "      <th>Close</th>\n",
              "      <th>diff1</th>\n",
              "      <th>diff2</th>\n",
              "      <th>diff5</th>\n",
              "    </tr>\n",
              "  </thead>\n",
              "  <tbody>\n",
              "    <tr>\n",
              "      <th>0</th>\n",
              "      <td>2009-04-06</td>\n",
              "      <td>30.703125</td>\n",
              "      <td>NaN</td>\n",
              "      <td>NaN</td>\n",
              "      <td>NaN</td>\n",
              "    </tr>\n",
              "    <tr>\n",
              "      <th>1</th>\n",
              "      <td>2009-04-07</td>\n",
              "      <td>29.482422</td>\n",
              "      <td>-1.220703</td>\n",
              "      <td>NaN</td>\n",
              "      <td>NaN</td>\n",
              "    </tr>\n",
              "    <tr>\n",
              "      <th>2</th>\n",
              "      <td>2009-04-08</td>\n",
              "      <td>30.644531</td>\n",
              "      <td>1.162109</td>\n",
              "      <td>-0.058594</td>\n",
              "      <td>NaN</td>\n",
              "    </tr>\n",
              "    <tr>\n",
              "      <th>3</th>\n",
              "      <td>2009-04-09</td>\n",
              "      <td>32.841797</td>\n",
              "      <td>2.197266</td>\n",
              "      <td>3.359375</td>\n",
              "      <td>NaN</td>\n",
              "    </tr>\n",
              "    <tr>\n",
              "      <th>4</th>\n",
              "      <td>2009-04-13</td>\n",
              "      <td>33.974609</td>\n",
              "      <td>1.132812</td>\n",
              "      <td>3.330078</td>\n",
              "      <td>NaN</td>\n",
              "    </tr>\n",
              "    <tr>\n",
              "      <th>5</th>\n",
              "      <td>2009-04-14</td>\n",
              "      <td>31.689453</td>\n",
              "      <td>-2.285156</td>\n",
              "      <td>-1.152344</td>\n",
              "      <td>0.986328</td>\n",
              "    </tr>\n",
              "    <tr>\n",
              "      <th>6</th>\n",
              "      <td>2009-04-15</td>\n",
              "      <td>32.910156</td>\n",
              "      <td>1.220703</td>\n",
              "      <td>-1.064453</td>\n",
              "      <td>3.427734</td>\n",
              "    </tr>\n",
              "    <tr>\n",
              "      <th>7</th>\n",
              "      <td>2009-04-16</td>\n",
              "      <td>35.087891</td>\n",
              "      <td>2.177735</td>\n",
              "      <td>3.398438</td>\n",
              "      <td>4.443360</td>\n",
              "    </tr>\n",
              "    <tr>\n",
              "      <th>8</th>\n",
              "      <td>2009-04-17</td>\n",
              "      <td>33.300781</td>\n",
              "      <td>-1.787110</td>\n",
              "      <td>0.390625</td>\n",
              "      <td>0.458984</td>\n",
              "    </tr>\n",
              "    <tr>\n",
              "      <th>9</th>\n",
              "      <td>2009-04-20</td>\n",
              "      <td>30.361328</td>\n",
              "      <td>-2.939453</td>\n",
              "      <td>-4.726563</td>\n",
              "      <td>-3.613281</td>\n",
              "    </tr>\n",
              "  </tbody>\n",
              "</table>\n",
              "</div>"
            ],
            "text/plain": [
              "        Date      Close     diff1     diff2     diff5\n",
              "0 2009-04-06  30.703125       NaN       NaN       NaN\n",
              "1 2009-04-07  29.482422 -1.220703       NaN       NaN\n",
              "2 2009-04-08  30.644531  1.162109 -0.058594       NaN\n",
              "3 2009-04-09  32.841797  2.197266  3.359375       NaN\n",
              "4 2009-04-13  33.974609  1.132812  3.330078       NaN\n",
              "5 2009-04-14  31.689453 -2.285156 -1.152344  0.986328\n",
              "6 2009-04-15  32.910156  1.220703 -1.064453  3.427734\n",
              "7 2009-04-16  35.087891  2.177735  3.398438  4.443360\n",
              "8 2009-04-17  33.300781 -1.787110  0.390625  0.458984\n",
              "9 2009-04-20  30.361328 -2.939453 -4.726563 -3.613281"
            ]
          },
          "execution_count": 75,
          "metadata": {},
          "output_type": "execute_result"
        }
      ],
      "source": [
        "dataZ['diff2'] = dataZ['Close'].diff(periods=2)\n",
        "dataZ['diff5'] = dataZ['Close'].diff(periods=5)\n",
        "\n",
        "dataZ.head(10)"
      ]
    },
    {
      "cell_type": "code",
      "execution_count": 76,
      "metadata": {
        "colab": {
          "base_uri": "https://localhost:8080/",
          "height": 617
        },
        "id": "VNQ6THcFBeC8",
        "outputId": "1abe8aca-3354-494a-800c-13faad14c109"
      },
      "outputs": [
        {
          "data": {
            "application/vnd.plotly.v1+json": {
              "config": {
                "plotlyServerURL": "https://plot.ly"
              },
              "data": [
                {
                  "hovertemplate": "variable=Close<br>Date=%{x}<br>value=%{y}<extra></extra>",
                  "legendgroup": "Close",
                  "line": {
                    "color": "#636efa",
                    "dash": "solid"
                  },
                  "marker": {
                    "symbol": "circle"
                  },
                  "mode": "lines",
                  "name": "Close",
                  "orientation": "v",
                  "showlegend": true,
                  "type": "scatter",
                  "x": [
                    "2019-01-02T00:00:00",
                    "2019-01-03T00:00:00",
                    "2019-01-04T00:00:00",
                    "2019-01-07T00:00:00",
                    "2019-01-08T00:00:00",
                    "2019-01-09T00:00:00",
                    "2019-01-10T00:00:00",
                    "2019-01-11T00:00:00",
                    "2019-01-14T00:00:00",
                    "2019-01-15T00:00:00",
                    "2019-01-16T00:00:00",
                    "2019-01-17T00:00:00",
                    "2019-01-18T00:00:00",
                    "2019-01-22T00:00:00",
                    "2019-01-23T00:00:00",
                    "2019-01-24T00:00:00",
                    "2019-01-25T00:00:00",
                    "2019-01-28T00:00:00",
                    "2019-01-29T00:00:00",
                    "2019-01-30T00:00:00",
                    "2019-01-31T00:00:00",
                    "2019-02-01T00:00:00",
                    "2019-02-04T00:00:00",
                    "2019-02-05T00:00:00",
                    "2019-02-06T00:00:00",
                    "2019-02-07T00:00:00",
                    "2019-02-08T00:00:00",
                    "2019-02-11T00:00:00",
                    "2019-02-12T00:00:00",
                    "2019-02-13T00:00:00",
                    "2019-02-14T00:00:00",
                    "2019-02-15T00:00:00",
                    "2019-02-19T00:00:00",
                    "2019-02-20T00:00:00",
                    "2019-02-21T00:00:00",
                    "2019-02-22T00:00:00",
                    "2019-02-25T00:00:00",
                    "2019-02-26T00:00:00",
                    "2019-02-27T00:00:00",
                    "2019-02-28T00:00:00",
                    "2019-03-01T00:00:00",
                    "2019-03-04T00:00:00",
                    "2019-03-05T00:00:00",
                    "2019-03-06T00:00:00",
                    "2019-03-07T00:00:00",
                    "2019-03-08T00:00:00",
                    "2019-03-11T00:00:00",
                    "2019-03-12T00:00:00",
                    "2019-03-13T00:00:00",
                    "2019-03-14T00:00:00",
                    "2019-03-15T00:00:00",
                    "2019-03-18T00:00:00",
                    "2019-03-19T00:00:00",
                    "2019-03-20T00:00:00",
                    "2019-03-21T00:00:00",
                    "2019-03-22T00:00:00",
                    "2019-03-25T00:00:00",
                    "2019-03-26T00:00:00",
                    "2019-03-27T00:00:00",
                    "2019-03-28T00:00:00",
                    "2019-03-29T00:00:00",
                    "2019-04-01T00:00:00",
                    "2019-04-02T00:00:00",
                    "2019-04-03T00:00:00",
                    "2019-04-04T00:00:00",
                    "2019-04-05T00:00:00",
                    "2019-04-08T00:00:00",
                    "2019-04-09T00:00:00",
                    "2019-04-10T00:00:00",
                    "2019-04-11T00:00:00",
                    "2019-04-12T00:00:00",
                    "2019-04-15T00:00:00",
                    "2019-04-16T00:00:00",
                    "2019-04-17T00:00:00",
                    "2019-04-18T00:00:00",
                    "2019-04-22T00:00:00",
                    "2019-04-23T00:00:00",
                    "2019-04-24T00:00:00",
                    "2019-04-25T00:00:00",
                    "2019-04-26T00:00:00",
                    "2019-04-29T00:00:00",
                    "2019-04-30T00:00:00",
                    "2019-05-01T00:00:00",
                    "2019-05-02T00:00:00",
                    "2019-05-03T00:00:00",
                    "2019-05-06T00:00:00",
                    "2019-05-07T00:00:00",
                    "2019-05-08T00:00:00",
                    "2019-05-09T00:00:00",
                    "2019-05-10T00:00:00",
                    "2019-05-13T00:00:00",
                    "2019-05-14T00:00:00",
                    "2019-05-15T00:00:00",
                    "2019-05-16T00:00:00",
                    "2019-05-17T00:00:00",
                    "2019-05-20T00:00:00",
                    "2019-05-21T00:00:00",
                    "2019-05-22T00:00:00",
                    "2019-05-23T00:00:00",
                    "2019-05-24T00:00:00",
                    "2019-05-28T00:00:00",
                    "2019-05-29T00:00:00",
                    "2019-05-30T00:00:00",
                    "2019-05-31T00:00:00",
                    "2019-06-03T00:00:00",
                    "2019-06-04T00:00:00",
                    "2019-06-05T00:00:00",
                    "2019-06-06T00:00:00",
                    "2019-06-07T00:00:00",
                    "2019-06-10T00:00:00",
                    "2019-06-11T00:00:00",
                    "2019-06-12T00:00:00",
                    "2019-06-13T00:00:00",
                    "2019-06-14T00:00:00",
                    "2019-06-17T00:00:00",
                    "2019-06-18T00:00:00",
                    "2019-06-19T00:00:00",
                    "2019-06-20T00:00:00",
                    "2019-06-21T00:00:00",
                    "2019-06-24T00:00:00",
                    "2019-06-25T00:00:00",
                    "2019-06-26T00:00:00",
                    "2019-06-27T00:00:00",
                    "2019-06-28T00:00:00",
                    "2019-07-01T00:00:00",
                    "2019-07-02T00:00:00",
                    "2019-07-03T00:00:00",
                    "2019-07-05T00:00:00",
                    "2019-07-08T00:00:00",
                    "2019-07-09T00:00:00",
                    "2019-07-10T00:00:00",
                    "2019-07-11T00:00:00",
                    "2019-07-12T00:00:00",
                    "2019-07-15T00:00:00",
                    "2019-07-16T00:00:00",
                    "2019-07-17T00:00:00",
                    "2019-07-18T00:00:00",
                    "2019-07-19T00:00:00",
                    "2019-07-22T00:00:00",
                    "2019-07-23T00:00:00",
                    "2019-07-24T00:00:00",
                    "2019-07-25T00:00:00",
                    "2019-07-26T00:00:00",
                    "2019-07-29T00:00:00",
                    "2019-07-30T00:00:00",
                    "2019-07-31T00:00:00",
                    "2019-08-01T00:00:00",
                    "2019-08-02T00:00:00",
                    "2019-08-05T00:00:00",
                    "2019-08-06T00:00:00",
                    "2019-08-07T00:00:00",
                    "2019-08-08T00:00:00",
                    "2019-08-09T00:00:00",
                    "2019-08-12T00:00:00",
                    "2019-08-13T00:00:00",
                    "2019-08-14T00:00:00",
                    "2019-08-15T00:00:00",
                    "2019-08-16T00:00:00",
                    "2019-08-19T00:00:00",
                    "2019-08-20T00:00:00",
                    "2019-08-21T00:00:00",
                    "2019-08-22T00:00:00",
                    "2019-08-23T00:00:00",
                    "2019-08-26T00:00:00",
                    "2019-08-27T00:00:00",
                    "2019-08-28T00:00:00",
                    "2019-08-29T00:00:00",
                    "2019-08-30T00:00:00",
                    "2019-09-03T00:00:00",
                    "2019-09-04T00:00:00",
                    "2019-09-05T00:00:00",
                    "2019-09-06T00:00:00",
                    "2019-09-09T00:00:00",
                    "2019-09-10T00:00:00",
                    "2019-09-11T00:00:00",
                    "2019-09-12T00:00:00",
                    "2019-09-13T00:00:00",
                    "2019-09-16T00:00:00",
                    "2019-09-17T00:00:00",
                    "2019-09-18T00:00:00",
                    "2019-09-19T00:00:00",
                    "2019-09-20T00:00:00",
                    "2019-09-23T00:00:00",
                    "2019-09-24T00:00:00",
                    "2019-09-25T00:00:00",
                    "2019-09-26T00:00:00",
                    "2019-09-27T00:00:00",
                    "2019-09-30T00:00:00",
                    "2019-10-01T00:00:00",
                    "2019-10-02T00:00:00",
                    "2019-10-03T00:00:00",
                    "2019-10-04T00:00:00",
                    "2019-10-07T00:00:00",
                    "2019-10-08T00:00:00",
                    "2019-10-09T00:00:00",
                    "2019-10-10T00:00:00",
                    "2019-10-11T00:00:00",
                    "2019-10-14T00:00:00",
                    "2019-10-15T00:00:00",
                    "2019-10-16T00:00:00",
                    "2019-10-17T00:00:00",
                    "2019-10-18T00:00:00",
                    "2019-10-21T00:00:00",
                    "2019-10-22T00:00:00",
                    "2019-10-23T00:00:00",
                    "2019-10-24T00:00:00",
                    "2019-10-25T00:00:00",
                    "2019-10-28T00:00:00",
                    "2019-10-29T00:00:00",
                    "2019-10-30T00:00:00",
                    "2019-10-31T00:00:00",
                    "2019-11-01T00:00:00",
                    "2019-11-04T00:00:00",
                    "2019-11-05T00:00:00",
                    "2019-11-06T00:00:00",
                    "2019-11-07T00:00:00",
                    "2019-11-08T00:00:00",
                    "2019-11-11T00:00:00",
                    "2019-11-12T00:00:00",
                    "2019-11-13T00:00:00",
                    "2019-11-14T00:00:00",
                    "2019-11-15T00:00:00",
                    "2019-11-18T00:00:00",
                    "2019-11-19T00:00:00",
                    "2019-11-20T00:00:00",
                    "2019-11-21T00:00:00",
                    "2019-11-22T00:00:00",
                    "2019-11-25T00:00:00",
                    "2019-11-26T00:00:00",
                    "2019-11-27T00:00:00",
                    "2019-11-29T00:00:00",
                    "2019-12-02T00:00:00",
                    "2019-12-03T00:00:00",
                    "2019-12-04T00:00:00",
                    "2019-12-05T00:00:00",
                    "2019-12-06T00:00:00",
                    "2019-12-09T00:00:00",
                    "2019-12-10T00:00:00",
                    "2019-12-11T00:00:00",
                    "2019-12-12T00:00:00",
                    "2019-12-13T00:00:00",
                    "2019-12-16T00:00:00",
                    "2019-12-17T00:00:00",
                    "2019-12-18T00:00:00",
                    "2019-12-19T00:00:00",
                    "2019-12-20T00:00:00",
                    "2019-12-23T00:00:00",
                    "2019-12-24T00:00:00",
                    "2019-12-26T00:00:00",
                    "2019-12-27T00:00:00",
                    "2019-12-30T00:00:00"
                  ],
                  "xaxis": "x",
                  "y": [
                    11.04,
                    10.95,
                    11.31,
                    11.39,
                    11.55,
                    11.56,
                    11.75,
                    11.82,
                    11.9,
                    11.88,
                    12.19,
                    12.15,
                    12.37,
                    12.2,
                    12.31,
                    12.31,
                    12.48,
                    12.35,
                    12.34,
                    12.42,
                    12.11,
                    12.01,
                    11.98,
                    12.14,
                    12.12,
                    11.84,
                    11.7,
                    11.68,
                    11.88,
                    11.99,
                    11.56,
                    11.75,
                    11.9,
                    12.02,
                    11.89,
                    11.87,
                    12.08,
                    12.19,
                    12.33,
                    12.31,
                    12.36,
                    12.42,
                    12.23,
                    12.13,
                    11.84,
                    11.75,
                    11.93,
                    11.81,
                    11.98,
                    12.03,
                    12.06,
                    12.35,
                    12.36,
                    12.01,
                    11.91,
                    11.51,
                    11.39,
                    11.45,
                    11.48,
                    11.5,
                    11.65,
                    12.03,
                    12.06,
                    12.24,
                    12.32,
                    12.24,
                    12.24,
                    12.21,
                    12.21,
                    12.44,
                    12.84,
                    12.91,
                    13.26,
                    13.6,
                    13.44,
                    13.4,
                    13.26,
                    13.2,
                    13.31,
                    13.41,
                    13.52,
                    13.3,
                    13.18,
                    13.24,
                    12.97,
                    12.69,
                    12.41,
                    12.45,
                    12.31,
                    12.33,
                    11.76,
                    11.86,
                    11.86,
                    11.92,
                    11.79,
                    11.73,
                    11.9,
                    11.74,
                    11.54,
                    11.64,
                    11.52,
                    11.47,
                    11.44,
                    11.27,
                    11.3,
                    11.74,
                    11.71,
                    11.6,
                    11.54,
                    11.63,
                    11.72,
                    11.49,
                    11.54,
                    11.45,
                    11.4,
                    11.6,
                    11.73,
                    11.82,
                    11.7,
                    11.66,
                    11.58,
                    11.72,
                    12.02,
                    11.97,
                    12.04,
                    11.97,
                    12.1,
                    12.25,
                    12.03,
                    11.94,
                    12.01,
                    12.2,
                    12.31,
                    12.27,
                    12.37,
                    12.32,
                    12.43,
                    12.24,
                    12.31,
                    12.61,
                    12.48,
                    12.13,
                    12.05,
                    12,
                    11.93,
                    12.07,
                    11.83,
                    11.74,
                    11.37,
                    11.5,
                    11.43,
                    11.58,
                    11.58,
                    11.29,
                    11.39,
                    10.96,
                    11,
                    11.27,
                    11.39,
                    11.28,
                    11.34,
                    11.48,
                    11.29,
                    11.41,
                    11.31,
                    11.35,
                    11.53,
                    11.68,
                    11.63,
                    11.84,
                    12.16,
                    12.23,
                    12.59,
                    12.9,
                    13.04,
                    12.98,
                    13.12,
                    12.95,
                    12.78,
                    12.78,
                    12.86,
                    12.82,
                    12.59,
                    12.4,
                    12.24,
                    12.19,
                    12.16,
                    12.21,
                    11.88,
                    11.59,
                    11.49,
                    11.55,
                    11.48,
                    11.43,
                    11.42,
                    11.62,
                    11.94,
                    11.98,
                    12.19,
                    12.32,
                    12.29,
                    12.33,
                    12.49,
                    12.47,
                    12.6,
                    12.5,
                    12.57,
                    12.69,
                    12.71,
                    12.53,
                    12.38,
                    12.62,
                    13.07,
                    13.04,
                    12.98,
                    13.13,
                    13.06,
                    13.09,
                    13.04,
                    12.85,
                    12.85,
                    13.02,
                    13.01,
                    13.05,
                    13.01,
                    13.15,
                    13.27,
                    13.33,
                    13.27,
                    13.29,
                    13.09,
                    13.11,
                    12.83,
                    12.94,
                    12.99,
                    13.08,
                    13.12,
                    13.06,
                    12.95,
                    13.31,
                    13.34,
                    13.5,
                    13.63,
                    13.61,
                    13.54,
                    13.24,
                    13.24,
                    13.22,
                    13.26,
                    13.41,
                    13.43
                  ],
                  "yaxis": "y"
                },
                {
                  "hovertemplate": "variable=diff1<br>Date=%{x}<br>value=%{y}<extra></extra>",
                  "legendgroup": "diff1",
                  "line": {
                    "color": "#EF553B",
                    "dash": "solid"
                  },
                  "marker": {
                    "symbol": "circle"
                  },
                  "mode": "lines",
                  "name": "diff1",
                  "orientation": "v",
                  "showlegend": true,
                  "type": "scatter",
                  "x": [
                    "2019-01-02T00:00:00",
                    "2019-01-03T00:00:00",
                    "2019-01-04T00:00:00",
                    "2019-01-07T00:00:00",
                    "2019-01-08T00:00:00",
                    "2019-01-09T00:00:00",
                    "2019-01-10T00:00:00",
                    "2019-01-11T00:00:00",
                    "2019-01-14T00:00:00",
                    "2019-01-15T00:00:00",
                    "2019-01-16T00:00:00",
                    "2019-01-17T00:00:00",
                    "2019-01-18T00:00:00",
                    "2019-01-22T00:00:00",
                    "2019-01-23T00:00:00",
                    "2019-01-24T00:00:00",
                    "2019-01-25T00:00:00",
                    "2019-01-28T00:00:00",
                    "2019-01-29T00:00:00",
                    "2019-01-30T00:00:00",
                    "2019-01-31T00:00:00",
                    "2019-02-01T00:00:00",
                    "2019-02-04T00:00:00",
                    "2019-02-05T00:00:00",
                    "2019-02-06T00:00:00",
                    "2019-02-07T00:00:00",
                    "2019-02-08T00:00:00",
                    "2019-02-11T00:00:00",
                    "2019-02-12T00:00:00",
                    "2019-02-13T00:00:00",
                    "2019-02-14T00:00:00",
                    "2019-02-15T00:00:00",
                    "2019-02-19T00:00:00",
                    "2019-02-20T00:00:00",
                    "2019-02-21T00:00:00",
                    "2019-02-22T00:00:00",
                    "2019-02-25T00:00:00",
                    "2019-02-26T00:00:00",
                    "2019-02-27T00:00:00",
                    "2019-02-28T00:00:00",
                    "2019-03-01T00:00:00",
                    "2019-03-04T00:00:00",
                    "2019-03-05T00:00:00",
                    "2019-03-06T00:00:00",
                    "2019-03-07T00:00:00",
                    "2019-03-08T00:00:00",
                    "2019-03-11T00:00:00",
                    "2019-03-12T00:00:00",
                    "2019-03-13T00:00:00",
                    "2019-03-14T00:00:00",
                    "2019-03-15T00:00:00",
                    "2019-03-18T00:00:00",
                    "2019-03-19T00:00:00",
                    "2019-03-20T00:00:00",
                    "2019-03-21T00:00:00",
                    "2019-03-22T00:00:00",
                    "2019-03-25T00:00:00",
                    "2019-03-26T00:00:00",
                    "2019-03-27T00:00:00",
                    "2019-03-28T00:00:00",
                    "2019-03-29T00:00:00",
                    "2019-04-01T00:00:00",
                    "2019-04-02T00:00:00",
                    "2019-04-03T00:00:00",
                    "2019-04-04T00:00:00",
                    "2019-04-05T00:00:00",
                    "2019-04-08T00:00:00",
                    "2019-04-09T00:00:00",
                    "2019-04-10T00:00:00",
                    "2019-04-11T00:00:00",
                    "2019-04-12T00:00:00",
                    "2019-04-15T00:00:00",
                    "2019-04-16T00:00:00",
                    "2019-04-17T00:00:00",
                    "2019-04-18T00:00:00",
                    "2019-04-22T00:00:00",
                    "2019-04-23T00:00:00",
                    "2019-04-24T00:00:00",
                    "2019-04-25T00:00:00",
                    "2019-04-26T00:00:00",
                    "2019-04-29T00:00:00",
                    "2019-04-30T00:00:00",
                    "2019-05-01T00:00:00",
                    "2019-05-02T00:00:00",
                    "2019-05-03T00:00:00",
                    "2019-05-06T00:00:00",
                    "2019-05-07T00:00:00",
                    "2019-05-08T00:00:00",
                    "2019-05-09T00:00:00",
                    "2019-05-10T00:00:00",
                    "2019-05-13T00:00:00",
                    "2019-05-14T00:00:00",
                    "2019-05-15T00:00:00",
                    "2019-05-16T00:00:00",
                    "2019-05-17T00:00:00",
                    "2019-05-20T00:00:00",
                    "2019-05-21T00:00:00",
                    "2019-05-22T00:00:00",
                    "2019-05-23T00:00:00",
                    "2019-05-24T00:00:00",
                    "2019-05-28T00:00:00",
                    "2019-05-29T00:00:00",
                    "2019-05-30T00:00:00",
                    "2019-05-31T00:00:00",
                    "2019-06-03T00:00:00",
                    "2019-06-04T00:00:00",
                    "2019-06-05T00:00:00",
                    "2019-06-06T00:00:00",
                    "2019-06-07T00:00:00",
                    "2019-06-10T00:00:00",
                    "2019-06-11T00:00:00",
                    "2019-06-12T00:00:00",
                    "2019-06-13T00:00:00",
                    "2019-06-14T00:00:00",
                    "2019-06-17T00:00:00",
                    "2019-06-18T00:00:00",
                    "2019-06-19T00:00:00",
                    "2019-06-20T00:00:00",
                    "2019-06-21T00:00:00",
                    "2019-06-24T00:00:00",
                    "2019-06-25T00:00:00",
                    "2019-06-26T00:00:00",
                    "2019-06-27T00:00:00",
                    "2019-06-28T00:00:00",
                    "2019-07-01T00:00:00",
                    "2019-07-02T00:00:00",
                    "2019-07-03T00:00:00",
                    "2019-07-05T00:00:00",
                    "2019-07-08T00:00:00",
                    "2019-07-09T00:00:00",
                    "2019-07-10T00:00:00",
                    "2019-07-11T00:00:00",
                    "2019-07-12T00:00:00",
                    "2019-07-15T00:00:00",
                    "2019-07-16T00:00:00",
                    "2019-07-17T00:00:00",
                    "2019-07-18T00:00:00",
                    "2019-07-19T00:00:00",
                    "2019-07-22T00:00:00",
                    "2019-07-23T00:00:00",
                    "2019-07-24T00:00:00",
                    "2019-07-25T00:00:00",
                    "2019-07-26T00:00:00",
                    "2019-07-29T00:00:00",
                    "2019-07-30T00:00:00",
                    "2019-07-31T00:00:00",
                    "2019-08-01T00:00:00",
                    "2019-08-02T00:00:00",
                    "2019-08-05T00:00:00",
                    "2019-08-06T00:00:00",
                    "2019-08-07T00:00:00",
                    "2019-08-08T00:00:00",
                    "2019-08-09T00:00:00",
                    "2019-08-12T00:00:00",
                    "2019-08-13T00:00:00",
                    "2019-08-14T00:00:00",
                    "2019-08-15T00:00:00",
                    "2019-08-16T00:00:00",
                    "2019-08-19T00:00:00",
                    "2019-08-20T00:00:00",
                    "2019-08-21T00:00:00",
                    "2019-08-22T00:00:00",
                    "2019-08-23T00:00:00",
                    "2019-08-26T00:00:00",
                    "2019-08-27T00:00:00",
                    "2019-08-28T00:00:00",
                    "2019-08-29T00:00:00",
                    "2019-08-30T00:00:00",
                    "2019-09-03T00:00:00",
                    "2019-09-04T00:00:00",
                    "2019-09-05T00:00:00",
                    "2019-09-06T00:00:00",
                    "2019-09-09T00:00:00",
                    "2019-09-10T00:00:00",
                    "2019-09-11T00:00:00",
                    "2019-09-12T00:00:00",
                    "2019-09-13T00:00:00",
                    "2019-09-16T00:00:00",
                    "2019-09-17T00:00:00",
                    "2019-09-18T00:00:00",
                    "2019-09-19T00:00:00",
                    "2019-09-20T00:00:00",
                    "2019-09-23T00:00:00",
                    "2019-09-24T00:00:00",
                    "2019-09-25T00:00:00",
                    "2019-09-26T00:00:00",
                    "2019-09-27T00:00:00",
                    "2019-09-30T00:00:00",
                    "2019-10-01T00:00:00",
                    "2019-10-02T00:00:00",
                    "2019-10-03T00:00:00",
                    "2019-10-04T00:00:00",
                    "2019-10-07T00:00:00",
                    "2019-10-08T00:00:00",
                    "2019-10-09T00:00:00",
                    "2019-10-10T00:00:00",
                    "2019-10-11T00:00:00",
                    "2019-10-14T00:00:00",
                    "2019-10-15T00:00:00",
                    "2019-10-16T00:00:00",
                    "2019-10-17T00:00:00",
                    "2019-10-18T00:00:00",
                    "2019-10-21T00:00:00",
                    "2019-10-22T00:00:00",
                    "2019-10-23T00:00:00",
                    "2019-10-24T00:00:00",
                    "2019-10-25T00:00:00",
                    "2019-10-28T00:00:00",
                    "2019-10-29T00:00:00",
                    "2019-10-30T00:00:00",
                    "2019-10-31T00:00:00",
                    "2019-11-01T00:00:00",
                    "2019-11-04T00:00:00",
                    "2019-11-05T00:00:00",
                    "2019-11-06T00:00:00",
                    "2019-11-07T00:00:00",
                    "2019-11-08T00:00:00",
                    "2019-11-11T00:00:00",
                    "2019-11-12T00:00:00",
                    "2019-11-13T00:00:00",
                    "2019-11-14T00:00:00",
                    "2019-11-15T00:00:00",
                    "2019-11-18T00:00:00",
                    "2019-11-19T00:00:00",
                    "2019-11-20T00:00:00",
                    "2019-11-21T00:00:00",
                    "2019-11-22T00:00:00",
                    "2019-11-25T00:00:00",
                    "2019-11-26T00:00:00",
                    "2019-11-27T00:00:00",
                    "2019-11-29T00:00:00",
                    "2019-12-02T00:00:00",
                    "2019-12-03T00:00:00",
                    "2019-12-04T00:00:00",
                    "2019-12-05T00:00:00",
                    "2019-12-06T00:00:00",
                    "2019-12-09T00:00:00",
                    "2019-12-10T00:00:00",
                    "2019-12-11T00:00:00",
                    "2019-12-12T00:00:00",
                    "2019-12-13T00:00:00",
                    "2019-12-16T00:00:00",
                    "2019-12-17T00:00:00",
                    "2019-12-18T00:00:00",
                    "2019-12-19T00:00:00",
                    "2019-12-20T00:00:00",
                    "2019-12-23T00:00:00",
                    "2019-12-24T00:00:00",
                    "2019-12-26T00:00:00",
                    "2019-12-27T00:00:00",
                    "2019-12-30T00:00:00"
                  ],
                  "xaxis": "x",
                  "y": [
                    0.17999999999999972,
                    -0.08999999999999986,
                    0.3600000000000012,
                    0.08000000000000007,
                    0.16000000000000014,
                    0.009999999999999787,
                    0.1899999999999995,
                    0.07000000000000028,
                    0.08000000000000007,
                    -0.019999999999999574,
                    0.3099999999999987,
                    -0.03999999999999915,
                    0.21999999999999886,
                    -0.16999999999999993,
                    0.11000000000000121,
                    0,
                    0.16999999999999993,
                    -0.13000000000000078,
                    -0.009999999999999787,
                    0.08000000000000007,
                    -0.3100000000000005,
                    -0.09999999999999964,
                    -0.02999999999999936,
                    0.16000000000000014,
                    -0.02000000000000135,
                    -0.27999999999999936,
                    -0.14000000000000057,
                    -0.019999999999999574,
                    0.20000000000000107,
                    0.10999999999999943,
                    -0.4299999999999997,
                    0.1899999999999995,
                    0.15000000000000036,
                    0.11999999999999922,
                    -0.129999999999999,
                    -0.02000000000000135,
                    0.21000000000000085,
                    0.10999999999999943,
                    0.14000000000000057,
                    -0.019999999999999574,
                    0.049999999999998934,
                    0.0600000000000005,
                    -0.1899999999999995,
                    -0.09999999999999964,
                    -0.2900000000000009,
                    -0.08999999999999986,
                    0.17999999999999972,
                    -0.11999999999999922,
                    0.16999999999999993,
                    0.049999999999998934,
                    0.030000000000001137,
                    0.28999999999999915,
                    0.009999999999999787,
                    -0.34999999999999964,
                    -0.09999999999999964,
                    -0.40000000000000036,
                    -0.11999999999999922,
                    0.05999999999999872,
                    0.030000000000001137,
                    0.019999999999999574,
                    0.15000000000000036,
                    0.379999999999999,
                    0.030000000000001137,
                    0.17999999999999972,
                    0.08000000000000007,
                    -0.08000000000000007,
                    0,
                    -0.02999999999999936,
                    0,
                    0.22999999999999865,
                    0.40000000000000036,
                    0.07000000000000028,
                    0.34999999999999964,
                    0.33999999999999986,
                    -0.16000000000000014,
                    -0.03999999999999915,
                    -0.14000000000000057,
                    -0.0600000000000005,
                    0.11000000000000121,
                    0.09999999999999964,
                    0.10999999999999943,
                    -0.21999999999999886,
                    -0.120000000000001,
                    0.0600000000000005,
                    -0.2699999999999996,
                    -0.28000000000000114,
                    -0.27999999999999936,
                    0.03999999999999915,
                    -0.1399999999999988,
                    0.019999999999999574,
                    -0.5700000000000003,
                    0.09999999999999964,
                    0,
                    0.0600000000000005,
                    -0.13000000000000078,
                    -0.05999999999999872,
                    0.16999999999999993,
                    -0.16000000000000014,
                    -0.20000000000000107,
                    0.10000000000000142,
                    -0.120000000000001,
                    -0.049999999999998934,
                    -0.030000000000001137,
                    -0.16999999999999993,
                    0.030000000000001137,
                    0.4399999999999995,
                    -0.02999999999999936,
                    -0.11000000000000121,
                    -0.0600000000000005,
                    0.09000000000000163,
                    0.08999999999999986,
                    -0.23000000000000043,
                    0.049999999999998934,
                    -0.08999999999999986,
                    -0.049999999999998934,
                    0.1999999999999993,
                    0.13000000000000078,
                    0.08999999999999986,
                    -0.120000000000001,
                    -0.03999999999999915,
                    -0.08000000000000007,
                    0.14000000000000057,
                    0.29999999999999893,
                    -0.049999999999998934,
                    0.06999999999999851,
                    -0.06999999999999851,
                    0.129999999999999,
                    0.15000000000000036,
                    -0.22000000000000064,
                    -0.08999999999999986,
                    0.07000000000000028,
                    0.1899999999999995,
                    0.11000000000000121,
                    -0.040000000000000924,
                    0.09999999999999964,
                    -0.049999999999998934,
                    0.10999999999999943,
                    -0.1899999999999995,
                    0.07000000000000028,
                    0.29999999999999893,
                    -0.129999999999999,
                    -0.34999999999999964,
                    -0.08000000000000007,
                    -0.05000000000000071,
                    -0.07000000000000028,
                    0.14000000000000057,
                    -0.2400000000000002,
                    -0.08999999999999986,
                    -0.370000000000001,
                    0.13000000000000078,
                    -0.07000000000000028,
                    0.15000000000000036,
                    0,
                    -0.2900000000000009,
                    0.10000000000000142,
                    -0.4299999999999997,
                    0.03999999999999915,
                    0.2699999999999996,
                    0.120000000000001,
                    -0.11000000000000121,
                    0.0600000000000005,
                    0.14000000000000057,
                    -0.19000000000000128,
                    0.120000000000001,
                    -0.09999999999999964,
                    0.03999999999999915,
                    0.17999999999999972,
                    0.15000000000000036,
                    -0.049999999999998934,
                    0.20999999999999908,
                    0.3200000000000003,
                    0.07000000000000028,
                    0.35999999999999943,
                    0.3100000000000005,
                    0.1399999999999988,
                    -0.05999999999999872,
                    0.1399999999999988,
                    -0.16999999999999993,
                    -0.16999999999999993,
                    0,
                    0.08000000000000007,
                    -0.03999999999999915,
                    -0.23000000000000043,
                    -0.1899999999999995,
                    -0.16000000000000014,
                    -0.05000000000000071,
                    -0.02999999999999936,
                    0.05000000000000071,
                    -0.33000000000000007,
                    -0.2900000000000009,
                    -0.09999999999999964,
                    0.0600000000000005,
                    -0.07000000000000028,
                    -0.05000000000000071,
                    -0.009999999999999787,
                    0.1999999999999993,
                    0.3200000000000003,
                    0.040000000000000924,
                    0.20999999999999908,
                    0.13000000000000078,
                    -0.030000000000001137,
                    0.040000000000000924,
                    0.16000000000000014,
                    -0.019999999999999574,
                    0.129999999999999,
                    -0.09999999999999964,
                    0.07000000000000028,
                    0.11999999999999922,
                    0.02000000000000135,
                    -0.1800000000000015,
                    -0.14999999999999858,
                    0.23999999999999844,
                    0.45000000000000107,
                    -0.030000000000001137,
                    -0.05999999999999872,
                    0.15000000000000036,
                    -0.07000000000000028,
                    0.02999999999999936,
                    -0.05000000000000071,
                    -0.1899999999999995,
                    0,
                    0.16999999999999993,
                    -0.009999999999999787,
                    0.040000000000000924,
                    -0.040000000000000924,
                    0.14000000000000057,
                    0.11999999999999922,
                    0.0600000000000005,
                    -0.0600000000000005,
                    0.019999999999999574,
                    -0.1999999999999993,
                    0.019999999999999574,
                    -0.27999999999999936,
                    0.10999999999999943,
                    0.05000000000000071,
                    0.08999999999999986,
                    0.03999999999999915,
                    -0.05999999999999872,
                    -0.11000000000000121,
                    0.3600000000000012,
                    0.02999999999999936,
                    0.16000000000000014,
                    0.13000000000000078,
                    -0.02000000000000135,
                    -0.07000000000000028,
                    -0.29999999999999893,
                    0,
                    -0.019999999999999574,
                    0.03999999999999915,
                    0.15000000000000036,
                    0.019999999999999574
                  ],
                  "yaxis": "y"
                },
                {
                  "hovertemplate": "variable=diff5<br>Date=%{x}<br>value=%{y}<extra></extra>",
                  "legendgroup": "diff5",
                  "line": {
                    "color": "#00cc96",
                    "dash": "solid"
                  },
                  "marker": {
                    "symbol": "circle"
                  },
                  "mode": "lines",
                  "name": "diff5",
                  "orientation": "v",
                  "showlegend": true,
                  "type": "scatter",
                  "x": [
                    "2019-01-02T00:00:00",
                    "2019-01-03T00:00:00",
                    "2019-01-04T00:00:00",
                    "2019-01-07T00:00:00",
                    "2019-01-08T00:00:00",
                    "2019-01-09T00:00:00",
                    "2019-01-10T00:00:00",
                    "2019-01-11T00:00:00",
                    "2019-01-14T00:00:00",
                    "2019-01-15T00:00:00",
                    "2019-01-16T00:00:00",
                    "2019-01-17T00:00:00",
                    "2019-01-18T00:00:00",
                    "2019-01-22T00:00:00",
                    "2019-01-23T00:00:00",
                    "2019-01-24T00:00:00",
                    "2019-01-25T00:00:00",
                    "2019-01-28T00:00:00",
                    "2019-01-29T00:00:00",
                    "2019-01-30T00:00:00",
                    "2019-01-31T00:00:00",
                    "2019-02-01T00:00:00",
                    "2019-02-04T00:00:00",
                    "2019-02-05T00:00:00",
                    "2019-02-06T00:00:00",
                    "2019-02-07T00:00:00",
                    "2019-02-08T00:00:00",
                    "2019-02-11T00:00:00",
                    "2019-02-12T00:00:00",
                    "2019-02-13T00:00:00",
                    "2019-02-14T00:00:00",
                    "2019-02-15T00:00:00",
                    "2019-02-19T00:00:00",
                    "2019-02-20T00:00:00",
                    "2019-02-21T00:00:00",
                    "2019-02-22T00:00:00",
                    "2019-02-25T00:00:00",
                    "2019-02-26T00:00:00",
                    "2019-02-27T00:00:00",
                    "2019-02-28T00:00:00",
                    "2019-03-01T00:00:00",
                    "2019-03-04T00:00:00",
                    "2019-03-05T00:00:00",
                    "2019-03-06T00:00:00",
                    "2019-03-07T00:00:00",
                    "2019-03-08T00:00:00",
                    "2019-03-11T00:00:00",
                    "2019-03-12T00:00:00",
                    "2019-03-13T00:00:00",
                    "2019-03-14T00:00:00",
                    "2019-03-15T00:00:00",
                    "2019-03-18T00:00:00",
                    "2019-03-19T00:00:00",
                    "2019-03-20T00:00:00",
                    "2019-03-21T00:00:00",
                    "2019-03-22T00:00:00",
                    "2019-03-25T00:00:00",
                    "2019-03-26T00:00:00",
                    "2019-03-27T00:00:00",
                    "2019-03-28T00:00:00",
                    "2019-03-29T00:00:00",
                    "2019-04-01T00:00:00",
                    "2019-04-02T00:00:00",
                    "2019-04-03T00:00:00",
                    "2019-04-04T00:00:00",
                    "2019-04-05T00:00:00",
                    "2019-04-08T00:00:00",
                    "2019-04-09T00:00:00",
                    "2019-04-10T00:00:00",
                    "2019-04-11T00:00:00",
                    "2019-04-12T00:00:00",
                    "2019-04-15T00:00:00",
                    "2019-04-16T00:00:00",
                    "2019-04-17T00:00:00",
                    "2019-04-18T00:00:00",
                    "2019-04-22T00:00:00",
                    "2019-04-23T00:00:00",
                    "2019-04-24T00:00:00",
                    "2019-04-25T00:00:00",
                    "2019-04-26T00:00:00",
                    "2019-04-29T00:00:00",
                    "2019-04-30T00:00:00",
                    "2019-05-01T00:00:00",
                    "2019-05-02T00:00:00",
                    "2019-05-03T00:00:00",
                    "2019-05-06T00:00:00",
                    "2019-05-07T00:00:00",
                    "2019-05-08T00:00:00",
                    "2019-05-09T00:00:00",
                    "2019-05-10T00:00:00",
                    "2019-05-13T00:00:00",
                    "2019-05-14T00:00:00",
                    "2019-05-15T00:00:00",
                    "2019-05-16T00:00:00",
                    "2019-05-17T00:00:00",
                    "2019-05-20T00:00:00",
                    "2019-05-21T00:00:00",
                    "2019-05-22T00:00:00",
                    "2019-05-23T00:00:00",
                    "2019-05-24T00:00:00",
                    "2019-05-28T00:00:00",
                    "2019-05-29T00:00:00",
                    "2019-05-30T00:00:00",
                    "2019-05-31T00:00:00",
                    "2019-06-03T00:00:00",
                    "2019-06-04T00:00:00",
                    "2019-06-05T00:00:00",
                    "2019-06-06T00:00:00",
                    "2019-06-07T00:00:00",
                    "2019-06-10T00:00:00",
                    "2019-06-11T00:00:00",
                    "2019-06-12T00:00:00",
                    "2019-06-13T00:00:00",
                    "2019-06-14T00:00:00",
                    "2019-06-17T00:00:00",
                    "2019-06-18T00:00:00",
                    "2019-06-19T00:00:00",
                    "2019-06-20T00:00:00",
                    "2019-06-21T00:00:00",
                    "2019-06-24T00:00:00",
                    "2019-06-25T00:00:00",
                    "2019-06-26T00:00:00",
                    "2019-06-27T00:00:00",
                    "2019-06-28T00:00:00",
                    "2019-07-01T00:00:00",
                    "2019-07-02T00:00:00",
                    "2019-07-03T00:00:00",
                    "2019-07-05T00:00:00",
                    "2019-07-08T00:00:00",
                    "2019-07-09T00:00:00",
                    "2019-07-10T00:00:00",
                    "2019-07-11T00:00:00",
                    "2019-07-12T00:00:00",
                    "2019-07-15T00:00:00",
                    "2019-07-16T00:00:00",
                    "2019-07-17T00:00:00",
                    "2019-07-18T00:00:00",
                    "2019-07-19T00:00:00",
                    "2019-07-22T00:00:00",
                    "2019-07-23T00:00:00",
                    "2019-07-24T00:00:00",
                    "2019-07-25T00:00:00",
                    "2019-07-26T00:00:00",
                    "2019-07-29T00:00:00",
                    "2019-07-30T00:00:00",
                    "2019-07-31T00:00:00",
                    "2019-08-01T00:00:00",
                    "2019-08-02T00:00:00",
                    "2019-08-05T00:00:00",
                    "2019-08-06T00:00:00",
                    "2019-08-07T00:00:00",
                    "2019-08-08T00:00:00",
                    "2019-08-09T00:00:00",
                    "2019-08-12T00:00:00",
                    "2019-08-13T00:00:00",
                    "2019-08-14T00:00:00",
                    "2019-08-15T00:00:00",
                    "2019-08-16T00:00:00",
                    "2019-08-19T00:00:00",
                    "2019-08-20T00:00:00",
                    "2019-08-21T00:00:00",
                    "2019-08-22T00:00:00",
                    "2019-08-23T00:00:00",
                    "2019-08-26T00:00:00",
                    "2019-08-27T00:00:00",
                    "2019-08-28T00:00:00",
                    "2019-08-29T00:00:00",
                    "2019-08-30T00:00:00",
                    "2019-09-03T00:00:00",
                    "2019-09-04T00:00:00",
                    "2019-09-05T00:00:00",
                    "2019-09-06T00:00:00",
                    "2019-09-09T00:00:00",
                    "2019-09-10T00:00:00",
                    "2019-09-11T00:00:00",
                    "2019-09-12T00:00:00",
                    "2019-09-13T00:00:00",
                    "2019-09-16T00:00:00",
                    "2019-09-17T00:00:00",
                    "2019-09-18T00:00:00",
                    "2019-09-19T00:00:00",
                    "2019-09-20T00:00:00",
                    "2019-09-23T00:00:00",
                    "2019-09-24T00:00:00",
                    "2019-09-25T00:00:00",
                    "2019-09-26T00:00:00",
                    "2019-09-27T00:00:00",
                    "2019-09-30T00:00:00",
                    "2019-10-01T00:00:00",
                    "2019-10-02T00:00:00",
                    "2019-10-03T00:00:00",
                    "2019-10-04T00:00:00",
                    "2019-10-07T00:00:00",
                    "2019-10-08T00:00:00",
                    "2019-10-09T00:00:00",
                    "2019-10-10T00:00:00",
                    "2019-10-11T00:00:00",
                    "2019-10-14T00:00:00",
                    "2019-10-15T00:00:00",
                    "2019-10-16T00:00:00",
                    "2019-10-17T00:00:00",
                    "2019-10-18T00:00:00",
                    "2019-10-21T00:00:00",
                    "2019-10-22T00:00:00",
                    "2019-10-23T00:00:00",
                    "2019-10-24T00:00:00",
                    "2019-10-25T00:00:00",
                    "2019-10-28T00:00:00",
                    "2019-10-29T00:00:00",
                    "2019-10-30T00:00:00",
                    "2019-10-31T00:00:00",
                    "2019-11-01T00:00:00",
                    "2019-11-04T00:00:00",
                    "2019-11-05T00:00:00",
                    "2019-11-06T00:00:00",
                    "2019-11-07T00:00:00",
                    "2019-11-08T00:00:00",
                    "2019-11-11T00:00:00",
                    "2019-11-12T00:00:00",
                    "2019-11-13T00:00:00",
                    "2019-11-14T00:00:00",
                    "2019-11-15T00:00:00",
                    "2019-11-18T00:00:00",
                    "2019-11-19T00:00:00",
                    "2019-11-20T00:00:00",
                    "2019-11-21T00:00:00",
                    "2019-11-22T00:00:00",
                    "2019-11-25T00:00:00",
                    "2019-11-26T00:00:00",
                    "2019-11-27T00:00:00",
                    "2019-11-29T00:00:00",
                    "2019-12-02T00:00:00",
                    "2019-12-03T00:00:00",
                    "2019-12-04T00:00:00",
                    "2019-12-05T00:00:00",
                    "2019-12-06T00:00:00",
                    "2019-12-09T00:00:00",
                    "2019-12-10T00:00:00",
                    "2019-12-11T00:00:00",
                    "2019-12-12T00:00:00",
                    "2019-12-13T00:00:00",
                    "2019-12-16T00:00:00",
                    "2019-12-17T00:00:00",
                    "2019-12-18T00:00:00",
                    "2019-12-19T00:00:00",
                    "2019-12-20T00:00:00",
                    "2019-12-23T00:00:00",
                    "2019-12-24T00:00:00",
                    "2019-12-26T00:00:00",
                    "2019-12-27T00:00:00",
                    "2019-12-30T00:00:00"
                  ],
                  "xaxis": "x",
                  "y": [
                    0.6199999999999992,
                    0.14999999999999858,
                    0.6400000000000006,
                    0.5200000000000014,
                    0.6900000000000013,
                    0.5200000000000014,
                    0.8000000000000007,
                    0.5099999999999998,
                    0.5099999999999998,
                    0.33000000000000007,
                    0.629999999999999,
                    0.40000000000000036,
                    0.5499999999999989,
                    0.29999999999999893,
                    0.4299999999999997,
                    0.120000000000001,
                    0.33000000000000007,
                    -0.019999999999999574,
                    0.14000000000000057,
                    0.10999999999999943,
                    -0.20000000000000107,
                    -0.47000000000000064,
                    -0.3699999999999992,
                    -0.1999999999999993,
                    -0.3000000000000007,
                    -0.2699999999999996,
                    -0.3100000000000005,
                    -0.3000000000000007,
                    -0.2599999999999998,
                    -0.129999999999999,
                    -0.27999999999999936,
                    0.05000000000000071,
                    0.22000000000000064,
                    0.1399999999999988,
                    -0.09999999999999964,
                    0.3099999999999987,
                    0.33000000000000007,
                    0.28999999999999915,
                    0.3100000000000005,
                    0.41999999999999993,
                    0.4900000000000002,
                    0.33999999999999986,
                    0.040000000000000924,
                    -0.1999999999999993,
                    -0.47000000000000064,
                    -0.6099999999999994,
                    -0.4900000000000002,
                    -0.41999999999999993,
                    -0.15000000000000036,
                    0.1899999999999995,
                    0.3100000000000005,
                    0.41999999999999993,
                    0.5499999999999989,
                    0.02999999999999936,
                    -0.11999999999999922,
                    -0.5500000000000007,
                    -0.9599999999999991,
                    -0.9100000000000001,
                    -0.5299999999999994,
                    -0.41000000000000014,
                    0.14000000000000057,
                    0.6399999999999988,
                    0.6100000000000012,
                    0.7599999999999998,
                    0.8200000000000003,
                    0.5899999999999999,
                    0.21000000000000085,
                    0.15000000000000036,
                    -0.02999999999999936,
                    0.11999999999999922,
                    0.5999999999999996,
                    0.6699999999999999,
                    1.049999999999999,
                    1.3899999999999988,
                    1,
                    0.5600000000000005,
                    0.34999999999999964,
                    -0.0600000000000005,
                    -0.28999999999999915,
                    -0.02999999999999936,
                    0.11999999999999922,
                    0.040000000000000924,
                    -0.019999999999999574,
                    -0.07000000000000028,
                    -0.4399999999999995,
                    -0.8300000000000001,
                    -0.8900000000000006,
                    -0.7300000000000004,
                    -0.9299999999999997,
                    -0.6400000000000006,
                    -0.9299999999999997,
                    -0.5500000000000007,
                    -0.5899999999999999,
                    -0.39000000000000057,
                    -0.5400000000000009,
                    -0.02999999999999936,
                    0.040000000000000924,
                    -0.11999999999999922,
                    -0.3800000000000008,
                    -0.14999999999999858,
                    -0.21000000000000085,
                    -0.4299999999999997,
                    -0.3000000000000007,
                    -0.2699999999999996,
                    -0.33999999999999986,
                    0.22000000000000064,
                    0.2400000000000002,
                    0.16000000000000014,
                    0.2699999999999996,
                    0.33000000000000007,
                    -0.019999999999999574,
                    -0.22000000000000064,
                    -0.0600000000000005,
                    -0.08999999999999986,
                    -0.23000000000000043,
                    -0.120000000000001,
                    0.2400000000000002,
                    0.28000000000000114,
                    0.25,
                    0.2599999999999998,
                    -0.019999999999999574,
                    -0.009999999999999787,
                    0.1999999999999993,
                    0.27000000000000135,
                    0.379999999999999,
                    0.39000000000000057,
                    0.379999999999999,
                    0.23000000000000043,
                    0.05999999999999872,
                    -0.09999999999999964,
                    0.03999999999999915,
                    0.09999999999999964,
                    0.0600000000000005,
                    0.2400000000000002,
                    0.4299999999999997,
                    0.3100000000000005,
                    0.23000000000000043,
                    -0.07000000000000028,
                    0.040000000000000924,
                    0.2400000000000002,
                    0.16000000000000014,
                    -0.29999999999999893,
                    -0.1899999999999995,
                    -0.3100000000000005,
                    -0.6799999999999997,
                    -0.41000000000000014,
                    -0.3000000000000007,
                    -0.3100000000000005,
                    -0.6300000000000008,
                    -0.4299999999999997,
                    -0.6400000000000006,
                    -0.25,
                    -0.16000000000000014,
                    -0.08000000000000007,
                    -0.10999999999999943,
                    -0.46999999999999886,
                    -0.5800000000000001,
                    -0.3100000000000005,
                    0.10000000000000142,
                    -0.11000000000000121,
                    0.379999999999999,
                    0.4800000000000004,
                    0.019999999999999574,
                    0.019999999999999574,
                    0.030000000000001137,
                    0.009999999999999787,
                    0.049999999999998934,
                    0.39000000000000057,
                    0.22000000000000064,
                    0.5299999999999994,
                    0.8100000000000005,
                    0.7000000000000011,
                    0.9100000000000001,
                    1.2699999999999996,
                    1.1999999999999993,
                    0.8200000000000003,
                    0.8899999999999988,
                    0.35999999999999943,
                    -0.120000000000001,
                    -0.2599999999999998,
                    -0.120000000000001,
                    -0.29999999999999893,
                    -0.35999999999999943,
                    -0.379999999999999,
                    -0.5399999999999991,
                    -0.6699999999999999,
                    -0.6600000000000001,
                    -0.379999999999999,
                    -0.5199999999999996,
                    -0.6500000000000004,
                    -0.6999999999999993,
                    -0.6099999999999994,
                    -0.7300000000000004,
                    -0.45000000000000107,
                    -0.16999999999999993,
                    0.129999999999999,
                    0.3899999999999988,
                    0.5,
                    0.7599999999999998,
                    0.9000000000000004,
                    0.6699999999999999,
                    0.39000000000000057,
                    0.5099999999999998,
                    0.28000000000000114,
                    0.27999999999999936,
                    0.21000000000000085,
                    0.2400000000000002,
                    0.1999999999999993,
                    0.2400000000000002,
                    -0.07000000000000028,
                    -0.11999999999999922,
                    0.049999999999998934,
                    0.3800000000000008,
                    0.3299999999999983,
                    0.45000000000000107,
                    0.75,
                    0.4400000000000013,
                    0.019999999999999574,
                    0,
                    -0.13000000000000078,
                    -0.28000000000000114,
                    -0.040000000000000924,
                    -0.08000000000000007,
                    0.010000000000001563,
                    0.16000000000000014,
                    0.3000000000000007,
                    0.25,
                    0.3200000000000003,
                    0.21999999999999886,
                    0.27999999999999936,
                    -0.0600000000000005,
                    -0.16000000000000014,
                    -0.5,
                    -0.33000000000000007,
                    -0.29999999999999893,
                    -0.009999999999999787,
                    0.009999999999999787,
                    0.23000000000000043,
                    0.009999999999999787,
                    0.3200000000000003,
                    0.2599999999999998,
                    0.3800000000000008,
                    0.5700000000000003,
                    0.6600000000000001,
                    0.22999999999999865,
                    -0.09999999999999964,
                    -0.2599999999999998,
                    -0.41000000000000014,
                    -0.34999999999999964,
                    -0.129999999999999,
                    0.1899999999999995
                  ],
                  "yaxis": "y"
                }
              ],
              "layout": {
                "height": 600,
                "legend": {
                  "title": {
                    "text": "Data Points"
                  },
                  "tracegroupgap": 0
                },
                "margin": {
                  "t": 60
                },
                "template": {
                  "data": {
                    "bar": [
                      {
                        "error_x": {
                          "color": "#2a3f5f"
                        },
                        "error_y": {
                          "color": "#2a3f5f"
                        },
                        "marker": {
                          "line": {
                            "color": "#E5ECF6",
                            "width": 0.5
                          },
                          "pattern": {
                            "fillmode": "overlay",
                            "size": 10,
                            "solidity": 0.2
                          }
                        },
                        "type": "bar"
                      }
                    ],
                    "barpolar": [
                      {
                        "marker": {
                          "line": {
                            "color": "#E5ECF6",
                            "width": 0.5
                          },
                          "pattern": {
                            "fillmode": "overlay",
                            "size": 10,
                            "solidity": 0.2
                          }
                        },
                        "type": "barpolar"
                      }
                    ],
                    "carpet": [
                      {
                        "aaxis": {
                          "endlinecolor": "#2a3f5f",
                          "gridcolor": "white",
                          "linecolor": "white",
                          "minorgridcolor": "white",
                          "startlinecolor": "#2a3f5f"
                        },
                        "baxis": {
                          "endlinecolor": "#2a3f5f",
                          "gridcolor": "white",
                          "linecolor": "white",
                          "minorgridcolor": "white",
                          "startlinecolor": "#2a3f5f"
                        },
                        "type": "carpet"
                      }
                    ],
                    "choropleth": [
                      {
                        "colorbar": {
                          "outlinewidth": 0,
                          "ticks": ""
                        },
                        "type": "choropleth"
                      }
                    ],
                    "contour": [
                      {
                        "colorbar": {
                          "outlinewidth": 0,
                          "ticks": ""
                        },
                        "colorscale": [
                          [
                            0,
                            "#0d0887"
                          ],
                          [
                            0.1111111111111111,
                            "#46039f"
                          ],
                          [
                            0.2222222222222222,
                            "#7201a8"
                          ],
                          [
                            0.3333333333333333,
                            "#9c179e"
                          ],
                          [
                            0.4444444444444444,
                            "#bd3786"
                          ],
                          [
                            0.5555555555555556,
                            "#d8576b"
                          ],
                          [
                            0.6666666666666666,
                            "#ed7953"
                          ],
                          [
                            0.7777777777777778,
                            "#fb9f3a"
                          ],
                          [
                            0.8888888888888888,
                            "#fdca26"
                          ],
                          [
                            1,
                            "#f0f921"
                          ]
                        ],
                        "type": "contour"
                      }
                    ],
                    "contourcarpet": [
                      {
                        "colorbar": {
                          "outlinewidth": 0,
                          "ticks": ""
                        },
                        "type": "contourcarpet"
                      }
                    ],
                    "heatmap": [
                      {
                        "colorbar": {
                          "outlinewidth": 0,
                          "ticks": ""
                        },
                        "colorscale": [
                          [
                            0,
                            "#0d0887"
                          ],
                          [
                            0.1111111111111111,
                            "#46039f"
                          ],
                          [
                            0.2222222222222222,
                            "#7201a8"
                          ],
                          [
                            0.3333333333333333,
                            "#9c179e"
                          ],
                          [
                            0.4444444444444444,
                            "#bd3786"
                          ],
                          [
                            0.5555555555555556,
                            "#d8576b"
                          ],
                          [
                            0.6666666666666666,
                            "#ed7953"
                          ],
                          [
                            0.7777777777777778,
                            "#fb9f3a"
                          ],
                          [
                            0.8888888888888888,
                            "#fdca26"
                          ],
                          [
                            1,
                            "#f0f921"
                          ]
                        ],
                        "type": "heatmap"
                      }
                    ],
                    "heatmapgl": [
                      {
                        "colorbar": {
                          "outlinewidth": 0,
                          "ticks": ""
                        },
                        "colorscale": [
                          [
                            0,
                            "#0d0887"
                          ],
                          [
                            0.1111111111111111,
                            "#46039f"
                          ],
                          [
                            0.2222222222222222,
                            "#7201a8"
                          ],
                          [
                            0.3333333333333333,
                            "#9c179e"
                          ],
                          [
                            0.4444444444444444,
                            "#bd3786"
                          ],
                          [
                            0.5555555555555556,
                            "#d8576b"
                          ],
                          [
                            0.6666666666666666,
                            "#ed7953"
                          ],
                          [
                            0.7777777777777778,
                            "#fb9f3a"
                          ],
                          [
                            0.8888888888888888,
                            "#fdca26"
                          ],
                          [
                            1,
                            "#f0f921"
                          ]
                        ],
                        "type": "heatmapgl"
                      }
                    ],
                    "histogram": [
                      {
                        "marker": {
                          "pattern": {
                            "fillmode": "overlay",
                            "size": 10,
                            "solidity": 0.2
                          }
                        },
                        "type": "histogram"
                      }
                    ],
                    "histogram2d": [
                      {
                        "colorbar": {
                          "outlinewidth": 0,
                          "ticks": ""
                        },
                        "colorscale": [
                          [
                            0,
                            "#0d0887"
                          ],
                          [
                            0.1111111111111111,
                            "#46039f"
                          ],
                          [
                            0.2222222222222222,
                            "#7201a8"
                          ],
                          [
                            0.3333333333333333,
                            "#9c179e"
                          ],
                          [
                            0.4444444444444444,
                            "#bd3786"
                          ],
                          [
                            0.5555555555555556,
                            "#d8576b"
                          ],
                          [
                            0.6666666666666666,
                            "#ed7953"
                          ],
                          [
                            0.7777777777777778,
                            "#fb9f3a"
                          ],
                          [
                            0.8888888888888888,
                            "#fdca26"
                          ],
                          [
                            1,
                            "#f0f921"
                          ]
                        ],
                        "type": "histogram2d"
                      }
                    ],
                    "histogram2dcontour": [
                      {
                        "colorbar": {
                          "outlinewidth": 0,
                          "ticks": ""
                        },
                        "colorscale": [
                          [
                            0,
                            "#0d0887"
                          ],
                          [
                            0.1111111111111111,
                            "#46039f"
                          ],
                          [
                            0.2222222222222222,
                            "#7201a8"
                          ],
                          [
                            0.3333333333333333,
                            "#9c179e"
                          ],
                          [
                            0.4444444444444444,
                            "#bd3786"
                          ],
                          [
                            0.5555555555555556,
                            "#d8576b"
                          ],
                          [
                            0.6666666666666666,
                            "#ed7953"
                          ],
                          [
                            0.7777777777777778,
                            "#fb9f3a"
                          ],
                          [
                            0.8888888888888888,
                            "#fdca26"
                          ],
                          [
                            1,
                            "#f0f921"
                          ]
                        ],
                        "type": "histogram2dcontour"
                      }
                    ],
                    "mesh3d": [
                      {
                        "colorbar": {
                          "outlinewidth": 0,
                          "ticks": ""
                        },
                        "type": "mesh3d"
                      }
                    ],
                    "parcoords": [
                      {
                        "line": {
                          "colorbar": {
                            "outlinewidth": 0,
                            "ticks": ""
                          }
                        },
                        "type": "parcoords"
                      }
                    ],
                    "pie": [
                      {
                        "automargin": true,
                        "type": "pie"
                      }
                    ],
                    "scatter": [
                      {
                        "fillpattern": {
                          "fillmode": "overlay",
                          "size": 10,
                          "solidity": 0.2
                        },
                        "type": "scatter"
                      }
                    ],
                    "scatter3d": [
                      {
                        "line": {
                          "colorbar": {
                            "outlinewidth": 0,
                            "ticks": ""
                          }
                        },
                        "marker": {
                          "colorbar": {
                            "outlinewidth": 0,
                            "ticks": ""
                          }
                        },
                        "type": "scatter3d"
                      }
                    ],
                    "scattercarpet": [
                      {
                        "marker": {
                          "colorbar": {
                            "outlinewidth": 0,
                            "ticks": ""
                          }
                        },
                        "type": "scattercarpet"
                      }
                    ],
                    "scattergeo": [
                      {
                        "marker": {
                          "colorbar": {
                            "outlinewidth": 0,
                            "ticks": ""
                          }
                        },
                        "type": "scattergeo"
                      }
                    ],
                    "scattergl": [
                      {
                        "marker": {
                          "colorbar": {
                            "outlinewidth": 0,
                            "ticks": ""
                          }
                        },
                        "type": "scattergl"
                      }
                    ],
                    "scattermapbox": [
                      {
                        "marker": {
                          "colorbar": {
                            "outlinewidth": 0,
                            "ticks": ""
                          }
                        },
                        "type": "scattermapbox"
                      }
                    ],
                    "scatterpolar": [
                      {
                        "marker": {
                          "colorbar": {
                            "outlinewidth": 0,
                            "ticks": ""
                          }
                        },
                        "type": "scatterpolar"
                      }
                    ],
                    "scatterpolargl": [
                      {
                        "marker": {
                          "colorbar": {
                            "outlinewidth": 0,
                            "ticks": ""
                          }
                        },
                        "type": "scatterpolargl"
                      }
                    ],
                    "scatterternary": [
                      {
                        "marker": {
                          "colorbar": {
                            "outlinewidth": 0,
                            "ticks": ""
                          }
                        },
                        "type": "scatterternary"
                      }
                    ],
                    "surface": [
                      {
                        "colorbar": {
                          "outlinewidth": 0,
                          "ticks": ""
                        },
                        "colorscale": [
                          [
                            0,
                            "#0d0887"
                          ],
                          [
                            0.1111111111111111,
                            "#46039f"
                          ],
                          [
                            0.2222222222222222,
                            "#7201a8"
                          ],
                          [
                            0.3333333333333333,
                            "#9c179e"
                          ],
                          [
                            0.4444444444444444,
                            "#bd3786"
                          ],
                          [
                            0.5555555555555556,
                            "#d8576b"
                          ],
                          [
                            0.6666666666666666,
                            "#ed7953"
                          ],
                          [
                            0.7777777777777778,
                            "#fb9f3a"
                          ],
                          [
                            0.8888888888888888,
                            "#fdca26"
                          ],
                          [
                            1,
                            "#f0f921"
                          ]
                        ],
                        "type": "surface"
                      }
                    ],
                    "table": [
                      {
                        "cells": {
                          "fill": {
                            "color": "#EBF0F8"
                          },
                          "line": {
                            "color": "white"
                          }
                        },
                        "header": {
                          "fill": {
                            "color": "#C8D4E3"
                          },
                          "line": {
                            "color": "white"
                          }
                        },
                        "type": "table"
                      }
                    ]
                  },
                  "layout": {
                    "annotationdefaults": {
                      "arrowcolor": "#2a3f5f",
                      "arrowhead": 0,
                      "arrowwidth": 1
                    },
                    "autotypenumbers": "strict",
                    "coloraxis": {
                      "colorbar": {
                        "outlinewidth": 0,
                        "ticks": ""
                      }
                    },
                    "colorscale": {
                      "diverging": [
                        [
                          0,
                          "#8e0152"
                        ],
                        [
                          0.1,
                          "#c51b7d"
                        ],
                        [
                          0.2,
                          "#de77ae"
                        ],
                        [
                          0.3,
                          "#f1b6da"
                        ],
                        [
                          0.4,
                          "#fde0ef"
                        ],
                        [
                          0.5,
                          "#f7f7f7"
                        ],
                        [
                          0.6,
                          "#e6f5d0"
                        ],
                        [
                          0.7,
                          "#b8e186"
                        ],
                        [
                          0.8,
                          "#7fbc41"
                        ],
                        [
                          0.9,
                          "#4d9221"
                        ],
                        [
                          1,
                          "#276419"
                        ]
                      ],
                      "sequential": [
                        [
                          0,
                          "#0d0887"
                        ],
                        [
                          0.1111111111111111,
                          "#46039f"
                        ],
                        [
                          0.2222222222222222,
                          "#7201a8"
                        ],
                        [
                          0.3333333333333333,
                          "#9c179e"
                        ],
                        [
                          0.4444444444444444,
                          "#bd3786"
                        ],
                        [
                          0.5555555555555556,
                          "#d8576b"
                        ],
                        [
                          0.6666666666666666,
                          "#ed7953"
                        ],
                        [
                          0.7777777777777778,
                          "#fb9f3a"
                        ],
                        [
                          0.8888888888888888,
                          "#fdca26"
                        ],
                        [
                          1,
                          "#f0f921"
                        ]
                      ],
                      "sequentialminus": [
                        [
                          0,
                          "#0d0887"
                        ],
                        [
                          0.1111111111111111,
                          "#46039f"
                        ],
                        [
                          0.2222222222222222,
                          "#7201a8"
                        ],
                        [
                          0.3333333333333333,
                          "#9c179e"
                        ],
                        [
                          0.4444444444444444,
                          "#bd3786"
                        ],
                        [
                          0.5555555555555556,
                          "#d8576b"
                        ],
                        [
                          0.6666666666666666,
                          "#ed7953"
                        ],
                        [
                          0.7777777777777778,
                          "#fb9f3a"
                        ],
                        [
                          0.8888888888888888,
                          "#fdca26"
                        ],
                        [
                          1,
                          "#f0f921"
                        ]
                      ]
                    },
                    "colorway": [
                      "#636efa",
                      "#EF553B",
                      "#00cc96",
                      "#ab63fa",
                      "#FFA15A",
                      "#19d3f3",
                      "#FF6692",
                      "#B6E880",
                      "#FF97FF",
                      "#FECB52"
                    ],
                    "font": {
                      "color": "#2a3f5f"
                    },
                    "geo": {
                      "bgcolor": "white",
                      "lakecolor": "white",
                      "landcolor": "#E5ECF6",
                      "showlakes": true,
                      "showland": true,
                      "subunitcolor": "white"
                    },
                    "hoverlabel": {
                      "align": "left"
                    },
                    "hovermode": "closest",
                    "mapbox": {
                      "style": "light"
                    },
                    "paper_bgcolor": "white",
                    "plot_bgcolor": "#E5ECF6",
                    "polar": {
                      "angularaxis": {
                        "gridcolor": "white",
                        "linecolor": "white",
                        "ticks": ""
                      },
                      "bgcolor": "#E5ECF6",
                      "radialaxis": {
                        "gridcolor": "white",
                        "linecolor": "white",
                        "ticks": ""
                      }
                    },
                    "scene": {
                      "xaxis": {
                        "backgroundcolor": "#E5ECF6",
                        "gridcolor": "white",
                        "gridwidth": 2,
                        "linecolor": "white",
                        "showbackground": true,
                        "ticks": "",
                        "zerolinecolor": "white"
                      },
                      "yaxis": {
                        "backgroundcolor": "#E5ECF6",
                        "gridcolor": "white",
                        "gridwidth": 2,
                        "linecolor": "white",
                        "showbackground": true,
                        "ticks": "",
                        "zerolinecolor": "white"
                      },
                      "zaxis": {
                        "backgroundcolor": "#E5ECF6",
                        "gridcolor": "white",
                        "gridwidth": 2,
                        "linecolor": "white",
                        "showbackground": true,
                        "ticks": "",
                        "zerolinecolor": "white"
                      }
                    },
                    "shapedefaults": {
                      "line": {
                        "color": "#2a3f5f"
                      }
                    },
                    "ternary": {
                      "aaxis": {
                        "gridcolor": "white",
                        "linecolor": "white",
                        "ticks": ""
                      },
                      "baxis": {
                        "gridcolor": "white",
                        "linecolor": "white",
                        "ticks": ""
                      },
                      "bgcolor": "#E5ECF6",
                      "caxis": {
                        "gridcolor": "white",
                        "linecolor": "white",
                        "ticks": ""
                      }
                    },
                    "title": {
                      "x": 0.05
                    },
                    "xaxis": {
                      "automargin": true,
                      "gridcolor": "white",
                      "linecolor": "white",
                      "ticks": "",
                      "title": {
                        "standoff": 15
                      },
                      "zerolinecolor": "white",
                      "zerolinewidth": 2
                    },
                    "yaxis": {
                      "automargin": true,
                      "gridcolor": "white",
                      "linecolor": "white",
                      "ticks": "",
                      "title": {
                        "standoff": 15
                      },
                      "zerolinecolor": "white",
                      "zerolinewidth": 2
                    }
                  }
                },
                "title": {
                  "text": "Finance Institutes - Stock Market Price with Differencing <br><sup>CREDIT SUISSE</sup>"
                },
                "width": 1000,
                "xaxis": {
                  "anchor": "y",
                  "domain": [
                    0,
                    1
                  ],
                  "title": {
                    "text": "Date"
                  }
                },
                "yaxis": {
                  "anchor": "x",
                  "domain": [
                    0,
                    1
                  ],
                  "range": [
                    -15,
                    15
                  ],
                  "title": {
                    "text": "US$"
                  }
                }
              }
            }
          },
          "metadata": {},
          "output_type": "display_data"
        }
      ],
      "source": [
        "import plotly.express as px\n",
        "df= dataZ[(dataZ['Date'] > \"2019-01-01\") & (dataZ['Date'] < \"2019-12-31\")]\n",
        "\n",
        "# Create Line plot\n",
        "fig = px.line(df, x=df['Date'], y=['Close', 'diff1','diff5'])\n",
        "\n",
        "\n",
        "# Setup Layout\n",
        "fig.update_layout(\n",
        "    title=\"Finance Institutes - Stock Market Price with Differencing <br><sup>CREDIT SUISSE</sup>\",\n",
        "    legend_title=\"Data Points\",\n",
        "    yaxis_title='US$',\n",
        "    width=1000, height=600,\n",
        "    yaxis_range = (-15,15))\n",
        "\n",
        "# Display the plot\n",
        "fig.show()"
      ]
    },
    {
      "cell_type": "markdown",
      "metadata": {
        "id": "iQiuaMgh_OcN"
      },
      "source": [
        "---  \n",
        "### **ADD ON:** Line or Bar Charts for Time Series?\n"
      ]
    },
    {
      "cell_type": "code",
      "execution_count": 77,
      "metadata": {
        "colab": {
          "base_uri": "https://localhost:8080/"
        },
        "id": "wvKkGwEv6ABI",
        "outputId": "a33049d1-ea58-4519-8146-3baa128ffe38"
      },
      "outputs": [
        {
          "name": "stdout",
          "output_type": "stream",
          "text": [
            "<class 'pandas.core.frame.DataFrame'>\n",
            "RangeIndex: 3524 entries, 0 to 3523\n",
            "Data columns (total 2 columns):\n",
            " #   Column  Non-Null Count  Dtype         \n",
            "---  ------  --------------  -----         \n",
            " 0   Date    3524 non-null   datetime64[ns]\n",
            " 1   Close   3524 non-null   float64       \n",
            "dtypes: datetime64[ns](1), float64(1)\n",
            "memory usage: 55.2 KB\n"
          ]
        },
        {
          "data": {
            "text/html": [
              "<div>\n",
              "<style scoped>\n",
              "    .dataframe tbody tr th:only-of-type {\n",
              "        vertical-align: middle;\n",
              "    }\n",
              "\n",
              "    .dataframe tbody tr th {\n",
              "        vertical-align: top;\n",
              "    }\n",
              "\n",
              "    .dataframe thead th {\n",
              "        text-align: right;\n",
              "    }\n",
              "</style>\n",
              "<table border=\"1\" class=\"dataframe\">\n",
              "  <thead>\n",
              "    <tr style=\"text-align: right;\">\n",
              "      <th></th>\n",
              "      <th>Date</th>\n",
              "      <th>Open</th>\n",
              "      <th>High</th>\n",
              "      <th>Low</th>\n",
              "      <th>Close</th>\n",
              "      <th>Adj Close</th>\n",
              "      <th>Volume</th>\n",
              "      <th>year</th>\n",
              "      <th>month</th>\n",
              "      <th>day</th>\n",
              "      <th>...</th>\n",
              "      <th>lag_1</th>\n",
              "      <th>lag_2</th>\n",
              "      <th>lag_3</th>\n",
              "      <th>lag_4</th>\n",
              "      <th>lag_5</th>\n",
              "      <th>lag_6</th>\n",
              "      <th>lag_7</th>\n",
              "      <th>rolling_mean7</th>\n",
              "      <th>rolling_mean20</th>\n",
              "      <th>rolling_mean60</th>\n",
              "    </tr>\n",
              "  </thead>\n",
              "  <tbody>\n",
              "    <tr>\n",
              "      <th>0</th>\n",
              "      <td>2009-04-06</td>\n",
              "      <td>29.658203</td>\n",
              "      <td>30.937500</td>\n",
              "      <td>29.541016</td>\n",
              "      <td>30.703125</td>\n",
              "      <td>20.256773</td>\n",
              "      <td>3253043</td>\n",
              "      <td>2009</td>\n",
              "      <td>4</td>\n",
              "      <td>6</td>\n",
              "      <td>...</td>\n",
              "      <td>NaN</td>\n",
              "      <td>NaN</td>\n",
              "      <td>NaN</td>\n",
              "      <td>NaN</td>\n",
              "      <td>NaN</td>\n",
              "      <td>NaN</td>\n",
              "      <td>NaN</td>\n",
              "      <td>NaN</td>\n",
              "      <td>NaN</td>\n",
              "      <td>NaN</td>\n",
              "    </tr>\n",
              "    <tr>\n",
              "      <th>1</th>\n",
              "      <td>2009-04-07</td>\n",
              "      <td>29.482422</td>\n",
              "      <td>29.960938</td>\n",
              "      <td>29.072266</td>\n",
              "      <td>29.482422</td>\n",
              "      <td>19.451399</td>\n",
              "      <td>1795584</td>\n",
              "      <td>2009</td>\n",
              "      <td>4</td>\n",
              "      <td>7</td>\n",
              "      <td>...</td>\n",
              "      <td>30.703125</td>\n",
              "      <td>NaN</td>\n",
              "      <td>NaN</td>\n",
              "      <td>NaN</td>\n",
              "      <td>NaN</td>\n",
              "      <td>NaN</td>\n",
              "      <td>NaN</td>\n",
              "      <td>NaN</td>\n",
              "      <td>NaN</td>\n",
              "      <td>NaN</td>\n",
              "    </tr>\n",
              "    <tr>\n",
              "      <th>2</th>\n",
              "      <td>2009-04-08</td>\n",
              "      <td>30.361328</td>\n",
              "      <td>30.908203</td>\n",
              "      <td>29.746094</td>\n",
              "      <td>30.644531</td>\n",
              "      <td>20.218113</td>\n",
              "      <td>1202688</td>\n",
              "      <td>2009</td>\n",
              "      <td>4</td>\n",
              "      <td>8</td>\n",
              "      <td>...</td>\n",
              "      <td>29.482422</td>\n",
              "      <td>30.703125</td>\n",
              "      <td>NaN</td>\n",
              "      <td>NaN</td>\n",
              "      <td>NaN</td>\n",
              "      <td>NaN</td>\n",
              "      <td>NaN</td>\n",
              "      <td>NaN</td>\n",
              "      <td>NaN</td>\n",
              "      <td>NaN</td>\n",
              "    </tr>\n",
              "    <tr>\n",
              "      <th>3</th>\n",
              "      <td>2009-04-09</td>\n",
              "      <td>31.240234</td>\n",
              "      <td>33.027344</td>\n",
              "      <td>31.025391</td>\n",
              "      <td>32.841797</td>\n",
              "      <td>21.667789</td>\n",
              "      <td>2358579</td>\n",
              "      <td>2009</td>\n",
              "      <td>4</td>\n",
              "      <td>9</td>\n",
              "      <td>...</td>\n",
              "      <td>30.644531</td>\n",
              "      <td>29.482422</td>\n",
              "      <td>30.703125</td>\n",
              "      <td>NaN</td>\n",
              "      <td>NaN</td>\n",
              "      <td>NaN</td>\n",
              "      <td>NaN</td>\n",
              "      <td>NaN</td>\n",
              "      <td>NaN</td>\n",
              "      <td>NaN</td>\n",
              "    </tr>\n",
              "    <tr>\n",
              "      <th>4</th>\n",
              "      <td>2009-04-13</td>\n",
              "      <td>32.470703</td>\n",
              "      <td>34.423828</td>\n",
              "      <td>32.285156</td>\n",
              "      <td>33.974609</td>\n",
              "      <td>22.415174</td>\n",
              "      <td>1897062</td>\n",
              "      <td>2009</td>\n",
              "      <td>4</td>\n",
              "      <td>13</td>\n",
              "      <td>...</td>\n",
              "      <td>32.841797</td>\n",
              "      <td>30.644531</td>\n",
              "      <td>29.482422</td>\n",
              "      <td>30.703125</td>\n",
              "      <td>NaN</td>\n",
              "      <td>NaN</td>\n",
              "      <td>NaN</td>\n",
              "      <td>NaN</td>\n",
              "      <td>NaN</td>\n",
              "      <td>NaN</td>\n",
              "    </tr>\n",
              "  </tbody>\n",
              "</table>\n",
              "<p>5 rows × 25 columns</p>\n",
              "</div>"
            ],
            "text/plain": [
              "        Date       Open       High        Low      Close  Adj Close   Volume  \\\n",
              "0 2009-04-06  29.658203  30.937500  29.541016  30.703125  20.256773  3253043   \n",
              "1 2009-04-07  29.482422  29.960938  29.072266  29.482422  19.451399  1795584   \n",
              "2 2009-04-08  30.361328  30.908203  29.746094  30.644531  20.218113  1202688   \n",
              "3 2009-04-09  31.240234  33.027344  31.025391  32.841797  21.667789  2358579   \n",
              "4 2009-04-13  32.470703  34.423828  32.285156  33.974609  22.415174  1897062   \n",
              "\n",
              "   year  month  day  ...      lag_1      lag_2      lag_3      lag_4  lag_5  \\\n",
              "0  2009      4    6  ...        NaN        NaN        NaN        NaN    NaN   \n",
              "1  2009      4    7  ...  30.703125        NaN        NaN        NaN    NaN   \n",
              "2  2009      4    8  ...  29.482422  30.703125        NaN        NaN    NaN   \n",
              "3  2009      4    9  ...  30.644531  29.482422  30.703125        NaN    NaN   \n",
              "4  2009      4   13  ...  32.841797  30.644531  29.482422  30.703125    NaN   \n",
              "\n",
              "   lag_6  lag_7  rolling_mean7  rolling_mean20  rolling_mean60  \n",
              "0    NaN    NaN            NaN             NaN             NaN  \n",
              "1    NaN    NaN            NaN             NaN             NaN  \n",
              "2    NaN    NaN            NaN             NaN             NaN  \n",
              "3    NaN    NaN            NaN             NaN             NaN  \n",
              "4    NaN    NaN            NaN             NaN             NaN  \n",
              "\n",
              "[5 rows x 25 columns]"
            ]
          },
          "execution_count": 77,
          "metadata": {},
          "output_type": "execute_result"
        }
      ],
      "source": [
        "dataZ = data[['Date', 'Close']]\n",
        "dataZ.info()\n",
        "data.head()"
      ]
    },
    {
      "cell_type": "code",
      "execution_count": 78,
      "metadata": {
        "colab": {
          "base_uri": "https://localhost:8080/",
          "height": 776
        },
        "id": "ZXjOfajd9zNr",
        "outputId": "94c609b3-2468-49dd-de67-37d2263be150"
      },
      "outputs": [
        {
          "data": {
            "image/png": "[encoded data removed]",
            "text/plain": [
              "<Figure size 1000x800 with 1 Axes>"
            ]
          },
          "metadata": {},
          "output_type": "display_data"
        }
      ],
      "source": [
        "import matplotlib.pyplot as plt\n",
        "\n",
        "dataZ = data[['Date', 'Close']]\n",
        "\n",
        "plt.figure(figsize=(10, 8))\n",
        "# as LINE chart\n",
        "plt.plot(dataZ.Date, dataZ.Close)\n",
        "# as BAR chart\n",
        "#plt.bar(dataZ.Date, dataZ.Close)\n",
        "\n",
        "plt.suptitle(\"Finance Institutes - Stock Market Price Daily CLOSING\")\n",
        "plt.title(\"CREDIT SUISSE\")\n",
        "plt.xlabel('Date')\n",
        "plt.ylabel('US$')\n",
        "\n",
        "plt.show()"
      ]
    },
    {
      "cell_type": "markdown",
      "metadata": {
        "id": "4qngfq_DOPb2"
      },
      "source": [
        "\n",
        "\n",
        "---\n",
        "\n"
      ]
    },
    {
      "cell_type": "markdown",
      "metadata": {
        "id": "1XZ-cuIt_ffH"
      },
      "source": [
        "---  \n",
        "### **ADD ON:** Systematic Feature Engineering with *tsfresh*  \n",
        "**tsfresh** is used for systematic feature engineering from time-series and other sequential data. These data have in common that they are ordered by an independent variable. The most common independent variable is time (time series).  \n",
        "If we want to calculate different characteristics of time series such as the maximum or minimum, the average or the number of temporary peaks, without tsfresh, we have to calculate all those characteristics manually.  \n",
        "tsfresh automates this process calculating and returning all those features automatically."
      ]
    },
    {
      "cell_type": "code",
      "execution_count": 82,
      "metadata": {
        "colab": {
          "base_uri": "https://localhost:8080/"
        },
        "id": "qHEeRqSWj_vh",
        "outputId": "5eb0a8b3-47e7-41d8-dfff-a1ff9f06f8ef"
      },
      "outputs": [],
      "source": [
        "#pip install -U tsfresh"
      ]
    },
    {
      "cell_type": "code",
      "execution_count": 80,
      "metadata": {
        "colab": {
          "base_uri": "https://localhost:8080/",
          "height": 206
        },
        "id": "2dyr1ut1lX7O",
        "outputId": "1d6ff2c9-7646-489a-b626-31c45845d183"
      },
      "outputs": [
        {
          "data": {
            "text/html": [
              "<div>\n",
              "<style scoped>\n",
              "    .dataframe tbody tr th:only-of-type {\n",
              "        vertical-align: middle;\n",
              "    }\n",
              "\n",
              "    .dataframe tbody tr th {\n",
              "        vertical-align: top;\n",
              "    }\n",
              "\n",
              "    .dataframe thead th {\n",
              "        text-align: right;\n",
              "    }\n",
              "</style>\n",
              "<table border=\"1\" class=\"dataframe\">\n",
              "  <thead>\n",
              "    <tr style=\"text-align: right;\">\n",
              "      <th></th>\n",
              "      <th>Date</th>\n",
              "      <th>Open</th>\n",
              "      <th>High</th>\n",
              "      <th>Low</th>\n",
              "      <th>Close</th>\n",
              "      <th>Volume</th>\n",
              "      <th>year</th>\n",
              "      <th>month</th>\n",
              "      <th>day</th>\n",
              "    </tr>\n",
              "  </thead>\n",
              "  <tbody>\n",
              "    <tr>\n",
              "      <th>0</th>\n",
              "      <td>2009-04-06</td>\n",
              "      <td>29.658203</td>\n",
              "      <td>30.937500</td>\n",
              "      <td>29.541016</td>\n",
              "      <td>30.703125</td>\n",
              "      <td>3253043</td>\n",
              "      <td>2009</td>\n",
              "      <td>4</td>\n",
              "      <td>6</td>\n",
              "    </tr>\n",
              "    <tr>\n",
              "      <th>1</th>\n",
              "      <td>2009-04-07</td>\n",
              "      <td>29.482422</td>\n",
              "      <td>29.960938</td>\n",
              "      <td>29.072266</td>\n",
              "      <td>29.482422</td>\n",
              "      <td>1795584</td>\n",
              "      <td>2009</td>\n",
              "      <td>4</td>\n",
              "      <td>7</td>\n",
              "    </tr>\n",
              "    <tr>\n",
              "      <th>2</th>\n",
              "      <td>2009-04-08</td>\n",
              "      <td>30.361328</td>\n",
              "      <td>30.908203</td>\n",
              "      <td>29.746094</td>\n",
              "      <td>30.644531</td>\n",
              "      <td>1202688</td>\n",
              "      <td>2009</td>\n",
              "      <td>4</td>\n",
              "      <td>8</td>\n",
              "    </tr>\n",
              "    <tr>\n",
              "      <th>3</th>\n",
              "      <td>2009-04-09</td>\n",
              "      <td>31.240234</td>\n",
              "      <td>33.027344</td>\n",
              "      <td>31.025391</td>\n",
              "      <td>32.841797</td>\n",
              "      <td>2358579</td>\n",
              "      <td>2009</td>\n",
              "      <td>4</td>\n",
              "      <td>9</td>\n",
              "    </tr>\n",
              "    <tr>\n",
              "      <th>4</th>\n",
              "      <td>2009-04-13</td>\n",
              "      <td>32.470703</td>\n",
              "      <td>34.423828</td>\n",
              "      <td>32.285156</td>\n",
              "      <td>33.974609</td>\n",
              "      <td>1897062</td>\n",
              "      <td>2009</td>\n",
              "      <td>4</td>\n",
              "      <td>13</td>\n",
              "    </tr>\n",
              "  </tbody>\n",
              "</table>\n",
              "</div>"
            ],
            "text/plain": [
              "        Date       Open       High        Low      Close   Volume  year  \\\n",
              "0 2009-04-06  29.658203  30.937500  29.541016  30.703125  3253043  2009   \n",
              "1 2009-04-07  29.482422  29.960938  29.072266  29.482422  1795584  2009   \n",
              "2 2009-04-08  30.361328  30.908203  29.746094  30.644531  1202688  2009   \n",
              "3 2009-04-09  31.240234  33.027344  31.025391  32.841797  2358579  2009   \n",
              "4 2009-04-13  32.470703  34.423828  32.285156  33.974609  1897062  2009   \n",
              "\n",
              "   month  day  \n",
              "0      4    6  \n",
              "1      4    7  \n",
              "2      4    8  \n",
              "3      4    9  \n",
              "4      4   13  "
            ]
          },
          "execution_count": 80,
          "metadata": {},
          "output_type": "execute_result"
        }
      ],
      "source": [
        "dataZ = data[['Date','Open','High','Low','Close','Volume','year','month','day']]\n",
        "dataZ.head()"
      ]
    },
    {
      "cell_type": "code",
      "execution_count": 81,
      "metadata": {
        "colab": {
          "base_uri": "https://localhost:8080/"
        },
        "id": "nwq3GwHfj4ss",
        "outputId": "1c67ae36-ca4a-48ad-9b3a-3cc2a1f2a767"
      },
      "outputs": [
        {
          "name": "stderr",
          "output_type": "stream",
          "text": [
            "Feature Extraction:   0%|          | 0/20 [00:04<?, ?it/s]\n"
          ]
        },
        {
          "ename": "NotImplementedError",
          "evalue": "AR has been removed from statsmodels and replaced with statsmodels.tsa.ar_model.AutoReg.",
          "output_type": "error",
          "traceback": [
            "\u001b[1;31m---------------------------------------------------------------------------\u001b[0m",
            "\u001b[1;31mRemoteTraceback\u001b[0m                           Traceback (most recent call last)",
            "\u001b[1;31mRemoteTraceback\u001b[0m: \n\"\"\"\nTraceback (most recent call last):\n  File \"c:\\Users\\MarcoReinle\\miniconda3\\envs\\BINA23\\lib\\multiprocessing\\pool.py\", line 125, in worker\n    result = (True, func(*args, **kwds))\n  File \"c:\\Users\\MarcoReinle\\miniconda3\\envs\\BINA23\\lib\\site-packages\\tsfresh\\utilities\\distribution.py\", line 43, in _function_with_partly_reduce\n    results = list(itertools.chain.from_iterable(results))\n  File \"c:\\Users\\MarcoReinle\\miniconda3\\envs\\BINA23\\lib\\site-packages\\tsfresh\\utilities\\distribution.py\", line 42, in <genexpr>\n    results = (map_function(chunk, **kwargs) for chunk in chunk_list)\n  File \"c:\\Users\\MarcoReinle\\miniconda3\\envs\\BINA23\\lib\\site-packages\\tsfresh\\feature_extraction\\extraction.py\", line 337, in _do_extraction_on_chunk\n    return list(_f())\n  File \"c:\\Users\\MarcoReinle\\miniconda3\\envs\\BINA23\\lib\\site-packages\\tsfresh\\feature_extraction\\extraction.py\", line 317, in _f\n    result = func(x, param=parameter_list)\n  File \"c:\\Users\\MarcoReinle\\miniconda3\\envs\\BINA23\\lib\\site-packages\\tsfresh\\feature_extraction\\feature_calculators.py\", line 1405, in ar_coefficient\n    calculated_AR = AR(x_as_list)\n  File \"c:\\Users\\MarcoReinle\\miniconda3\\envs\\BINA23\\lib\\site-packages\\statsmodels\\tsa\\ar_model.py\", line 822, in __init__\n    raise NotImplementedError(\nNotImplementedError: AR has been removed from statsmodels and replaced with statsmodels.tsa.ar_model.AutoReg.\n\"\"\"",
            "\nThe above exception was the direct cause of the following exception:\n",
            "\u001b[1;31mNotImplementedError\u001b[0m                       Traceback (most recent call last)",
            "Cell \u001b[1;32mIn[81], line 12\u001b[0m\n\u001b[0;32m     10\u001b[0m \u001b[39m# automated feature extraction\u001b[39;00m\n\u001b[0;32m     11\u001b[0m \u001b[39mfrom\u001b[39;00m \u001b[39mtsfresh\u001b[39;00m\u001b[39m.\u001b[39;00m\u001b[39mfeature_extraction\u001b[39;00m \u001b[39mimport\u001b[39;00m extract_features\n\u001b[1;32m---> 12\u001b[0m features \u001b[39m=\u001b[39m extract_features(dataZ, column_id\u001b[39m=\u001b[39;49m\u001b[39m\"\u001b[39;49m\u001b[39mDate\u001b[39;49m\u001b[39m\"\u001b[39;49m, column_sort\u001b[39m=\u001b[39;49m\u001b[39m\"\u001b[39;49m\u001b[39mDate\u001b[39;49m\u001b[39m\"\u001b[39;49m, default_fc_parameters\u001b[39m=\u001b[39;49msettings)\n",
            "File \u001b[1;32mc:\\Users\\MarcoReinle\\miniconda3\\envs\\BINA23\\lib\\site-packages\\tsfresh\\feature_extraction\\extraction.py:152\u001b[0m, in \u001b[0;36mextract_features\u001b[1;34m(timeseries_container, default_fc_parameters, kind_to_fc_parameters, column_id, column_sort, column_kind, column_value, chunksize, n_jobs, show_warnings, disable_progressbar, impute_function, profile, profiling_filename, profiling_sorting, distributor, pivot)\u001b[0m\n\u001b[0;32m    149\u001b[0m \u001b[39melse\u001b[39;00m:\n\u001b[0;32m    150\u001b[0m     warnings\u001b[39m.\u001b[39msimplefilter(\u001b[39m\"\u001b[39m\u001b[39mdefault\u001b[39m\u001b[39m\"\u001b[39m)\n\u001b[1;32m--> 152\u001b[0m result \u001b[39m=\u001b[39m _do_extraction(df\u001b[39m=\u001b[39;49mtimeseries_container,\n\u001b[0;32m    153\u001b[0m                         column_id\u001b[39m=\u001b[39;49mcolumn_id, column_value\u001b[39m=\u001b[39;49mcolumn_value,\n\u001b[0;32m    154\u001b[0m                         column_kind\u001b[39m=\u001b[39;49mcolumn_kind,\n\u001b[0;32m    155\u001b[0m                         column_sort\u001b[39m=\u001b[39;49mcolumn_sort,\n\u001b[0;32m    156\u001b[0m                         n_jobs\u001b[39m=\u001b[39;49mn_jobs, chunk_size\u001b[39m=\u001b[39;49mchunksize,\n\u001b[0;32m    157\u001b[0m                         disable_progressbar\u001b[39m=\u001b[39;49mdisable_progressbar,\n\u001b[0;32m    158\u001b[0m                         show_warnings\u001b[39m=\u001b[39;49mshow_warnings,\n\u001b[0;32m    159\u001b[0m                         default_fc_parameters\u001b[39m=\u001b[39;49mdefault_fc_parameters,\n\u001b[0;32m    160\u001b[0m                         kind_to_fc_parameters\u001b[39m=\u001b[39;49mkind_to_fc_parameters,\n\u001b[0;32m    161\u001b[0m                         distributor\u001b[39m=\u001b[39;49mdistributor,\n\u001b[0;32m    162\u001b[0m                         pivot\u001b[39m=\u001b[39;49mpivot)\n\u001b[0;32m    164\u001b[0m \u001b[39m# Impute the result if requested\u001b[39;00m\n\u001b[0;32m    165\u001b[0m \u001b[39mif\u001b[39;00m impute_function \u001b[39mis\u001b[39;00m \u001b[39mnot\u001b[39;00m \u001b[39mNone\u001b[39;00m:\n",
            "File \u001b[1;32mc:\\Users\\MarcoReinle\\miniconda3\\envs\\BINA23\\lib\\site-packages\\tsfresh\\feature_extraction\\extraction.py:255\u001b[0m, in \u001b[0;36m_do_extraction\u001b[1;34m(df, column_id, column_value, column_kind, column_sort, default_fc_parameters, kind_to_fc_parameters, n_jobs, chunk_size, disable_progressbar, show_warnings, distributor, pivot)\u001b[0m\n\u001b[0;32m    249\u001b[0m     \u001b[39mraise\u001b[39;00m \u001b[39mValueError\u001b[39;00m(\u001b[39m\"\u001b[39m\u001b[39mthe passed distributor is not an DistributorBaseClass object\u001b[39m\u001b[39m\"\u001b[39m)\n\u001b[0;32m    251\u001b[0m kwargs \u001b[39m=\u001b[39m \u001b[39mdict\u001b[39m(default_fc_parameters\u001b[39m=\u001b[39mdefault_fc_parameters,\n\u001b[0;32m    252\u001b[0m               kind_to_fc_parameters\u001b[39m=\u001b[39mkind_to_fc_parameters,\n\u001b[0;32m    253\u001b[0m               show_warnings\u001b[39m=\u001b[39mshow_warnings)\n\u001b[1;32m--> 255\u001b[0m result \u001b[39m=\u001b[39m distributor\u001b[39m.\u001b[39;49mmap_reduce(_do_extraction_on_chunk, data\u001b[39m=\u001b[39;49mdata,\n\u001b[0;32m    256\u001b[0m                                 chunk_size\u001b[39m=\u001b[39;49mchunk_size,\n\u001b[0;32m    257\u001b[0m                                 function_kwargs\u001b[39m=\u001b[39;49mkwargs)\n\u001b[0;32m    259\u001b[0m \u001b[39mif\u001b[39;00m \u001b[39mnot\u001b[39;00m pivot:\n\u001b[0;32m    260\u001b[0m     \u001b[39mreturn\u001b[39;00m result\n",
            "File \u001b[1;32mc:\\Users\\MarcoReinle\\miniconda3\\envs\\BINA23\\lib\\site-packages\\tsfresh\\utilities\\distribution.py:213\u001b[0m, in \u001b[0;36mIterableDistributorBaseClass.map_reduce\u001b[1;34m(self, map_function, data, function_kwargs, chunk_size, data_length)\u001b[0m\n\u001b[0;32m    210\u001b[0m \u001b[39melse\u001b[39;00m:\n\u001b[0;32m    211\u001b[0m     result \u001b[39m=\u001b[39m \u001b[39mself\u001b[39m\u001b[39m.\u001b[39mdistribute(_function_with_partly_reduce, chunk_generator, map_kwargs),\n\u001b[1;32m--> 213\u001b[0m result \u001b[39m=\u001b[39m \u001b[39mlist\u001b[39;49m(itertools\u001b[39m.\u001b[39;49mchain\u001b[39m.\u001b[39;49mfrom_iterable(result))\n\u001b[0;32m    215\u001b[0m \u001b[39mself\u001b[39m\u001b[39m.\u001b[39mclose()\n\u001b[0;32m    217\u001b[0m \u001b[39mreturn\u001b[39;00m result\n",
            "File \u001b[1;32mc:\\Users\\MarcoReinle\\miniconda3\\envs\\BINA23\\lib\\site-packages\\tqdm\\std.py:1178\u001b[0m, in \u001b[0;36mtqdm.__iter__\u001b[1;34m(self)\u001b[0m\n\u001b[0;32m   1175\u001b[0m time \u001b[39m=\u001b[39m \u001b[39mself\u001b[39m\u001b[39m.\u001b[39m_time\n\u001b[0;32m   1177\u001b[0m \u001b[39mtry\u001b[39;00m:\n\u001b[1;32m-> 1178\u001b[0m     \u001b[39mfor\u001b[39;00m obj \u001b[39min\u001b[39;00m iterable:\n\u001b[0;32m   1179\u001b[0m         \u001b[39myield\u001b[39;00m obj\n\u001b[0;32m   1180\u001b[0m         \u001b[39m# Update and possibly print the progressbar.\u001b[39;00m\n\u001b[0;32m   1181\u001b[0m         \u001b[39m# Note: does not call self.update(1) for speed optimisation.\u001b[39;00m\n",
            "File \u001b[1;32mc:\\Users\\MarcoReinle\\miniconda3\\envs\\BINA23\\lib\\multiprocessing\\pool.py:873\u001b[0m, in \u001b[0;36mIMapIterator.next\u001b[1;34m(self, timeout)\u001b[0m\n\u001b[0;32m    871\u001b[0m \u001b[39mif\u001b[39;00m success:\n\u001b[0;32m    872\u001b[0m     \u001b[39mreturn\u001b[39;00m value\n\u001b[1;32m--> 873\u001b[0m \u001b[39mraise\u001b[39;00m value\n",
            "File \u001b[1;32mc:\\Users\\MarcoReinle\\miniconda3\\envs\\BINA23\\lib\\multiprocessing\\pool.py:125\u001b[0m, in \u001b[0;36mworker\u001b[1;34m()\u001b[0m\n\u001b[0;32m    123\u001b[0m job, i, func, args, kwds \u001b[39m=\u001b[39m task\n\u001b[0;32m    124\u001b[0m \u001b[39mtry\u001b[39;00m:\n\u001b[1;32m--> 125\u001b[0m     result \u001b[39m=\u001b[39m (\u001b[39mTrue\u001b[39;00m, func(\u001b[39m*\u001b[39margs, \u001b[39m*\u001b[39m\u001b[39m*\u001b[39mkwds))\n\u001b[0;32m    126\u001b[0m \u001b[39mexcept\u001b[39;00m \u001b[39mException\u001b[39;00m \u001b[39mas\u001b[39;00m e:\n\u001b[0;32m    127\u001b[0m     \u001b[39mif\u001b[39;00m wrap_exception \u001b[39mand\u001b[39;00m func \u001b[39mis\u001b[39;00m \u001b[39mnot\u001b[39;00m _helper_reraises_exception:\n",
            "File \u001b[1;32mc:\\Users\\MarcoReinle\\miniconda3\\envs\\BINA23\\lib\\site-packages\\tsfresh\\utilities\\distribution.py:43\u001b[0m, in \u001b[0;36m_function_with_partly_reduce\u001b[1;34m()\u001b[0m\n\u001b[0;32m     41\u001b[0m kwargs \u001b[39m=\u001b[39m kwargs \u001b[39mor\u001b[39;00m {}\n\u001b[0;32m     42\u001b[0m results \u001b[39m=\u001b[39m (map_function(chunk, \u001b[39m*\u001b[39m\u001b[39m*\u001b[39mkwargs) \u001b[39mfor\u001b[39;00m chunk \u001b[39min\u001b[39;00m chunk_list)\n\u001b[1;32m---> 43\u001b[0m results \u001b[39m=\u001b[39m \u001b[39mlist\u001b[39m(itertools\u001b[39m.\u001b[39mchain\u001b[39m.\u001b[39mfrom_iterable(results))\n\u001b[0;32m     44\u001b[0m \u001b[39mreturn\u001b[39;00m results\n",
            "File \u001b[1;32mc:\\Users\\MarcoReinle\\miniconda3\\envs\\BINA23\\lib\\site-packages\\tsfresh\\utilities\\distribution.py:42\u001b[0m, in \u001b[0;36m<genexpr>\u001b[1;34m()\u001b[0m\n\u001b[0;32m     25\u001b[0m \u001b[39m\"\"\"\u001b[39;00m\n\u001b[0;32m     26\u001b[0m \u001b[39mSmall helper function to call a function (map_function)\u001b[39;00m\n\u001b[0;32m     27\u001b[0m \u001b[39mon a list of data chunks (chunk_list) and convert the results into\u001b[39;00m\n\u001b[1;32m   (...)\u001b[0m\n\u001b[0;32m     39\u001b[0m \u001b[39m:rtype: list\u001b[39;00m\n\u001b[0;32m     40\u001b[0m \u001b[39m\"\"\"\u001b[39;00m\n\u001b[0;32m     41\u001b[0m kwargs \u001b[39m=\u001b[39m kwargs \u001b[39mor\u001b[39;00m {}\n\u001b[1;32m---> 42\u001b[0m results \u001b[39m=\u001b[39m (map_function(chunk, \u001b[39m*\u001b[39m\u001b[39m*\u001b[39mkwargs) \u001b[39mfor\u001b[39;00m chunk \u001b[39min\u001b[39;00m chunk_list)\n\u001b[0;32m     43\u001b[0m results \u001b[39m=\u001b[39m \u001b[39mlist\u001b[39m(itertools\u001b[39m.\u001b[39mchain\u001b[39m.\u001b[39mfrom_iterable(results))\n\u001b[0;32m     44\u001b[0m \u001b[39mreturn\u001b[39;00m results\n",
            "File \u001b[1;32mc:\\Users\\MarcoReinle\\miniconda3\\envs\\BINA23\\lib\\site-packages\\tsfresh\\feature_extraction\\extraction.py:337\u001b[0m, in \u001b[0;36m_do_extraction_on_chunk\u001b[1;34m()\u001b[0m\n\u001b[0;32m    334\u001b[0m \u001b[39melse\u001b[39;00m:\n\u001b[0;32m    335\u001b[0m     warnings\u001b[39m.\u001b[39msimplefilter(\u001b[39m\"\u001b[39m\u001b[39mdefault\u001b[39m\u001b[39m\"\u001b[39m)\n\u001b[1;32m--> 337\u001b[0m \u001b[39mreturn\u001b[39;00m \u001b[39mlist\u001b[39m(_f())\n",
            "File \u001b[1;32mc:\\Users\\MarcoReinle\\miniconda3\\envs\\BINA23\\lib\\site-packages\\tsfresh\\feature_extraction\\extraction.py:317\u001b[0m, in \u001b[0;36m_f\u001b[1;34m()\u001b[0m\n\u001b[0;32m    314\u001b[0m     x \u001b[39m=\u001b[39m data\u001b[39m.\u001b[39mvalues\n\u001b[0;32m    316\u001b[0m \u001b[39mif\u001b[39;00m func\u001b[39m.\u001b[39mfctype \u001b[39m==\u001b[39m \u001b[39m\"\u001b[39m\u001b[39mcombiner\u001b[39m\u001b[39m\"\u001b[39m:\n\u001b[1;32m--> 317\u001b[0m     result \u001b[39m=\u001b[39m func(x, param\u001b[39m=\u001b[39mparameter_list)\n\u001b[0;32m    318\u001b[0m \u001b[39melse\u001b[39;00m:\n\u001b[0;32m    319\u001b[0m     \u001b[39mif\u001b[39;00m parameter_list:\n",
            "File \u001b[1;32mc:\\Users\\MarcoReinle\\miniconda3\\envs\\BINA23\\lib\\site-packages\\tsfresh\\feature_extraction\\feature_calculators.py:1405\u001b[0m, in \u001b[0;36mar_coefficient\u001b[1;34m()\u001b[0m\n\u001b[0;32m   1403\u001b[0m \u001b[39mif\u001b[39;00m k \u001b[39mnot\u001b[39;00m \u001b[39min\u001b[39;00m calculated_ar_params:\n\u001b[0;32m   1404\u001b[0m     \u001b[39mtry\u001b[39;00m:\n\u001b[1;32m-> 1405\u001b[0m         calculated_AR \u001b[39m=\u001b[39m AR(x_as_list)\n\u001b[0;32m   1406\u001b[0m         calculated_ar_params[k] \u001b[39m=\u001b[39m calculated_AR\u001b[39m.\u001b[39mfit(maxlag\u001b[39m=\u001b[39mk, solver\u001b[39m=\u001b[39m\u001b[39m\"\u001b[39m\u001b[39mmle\u001b[39m\u001b[39m\"\u001b[39m)\u001b[39m.\u001b[39mparams\n\u001b[0;32m   1407\u001b[0m     \u001b[39mexcept\u001b[39;00m (LinAlgError, \u001b[39mValueError\u001b[39;00m):\n",
            "File \u001b[1;32mc:\\Users\\MarcoReinle\\miniconda3\\envs\\BINA23\\lib\\site-packages\\statsmodels\\tsa\\ar_model.py:822\u001b[0m, in \u001b[0;36m__init__\u001b[1;34m()\u001b[0m\n\u001b[0;32m    821\u001b[0m \u001b[39mdef\u001b[39;00m \u001b[39m__init__\u001b[39m(\u001b[39mself\u001b[39m, \u001b[39m*\u001b[39margs, \u001b[39m*\u001b[39m\u001b[39m*\u001b[39mkwargs):\n\u001b[1;32m--> 822\u001b[0m     \u001b[39mraise\u001b[39;00m \u001b[39mNotImplementedError\u001b[39;00m(\n\u001b[0;32m    823\u001b[0m         \u001b[39m\"\u001b[39m\u001b[39mAR has been removed from statsmodels and replaced with \u001b[39m\u001b[39m\"\u001b[39m\n\u001b[0;32m    824\u001b[0m         \u001b[39m\"\u001b[39m\u001b[39mstatsmodels.tsa.ar_model.AutoReg.\u001b[39m\u001b[39m\"\u001b[39m\n\u001b[0;32m    825\u001b[0m     )\n",
            "\u001b[1;31mNotImplementedError\u001b[0m: AR has been removed from statsmodels and replaced with statsmodels.tsa.ar_model.AutoReg."
          ]
        }
      ],
      "source": [
        "# settings for feature extraction\n",
        "from tsfresh.feature_extraction import ComprehensiveFCParameters\n",
        "settings = ComprehensiveFCParameters()\n",
        "# e.g. \n",
        "kind_to_fc_parameters = {\n",
        "    \"Open\": {\"mean\": None},\n",
        "    \"Close\": {\"maximum\": None, \"minimum\": None}\n",
        "}\n",
        "\n",
        "# automated feature extraction\n",
        "from tsfresh.feature_extraction import extract_features\n",
        "features = extract_features(dataZ, column_id=\"Date\", column_sort=\"Date\", default_fc_parameters=settings)\n",
        "\n",
        "#features = extract_features(dataZ, column_id=\"Date\", column_sort=\"Date\")"
      ]
    },
    {
      "cell_type": "code",
      "execution_count": null,
      "metadata": {
        "colab": {
          "base_uri": "https://localhost:8080/"
        },
        "id": "GPfoVpwhqEoM",
        "outputId": "fa556bd6-1d28-4006-f5e1-ea783a9c60c5"
      },
      "outputs": [
        {
          "name": "stdout",
          "output_type": "stream",
          "text": [
            "<class 'pandas.core.frame.DataFrame'>\n",
            "DatetimeIndex: 3524 entries, 2009-04-06 to 2023-04-04\n",
            "Columns: 6264 entries, Open__variance_larger_than_standard_deviation to day__mean_n_absolute_max__number_of_maxima_7\n",
            "dtypes: float64(6264)\n",
            "memory usage: 168.4 MB\n"
          ]
        }
      ],
      "source": [
        "features.info()"
      ]
    },
    {
      "cell_type": "code",
      "execution_count": null,
      "metadata": {
        "colab": {
          "base_uri": "https://localhost:8080/",
          "height": 386
        },
        "id": "yyCOIVS5DEPw",
        "outputId": "547fa4b2-6d5c-4087-d109-877ee57f9ab5"
      },
      "outputs": [
        {
          "data": {
            "text/html": [
              "\n",
              "  <div id=\"df-d58a1759-d5d0-4be9-a109-24e18d5f9113\">\n",
              "    <div class=\"colab-df-container\">\n",
              "      <div>\n",
              "<style scoped>\n",
              "    .dataframe tbody tr th:only-of-type {\n",
              "        vertical-align: middle;\n",
              "    }\n",
              "\n",
              "    .dataframe tbody tr th {\n",
              "        vertical-align: top;\n",
              "    }\n",
              "\n",
              "    .dataframe thead th {\n",
              "        text-align: right;\n",
              "    }\n",
              "</style>\n",
              "<table border=\"1\" class=\"dataframe\">\n",
              "  <thead>\n",
              "    <tr style=\"text-align: right;\">\n",
              "      <th></th>\n",
              "      <th>Open__variance_larger_than_standard_deviation</th>\n",
              "      <th>Open__has_duplicate_max</th>\n",
              "      <th>Open__has_duplicate_min</th>\n",
              "      <th>Open__has_duplicate</th>\n",
              "      <th>Open__sum_values</th>\n",
              "      <th>Open__abs_energy</th>\n",
              "      <th>Open__mean_abs_change</th>\n",
              "      <th>Open__mean_change</th>\n",
              "      <th>Open__mean_second_derivative_central</th>\n",
              "      <th>Open__median</th>\n",
              "      <th>...</th>\n",
              "      <th>day__fourier_entropy__bins_5</th>\n",
              "      <th>day__fourier_entropy__bins_10</th>\n",
              "      <th>day__fourier_entropy__bins_100</th>\n",
              "      <th>day__permutation_entropy__dimension_3__tau_1</th>\n",
              "      <th>day__permutation_entropy__dimension_4__tau_1</th>\n",
              "      <th>day__permutation_entropy__dimension_5__tau_1</th>\n",
              "      <th>day__permutation_entropy__dimension_6__tau_1</th>\n",
              "      <th>day__permutation_entropy__dimension_7__tau_1</th>\n",
              "      <th>day__query_similarity_count__query_None__threshold_0.0</th>\n",
              "      <th>day__mean_n_absolute_max__number_of_maxima_7</th>\n",
              "    </tr>\n",
              "  </thead>\n",
              "  <tbody>\n",
              "    <tr>\n",
              "      <th>2009-04-06</th>\n",
              "      <td>0.0</td>\n",
              "      <td>0.0</td>\n",
              "      <td>0.0</td>\n",
              "      <td>0.0</td>\n",
              "      <td>29.658203</td>\n",
              "      <td>879.609005</td>\n",
              "      <td>NaN</td>\n",
              "      <td>NaN</td>\n",
              "      <td>NaN</td>\n",
              "      <td>29.658203</td>\n",
              "      <td>...</td>\n",
              "      <td>NaN</td>\n",
              "      <td>NaN</td>\n",
              "      <td>NaN</td>\n",
              "      <td>NaN</td>\n",
              "      <td>NaN</td>\n",
              "      <td>NaN</td>\n",
              "      <td>NaN</td>\n",
              "      <td>NaN</td>\n",
              "      <td>NaN</td>\n",
              "      <td>NaN</td>\n",
              "    </tr>\n",
              "    <tr>\n",
              "      <th>2009-04-07</th>\n",
              "      <td>0.0</td>\n",
              "      <td>0.0</td>\n",
              "      <td>0.0</td>\n",
              "      <td>0.0</td>\n",
              "      <td>29.482422</td>\n",
              "      <td>869.213207</td>\n",
              "      <td>NaN</td>\n",
              "      <td>NaN</td>\n",
              "      <td>NaN</td>\n",
              "      <td>29.482422</td>\n",
              "      <td>...</td>\n",
              "      <td>NaN</td>\n",
              "      <td>NaN</td>\n",
              "      <td>NaN</td>\n",
              "      <td>NaN</td>\n",
              "      <td>NaN</td>\n",
              "      <td>NaN</td>\n",
              "      <td>NaN</td>\n",
              "      <td>NaN</td>\n",
              "      <td>NaN</td>\n",
              "      <td>NaN</td>\n",
              "    </tr>\n",
              "    <tr>\n",
              "      <th>2009-04-08</th>\n",
              "      <td>0.0</td>\n",
              "      <td>0.0</td>\n",
              "      <td>0.0</td>\n",
              "      <td>0.0</td>\n",
              "      <td>30.361328</td>\n",
              "      <td>921.810238</td>\n",
              "      <td>NaN</td>\n",
              "      <td>NaN</td>\n",
              "      <td>NaN</td>\n",
              "      <td>30.361328</td>\n",
              "      <td>...</td>\n",
              "      <td>NaN</td>\n",
              "      <td>NaN</td>\n",
              "      <td>NaN</td>\n",
              "      <td>NaN</td>\n",
              "      <td>NaN</td>\n",
              "      <td>NaN</td>\n",
              "      <td>NaN</td>\n",
              "      <td>NaN</td>\n",
              "      <td>NaN</td>\n",
              "      <td>NaN</td>\n",
              "    </tr>\n",
              "    <tr>\n",
              "      <th>2009-04-09</th>\n",
              "      <td>0.0</td>\n",
              "      <td>0.0</td>\n",
              "      <td>0.0</td>\n",
              "      <td>0.0</td>\n",
              "      <td>31.240234</td>\n",
              "      <td>975.952220</td>\n",
              "      <td>NaN</td>\n",
              "      <td>NaN</td>\n",
              "      <td>NaN</td>\n",
              "      <td>31.240234</td>\n",
              "      <td>...</td>\n",
              "      <td>NaN</td>\n",
              "      <td>NaN</td>\n",
              "      <td>NaN</td>\n",
              "      <td>NaN</td>\n",
              "      <td>NaN</td>\n",
              "      <td>NaN</td>\n",
              "      <td>NaN</td>\n",
              "      <td>NaN</td>\n",
              "      <td>NaN</td>\n",
              "      <td>NaN</td>\n",
              "    </tr>\n",
              "    <tr>\n",
              "      <th>2009-04-13</th>\n",
              "      <td>0.0</td>\n",
              "      <td>0.0</td>\n",
              "      <td>0.0</td>\n",
              "      <td>0.0</td>\n",
              "      <td>32.470703</td>\n",
              "      <td>1054.346553</td>\n",
              "      <td>NaN</td>\n",
              "      <td>NaN</td>\n",
              "      <td>NaN</td>\n",
              "      <td>32.470703</td>\n",
              "      <td>...</td>\n",
              "      <td>NaN</td>\n",
              "      <td>NaN</td>\n",
              "      <td>NaN</td>\n",
              "      <td>NaN</td>\n",
              "      <td>NaN</td>\n",
              "      <td>NaN</td>\n",
              "      <td>NaN</td>\n",
              "      <td>NaN</td>\n",
              "      <td>NaN</td>\n",
              "      <td>NaN</td>\n",
              "    </tr>\n",
              "  </tbody>\n",
              "</table>\n",
              "<p>5 rows × 6264 columns</p>\n",
              "</div>\n",
              "      <button class=\"colab-df-convert\" onclick=\"convertToInteractive('df-d58a1759-d5d0-4be9-a109-24e18d5f9113')\"\n",
              "              title=\"Convert this dataframe to an interactive table.\"\n",
              "              style=\"display:none;\">\n",
              "        \n",
              "  <svg xmlns=\"http://www.w3.org/2000/svg\" height=\"24px\"viewBox=\"0 0 24 24\"\n",
              "       width=\"24px\">\n",
              "    <path d=\"M0 0h24v24H0V0z\" fill=\"none\"/>\n",
              "    <path d=\"M18.56 5.44l.94 2.06.94-2.06 2.06-.94-2.06-.94-.94-2.06-.94 2.06-2.06.94zm-11 1L8.5 8.5l.94-2.06 2.06-.94-2.06-.94L8.5 2.5l-.94 2.06-2.06.94zm10 10l.94 2.06.94-2.06 2.06-.94-2.06-.94-.94-2.06-.94 2.06-2.06.94z\"/><path d=\"M17.41 7.96l-1.37-1.37c-.4-.4-.92-.59-1.43-.59-.52 0-1.04.2-1.43.59L10.3 9.45l-7.72 7.72c-.78.78-.78 2.05 0 2.83L4 21.41c.39.39.9.59 1.41.59.51 0 1.02-.2 1.41-.59l7.78-7.78 2.81-2.81c.8-.78.8-2.07 0-2.86zM5.41 20L4 18.59l7.72-7.72 1.47 1.35L5.41 20z\"/>\n",
              "  </svg>\n",
              "      </button>\n",
              "      \n",
              "  <style>\n",
              "    .colab-df-container {\n",
              "      display:flex;\n",
              "      flex-wrap:wrap;\n",
              "      gap: 12px;\n",
              "    }\n",
              "\n",
              "    .colab-df-convert {\n",
              "      background-color: #E8F0FE;\n",
              "      border: none;\n",
              "      border-radius: 50%;\n",
              "      cursor: pointer;\n",
              "      display: none;\n",
              "      fill: #1967D2;\n",
              "      height: 32px;\n",
              "      padding: 0 0 0 0;\n",
              "      width: 32px;\n",
              "    }\n",
              "\n",
              "    .colab-df-convert:hover {\n",
              "      background-color: #E2EBFA;\n",
              "      box-shadow: 0px 1px 2px rgba(60, 64, 67, 0.3), 0px 1px 3px 1px rgba(60, 64, 67, 0.15);\n",
              "      fill: #174EA6;\n",
              "    }\n",
              "\n",
              "    [theme=dark] .colab-df-convert {\n",
              "      background-color: #3B4455;\n",
              "      fill: #D2E3FC;\n",
              "    }\n",
              "\n",
              "    [theme=dark] .colab-df-convert:hover {\n",
              "      background-color: #434B5C;\n",
              "      box-shadow: 0px 1px 3px 1px rgba(0, 0, 0, 0.15);\n",
              "      filter: drop-shadow(0px 1px 2px rgba(0, 0, 0, 0.3));\n",
              "      fill: #FFFFFF;\n",
              "    }\n",
              "  </style>\n",
              "\n",
              "      <script>\n",
              "        const buttonEl =\n",
              "          document.querySelector('#df-d58a1759-d5d0-4be9-a109-24e18d5f9113 button.colab-df-convert');\n",
              "        buttonEl.style.display =\n",
              "          google.colab.kernel.accessAllowed ? 'block' : 'none';\n",
              "\n",
              "        async function convertToInteractive(key) {\n",
              "          const element = document.querySelector('#df-d58a1759-d5d0-4be9-a109-24e18d5f9113');\n",
              "          const dataTable =\n",
              "            await google.colab.kernel.invokeFunction('convertToInteractive',\n",
              "                                                     [key], {});\n",
              "          if (!dataTable) return;\n",
              "\n",
              "          const docLinkHtml = 'Like what you see? Visit the ' +\n",
              "            '<a target=\"_blank\" href=https://colab.research.google.com/notebooks/data_table.ipynb>data table notebook</a>'\n",
              "            + ' to learn more about interactive tables.';\n",
              "          element.innerHTML = '';\n",
              "          dataTable['output_type'] = 'display_data';\n",
              "          await google.colab.output.renderOutput(dataTable, element);\n",
              "          const docLink = document.createElement('div');\n",
              "          docLink.innerHTML = docLinkHtml;\n",
              "          element.appendChild(docLink);\n",
              "        }\n",
              "      </script>\n",
              "    </div>\n",
              "  </div>\n",
              "  "
            ],
            "text/plain": [
              "            Open__variance_larger_than_standard_deviation  \\\n",
              "2009-04-06                                            0.0   \n",
              "2009-04-07                                            0.0   \n",
              "2009-04-08                                            0.0   \n",
              "2009-04-09                                            0.0   \n",
              "2009-04-13                                            0.0   \n",
              "\n",
              "            Open__has_duplicate_max  Open__has_duplicate_min  \\\n",
              "2009-04-06                      0.0                      0.0   \n",
              "2009-04-07                      0.0                      0.0   \n",
              "2009-04-08                      0.0                      0.0   \n",
              "2009-04-09                      0.0                      0.0   \n",
              "2009-04-13                      0.0                      0.0   \n",
              "\n",
              "            Open__has_duplicate  Open__sum_values  Open__abs_energy  \\\n",
              "2009-04-06                  0.0         29.658203        879.609005   \n",
              "2009-04-07                  0.0         29.482422        869.213207   \n",
              "2009-04-08                  0.0         30.361328        921.810238   \n",
              "2009-04-09                  0.0         31.240234        975.952220   \n",
              "2009-04-13                  0.0         32.470703       1054.346553   \n",
              "\n",
              "            Open__mean_abs_change  Open__mean_change  \\\n",
              "2009-04-06                    NaN                NaN   \n",
              "2009-04-07                    NaN                NaN   \n",
              "2009-04-08                    NaN                NaN   \n",
              "2009-04-09                    NaN                NaN   \n",
              "2009-04-13                    NaN                NaN   \n",
              "\n",
              "            Open__mean_second_derivative_central  Open__median  ...  \\\n",
              "2009-04-06                                   NaN     29.658203  ...   \n",
              "2009-04-07                                   NaN     29.482422  ...   \n",
              "2009-04-08                                   NaN     30.361328  ...   \n",
              "2009-04-09                                   NaN     31.240234  ...   \n",
              "2009-04-13                                   NaN     32.470703  ...   \n",
              "\n",
              "            day__fourier_entropy__bins_5  day__fourier_entropy__bins_10  \\\n",
              "2009-04-06                           NaN                            NaN   \n",
              "2009-04-07                           NaN                            NaN   \n",
              "2009-04-08                           NaN                            NaN   \n",
              "2009-04-09                           NaN                            NaN   \n",
              "2009-04-13                           NaN                            NaN   \n",
              "\n",
              "            day__fourier_entropy__bins_100  \\\n",
              "2009-04-06                             NaN   \n",
              "2009-04-07                             NaN   \n",
              "2009-04-08                             NaN   \n",
              "2009-04-09                             NaN   \n",
              "2009-04-13                             NaN   \n",
              "\n",
              "            day__permutation_entropy__dimension_3__tau_1  \\\n",
              "2009-04-06                                           NaN   \n",
              "2009-04-07                                           NaN   \n",
              "2009-04-08                                           NaN   \n",
              "2009-04-09                                           NaN   \n",
              "2009-04-13                                           NaN   \n",
              "\n",
              "            day__permutation_entropy__dimension_4__tau_1  \\\n",
              "2009-04-06                                           NaN   \n",
              "2009-04-07                                           NaN   \n",
              "2009-04-08                                           NaN   \n",
              "2009-04-09                                           NaN   \n",
              "2009-04-13                                           NaN   \n",
              "\n",
              "            day__permutation_entropy__dimension_5__tau_1  \\\n",
              "2009-04-06                                           NaN   \n",
              "2009-04-07                                           NaN   \n",
              "2009-04-08                                           NaN   \n",
              "2009-04-09                                           NaN   \n",
              "2009-04-13                                           NaN   \n",
              "\n",
              "            day__permutation_entropy__dimension_6__tau_1  \\\n",
              "2009-04-06                                           NaN   \n",
              "2009-04-07                                           NaN   \n",
              "2009-04-08                                           NaN   \n",
              "2009-04-09                                           NaN   \n",
              "2009-04-13                                           NaN   \n",
              "\n",
              "            day__permutation_entropy__dimension_7__tau_1  \\\n",
              "2009-04-06                                           NaN   \n",
              "2009-04-07                                           NaN   \n",
              "2009-04-08                                           NaN   \n",
              "2009-04-09                                           NaN   \n",
              "2009-04-13                                           NaN   \n",
              "\n",
              "            day__query_similarity_count__query_None__threshold_0.0  \\\n",
              "2009-04-06                                                NaN        \n",
              "2009-04-07                                                NaN        \n",
              "2009-04-08                                                NaN        \n",
              "2009-04-09                                                NaN        \n",
              "2009-04-13                                                NaN        \n",
              "\n",
              "            day__mean_n_absolute_max__number_of_maxima_7  \n",
              "2009-04-06                                           NaN  \n",
              "2009-04-07                                           NaN  \n",
              "2009-04-08                                           NaN  \n",
              "2009-04-09                                           NaN  \n",
              "2009-04-13                                           NaN  \n",
              "\n",
              "[5 rows x 6264 columns]"
            ]
          },
          "execution_count": 59,
          "metadata": {},
          "output_type": "execute_result"
        }
      ],
      "source": [
        "features.head()"
      ]
    },
    {
      "cell_type": "code",
      "execution_count": null,
      "metadata": {
        "colab": {
          "base_uri": "https://localhost:8080/",
          "height": 393
        },
        "id": "94zxCUFm7dCT",
        "outputId": "1e1bf7f7-85fc-49aa-c7cd-6e4cec8303b9"
      },
      "outputs": [
        {
          "data": {
            "text/html": [
              "\n",
              "  <div id=\"df-9536c170-c8cc-490e-9ecc-4f0553244a8d\">\n",
              "    <div class=\"colab-df-container\">\n",
              "      <div>\n",
              "<style scoped>\n",
              "    .dataframe tbody tr th:only-of-type {\n",
              "        vertical-align: middle;\n",
              "    }\n",
              "\n",
              "    .dataframe tbody tr th {\n",
              "        vertical-align: top;\n",
              "    }\n",
              "\n",
              "    .dataframe thead th {\n",
              "        text-align: right;\n",
              "    }\n",
              "</style>\n",
              "<table border=\"1\" class=\"dataframe\">\n",
              "  <thead>\n",
              "    <tr style=\"text-align: right;\">\n",
              "      <th></th>\n",
              "      <th>Open__variance_larger_than_standard_deviation</th>\n",
              "      <th>Open__has_duplicate_max</th>\n",
              "      <th>Open__has_duplicate_min</th>\n",
              "      <th>Open__has_duplicate</th>\n",
              "      <th>Open__sum_values</th>\n",
              "      <th>Open__abs_energy</th>\n",
              "      <th>Open__mean_abs_change</th>\n",
              "      <th>Open__mean_change</th>\n",
              "      <th>Open__mean_second_derivative_central</th>\n",
              "      <th>Open__median</th>\n",
              "      <th>...</th>\n",
              "      <th>day__fourier_entropy__bins_5</th>\n",
              "      <th>day__fourier_entropy__bins_10</th>\n",
              "      <th>day__fourier_entropy__bins_100</th>\n",
              "      <th>day__permutation_entropy__dimension_3__tau_1</th>\n",
              "      <th>day__permutation_entropy__dimension_4__tau_1</th>\n",
              "      <th>day__permutation_entropy__dimension_5__tau_1</th>\n",
              "      <th>day__permutation_entropy__dimension_6__tau_1</th>\n",
              "      <th>day__permutation_entropy__dimension_7__tau_1</th>\n",
              "      <th>day__query_similarity_count__query_None__threshold_0.0</th>\n",
              "      <th>day__mean_n_absolute_max__number_of_maxima_7</th>\n",
              "    </tr>\n",
              "  </thead>\n",
              "  <tbody>\n",
              "    <tr>\n",
              "      <th>count</th>\n",
              "      <td>3524.0</td>\n",
              "      <td>3524.0</td>\n",
              "      <td>3524.0</td>\n",
              "      <td>3524.0</td>\n",
              "      <td>3524.000000</td>\n",
              "      <td>3524.000000</td>\n",
              "      <td>0.0</td>\n",
              "      <td>0.0</td>\n",
              "      <td>0.0</td>\n",
              "      <td>3524.000000</td>\n",
              "      <td>...</td>\n",
              "      <td>0.0</td>\n",
              "      <td>0.0</td>\n",
              "      <td>0.0</td>\n",
              "      <td>0.0</td>\n",
              "      <td>0.0</td>\n",
              "      <td>0.0</td>\n",
              "      <td>0.0</td>\n",
              "      <td>0.0</td>\n",
              "      <td>0.0</td>\n",
              "      <td>0.0</td>\n",
              "    </tr>\n",
              "    <tr>\n",
              "      <th>mean</th>\n",
              "      <td>0.0</td>\n",
              "      <td>0.0</td>\n",
              "      <td>0.0</td>\n",
              "      <td>0.0</td>\n",
              "      <td>21.714721</td>\n",
              "      <td>627.590607</td>\n",
              "      <td>NaN</td>\n",
              "      <td>NaN</td>\n",
              "      <td>NaN</td>\n",
              "      <td>21.714721</td>\n",
              "      <td>...</td>\n",
              "      <td>NaN</td>\n",
              "      <td>NaN</td>\n",
              "      <td>NaN</td>\n",
              "      <td>NaN</td>\n",
              "      <td>NaN</td>\n",
              "      <td>NaN</td>\n",
              "      <td>NaN</td>\n",
              "      <td>NaN</td>\n",
              "      <td>NaN</td>\n",
              "      <td>NaN</td>\n",
              "    </tr>\n",
              "    <tr>\n",
              "      <th>std</th>\n",
              "      <td>0.0</td>\n",
              "      <td>0.0</td>\n",
              "      <td>0.0</td>\n",
              "      <td>0.0</td>\n",
              "      <td>12.494230</td>\n",
              "      <td>682.723288</td>\n",
              "      <td>NaN</td>\n",
              "      <td>NaN</td>\n",
              "      <td>NaN</td>\n",
              "      <td>12.494230</td>\n",
              "      <td>...</td>\n",
              "      <td>NaN</td>\n",
              "      <td>NaN</td>\n",
              "      <td>NaN</td>\n",
              "      <td>NaN</td>\n",
              "      <td>NaN</td>\n",
              "      <td>NaN</td>\n",
              "      <td>NaN</td>\n",
              "      <td>NaN</td>\n",
              "      <td>NaN</td>\n",
              "      <td>NaN</td>\n",
              "    </tr>\n",
              "    <tr>\n",
              "      <th>min</th>\n",
              "      <td>0.0</td>\n",
              "      <td>0.0</td>\n",
              "      <td>0.0</td>\n",
              "      <td>0.0</td>\n",
              "      <td>0.820000</td>\n",
              "      <td>0.672400</td>\n",
              "      <td>NaN</td>\n",
              "      <td>NaN</td>\n",
              "      <td>NaN</td>\n",
              "      <td>0.820000</td>\n",
              "      <td>...</td>\n",
              "      <td>NaN</td>\n",
              "      <td>NaN</td>\n",
              "      <td>NaN</td>\n",
              "      <td>NaN</td>\n",
              "      <td>NaN</td>\n",
              "      <td>NaN</td>\n",
              "      <td>NaN</td>\n",
              "      <td>NaN</td>\n",
              "      <td>NaN</td>\n",
              "      <td>NaN</td>\n",
              "    </tr>\n",
              "    <tr>\n",
              "      <th>25%</th>\n",
              "      <td>0.0</td>\n",
              "      <td>0.0</td>\n",
              "      <td>0.0</td>\n",
              "      <td>0.0</td>\n",
              "      <td>12.090000</td>\n",
              "      <td>146.168100</td>\n",
              "      <td>NaN</td>\n",
              "      <td>NaN</td>\n",
              "      <td>NaN</td>\n",
              "      <td>12.090000</td>\n",
              "      <td>...</td>\n",
              "      <td>NaN</td>\n",
              "      <td>NaN</td>\n",
              "      <td>NaN</td>\n",
              "      <td>NaN</td>\n",
              "      <td>NaN</td>\n",
              "      <td>NaN</td>\n",
              "      <td>NaN</td>\n",
              "      <td>NaN</td>\n",
              "      <td>NaN</td>\n",
              "      <td>NaN</td>\n",
              "    </tr>\n",
              "    <tr>\n",
              "      <th>50%</th>\n",
              "      <td>0.0</td>\n",
              "      <td>0.0</td>\n",
              "      <td>0.0</td>\n",
              "      <td>0.0</td>\n",
              "      <td>17.231445</td>\n",
              "      <td>296.922738</td>\n",
              "      <td>NaN</td>\n",
              "      <td>NaN</td>\n",
              "      <td>NaN</td>\n",
              "      <td>17.231445</td>\n",
              "      <td>...</td>\n",
              "      <td>NaN</td>\n",
              "      <td>NaN</td>\n",
              "      <td>NaN</td>\n",
              "      <td>NaN</td>\n",
              "      <td>NaN</td>\n",
              "      <td>NaN</td>\n",
              "      <td>NaN</td>\n",
              "      <td>NaN</td>\n",
              "      <td>NaN</td>\n",
              "      <td>NaN</td>\n",
              "    </tr>\n",
              "    <tr>\n",
              "      <th>75%</th>\n",
              "      <td>0.0</td>\n",
              "      <td>0.0</td>\n",
              "      <td>0.0</td>\n",
              "      <td>0.0</td>\n",
              "      <td>28.840000</td>\n",
              "      <td>831.745600</td>\n",
              "      <td>NaN</td>\n",
              "      <td>NaN</td>\n",
              "      <td>NaN</td>\n",
              "      <td>28.840000</td>\n",
              "      <td>...</td>\n",
              "      <td>NaN</td>\n",
              "      <td>NaN</td>\n",
              "      <td>NaN</td>\n",
              "      <td>NaN</td>\n",
              "      <td>NaN</td>\n",
              "      <td>NaN</td>\n",
              "      <td>NaN</td>\n",
              "      <td>NaN</td>\n",
              "      <td>NaN</td>\n",
              "      <td>NaN</td>\n",
              "    </tr>\n",
              "    <tr>\n",
              "      <th>max</th>\n",
              "      <td>0.0</td>\n",
              "      <td>0.0</td>\n",
              "      <td>0.0</td>\n",
              "      <td>0.0</td>\n",
              "      <td>58.300781</td>\n",
              "      <td>3398.981065</td>\n",
              "      <td>NaN</td>\n",
              "      <td>NaN</td>\n",
              "      <td>NaN</td>\n",
              "      <td>58.300781</td>\n",
              "      <td>...</td>\n",
              "      <td>NaN</td>\n",
              "      <td>NaN</td>\n",
              "      <td>NaN</td>\n",
              "      <td>NaN</td>\n",
              "      <td>NaN</td>\n",
              "      <td>NaN</td>\n",
              "      <td>NaN</td>\n",
              "      <td>NaN</td>\n",
              "      <td>NaN</td>\n",
              "      <td>NaN</td>\n",
              "    </tr>\n",
              "  </tbody>\n",
              "</table>\n",
              "<p>8 rows × 6264 columns</p>\n",
              "</div>\n",
              "      <button class=\"colab-df-convert\" onclick=\"convertToInteractive('df-9536c170-c8cc-490e-9ecc-4f0553244a8d')\"\n",
              "              title=\"Convert this dataframe to an interactive table.\"\n",
              "              style=\"display:none;\">\n",
              "        \n",
              "  <svg xmlns=\"http://www.w3.org/2000/svg\" height=\"24px\"viewBox=\"0 0 24 24\"\n",
              "       width=\"24px\">\n",
              "    <path d=\"M0 0h24v24H0V0z\" fill=\"none\"/>\n",
              "    <path d=\"M18.56 5.44l.94 2.06.94-2.06 2.06-.94-2.06-.94-.94-2.06-.94 2.06-2.06.94zm-11 1L8.5 8.5l.94-2.06 2.06-.94-2.06-.94L8.5 2.5l-.94 2.06-2.06.94zm10 10l.94 2.06.94-2.06 2.06-.94-2.06-.94-.94-2.06-.94 2.06-2.06.94z\"/><path d=\"M17.41 7.96l-1.37-1.37c-.4-.4-.92-.59-1.43-.59-.52 0-1.04.2-1.43.59L10.3 9.45l-7.72 7.72c-.78.78-.78 2.05 0 2.83L4 21.41c.39.39.9.59 1.41.59.51 0 1.02-.2 1.41-.59l7.78-7.78 2.81-2.81c.8-.78.8-2.07 0-2.86zM5.41 20L4 18.59l7.72-7.72 1.47 1.35L5.41 20z\"/>\n",
              "  </svg>\n",
              "      </button>\n",
              "      \n",
              "  <style>\n",
              "    .colab-df-container {\n",
              "      display:flex;\n",
              "      flex-wrap:wrap;\n",
              "      gap: 12px;\n",
              "    }\n",
              "\n",
              "    .colab-df-convert {\n",
              "      background-color: #E8F0FE;\n",
              "      border: none;\n",
              "      border-radius: 50%;\n",
              "      cursor: pointer;\n",
              "      display: none;\n",
              "      fill: #1967D2;\n",
              "      height: 32px;\n",
              "      padding: 0 0 0 0;\n",
              "      width: 32px;\n",
              "    }\n",
              "\n",
              "    .colab-df-convert:hover {\n",
              "      background-color: #E2EBFA;\n",
              "      box-shadow: 0px 1px 2px rgba(60, 64, 67, 0.3), 0px 1px 3px 1px rgba(60, 64, 67, 0.15);\n",
              "      fill: #174EA6;\n",
              "    }\n",
              "\n",
              "    [theme=dark] .colab-df-convert {\n",
              "      background-color: #3B4455;\n",
              "      fill: #D2E3FC;\n",
              "    }\n",
              "\n",
              "    [theme=dark] .colab-df-convert:hover {\n",
              "      background-color: #434B5C;\n",
              "      box-shadow: 0px 1px 3px 1px rgba(0, 0, 0, 0.15);\n",
              "      filter: drop-shadow(0px 1px 2px rgba(0, 0, 0, 0.3));\n",
              "      fill: #FFFFFF;\n",
              "    }\n",
              "  </style>\n",
              "\n",
              "      <script>\n",
              "        const buttonEl =\n",
              "          document.querySelector('#df-9536c170-c8cc-490e-9ecc-4f0553244a8d button.colab-df-convert');\n",
              "        buttonEl.style.display =\n",
              "          google.colab.kernel.accessAllowed ? 'block' : 'none';\n",
              "\n",
              "        async function convertToInteractive(key) {\n",
              "          const element = document.querySelector('#df-9536c170-c8cc-490e-9ecc-4f0553244a8d');\n",
              "          const dataTable =\n",
              "            await google.colab.kernel.invokeFunction('convertToInteractive',\n",
              "                                                     [key], {});\n",
              "          if (!dataTable) return;\n",
              "\n",
              "          const docLinkHtml = 'Like what you see? Visit the ' +\n",
              "            '<a target=\"_blank\" href=https://colab.research.google.com/notebooks/data_table.ipynb>data table notebook</a>'\n",
              "            + ' to learn more about interactive tables.';\n",
              "          element.innerHTML = '';\n",
              "          dataTable['output_type'] = 'display_data';\n",
              "          await google.colab.output.renderOutput(dataTable, element);\n",
              "          const docLink = document.createElement('div');\n",
              "          docLink.innerHTML = docLinkHtml;\n",
              "          element.appendChild(docLink);\n",
              "        }\n",
              "      </script>\n",
              "    </div>\n",
              "  </div>\n",
              "  "
            ],
            "text/plain": [
              "       Open__variance_larger_than_standard_deviation  Open__has_duplicate_max  \\\n",
              "count                                         3524.0                   3524.0   \n",
              "mean                                             0.0                      0.0   \n",
              "std                                              0.0                      0.0   \n",
              "min                                              0.0                      0.0   \n",
              "25%                                              0.0                      0.0   \n",
              "50%                                              0.0                      0.0   \n",
              "75%                                              0.0                      0.0   \n",
              "max                                              0.0                      0.0   \n",
              "\n",
              "       Open__has_duplicate_min  Open__has_duplicate  Open__sum_values  \\\n",
              "count                   3524.0               3524.0       3524.000000   \n",
              "mean                       0.0                  0.0         21.714721   \n",
              "std                        0.0                  0.0         12.494230   \n",
              "min                        0.0                  0.0          0.820000   \n",
              "25%                        0.0                  0.0         12.090000   \n",
              "50%                        0.0                  0.0         17.231445   \n",
              "75%                        0.0                  0.0         28.840000   \n",
              "max                        0.0                  0.0         58.300781   \n",
              "\n",
              "       Open__abs_energy  Open__mean_abs_change  Open__mean_change  \\\n",
              "count       3524.000000                    0.0                0.0   \n",
              "mean         627.590607                    NaN                NaN   \n",
              "std          682.723288                    NaN                NaN   \n",
              "min            0.672400                    NaN                NaN   \n",
              "25%          146.168100                    NaN                NaN   \n",
              "50%          296.922738                    NaN                NaN   \n",
              "75%          831.745600                    NaN                NaN   \n",
              "max         3398.981065                    NaN                NaN   \n",
              "\n",
              "       Open__mean_second_derivative_central  Open__median  ...  \\\n",
              "count                                   0.0   3524.000000  ...   \n",
              "mean                                    NaN     21.714721  ...   \n",
              "std                                     NaN     12.494230  ...   \n",
              "min                                     NaN      0.820000  ...   \n",
              "25%                                     NaN     12.090000  ...   \n",
              "50%                                     NaN     17.231445  ...   \n",
              "75%                                     NaN     28.840000  ...   \n",
              "max                                     NaN     58.300781  ...   \n",
              "\n",
              "       day__fourier_entropy__bins_5  day__fourier_entropy__bins_10  \\\n",
              "count                           0.0                            0.0   \n",
              "mean                            NaN                            NaN   \n",
              "std                             NaN                            NaN   \n",
              "min                             NaN                            NaN   \n",
              "25%                             NaN                            NaN   \n",
              "50%                             NaN                            NaN   \n",
              "75%                             NaN                            NaN   \n",
              "max                             NaN                            NaN   \n",
              "\n",
              "       day__fourier_entropy__bins_100  \\\n",
              "count                             0.0   \n",
              "mean                              NaN   \n",
              "std                               NaN   \n",
              "min                               NaN   \n",
              "25%                               NaN   \n",
              "50%                               NaN   \n",
              "75%                               NaN   \n",
              "max                               NaN   \n",
              "\n",
              "       day__permutation_entropy__dimension_3__tau_1  \\\n",
              "count                                           0.0   \n",
              "mean                                            NaN   \n",
              "std                                             NaN   \n",
              "min                                             NaN   \n",
              "25%                                             NaN   \n",
              "50%                                             NaN   \n",
              "75%                                             NaN   \n",
              "max                                             NaN   \n",
              "\n",
              "       day__permutation_entropy__dimension_4__tau_1  \\\n",
              "count                                           0.0   \n",
              "mean                                            NaN   \n",
              "std                                             NaN   \n",
              "min                                             NaN   \n",
              "25%                                             NaN   \n",
              "50%                                             NaN   \n",
              "75%                                             NaN   \n",
              "max                                             NaN   \n",
              "\n",
              "       day__permutation_entropy__dimension_5__tau_1  \\\n",
              "count                                           0.0   \n",
              "mean                                            NaN   \n",
              "std                                             NaN   \n",
              "min                                             NaN   \n",
              "25%                                             NaN   \n",
              "50%                                             NaN   \n",
              "75%                                             NaN   \n",
              "max                                             NaN   \n",
              "\n",
              "       day__permutation_entropy__dimension_6__tau_1  \\\n",
              "count                                           0.0   \n",
              "mean                                            NaN   \n",
              "std                                             NaN   \n",
              "min                                             NaN   \n",
              "25%                                             NaN   \n",
              "50%                                             NaN   \n",
              "75%                                             NaN   \n",
              "max                                             NaN   \n",
              "\n",
              "       day__permutation_entropy__dimension_7__tau_1  \\\n",
              "count                                           0.0   \n",
              "mean                                            NaN   \n",
              "std                                             NaN   \n",
              "min                                             NaN   \n",
              "25%                                             NaN   \n",
              "50%                                             NaN   \n",
              "75%                                             NaN   \n",
              "max                                             NaN   \n",
              "\n",
              "       day__query_similarity_count__query_None__threshold_0.0  \\\n",
              "count                                                0.0        \n",
              "mean                                                 NaN        \n",
              "std                                                  NaN        \n",
              "min                                                  NaN        \n",
              "25%                                                  NaN        \n",
              "50%                                                  NaN        \n",
              "75%                                                  NaN        \n",
              "max                                                  NaN        \n",
              "\n",
              "       day__mean_n_absolute_max__number_of_maxima_7  \n",
              "count                                           0.0  \n",
              "mean                                            NaN  \n",
              "std                                             NaN  \n",
              "min                                             NaN  \n",
              "25%                                             NaN  \n",
              "50%                                             NaN  \n",
              "75%                                             NaN  \n",
              "max                                             NaN  \n",
              "\n",
              "[8 rows x 6264 columns]"
            ]
          },
          "execution_count": 60,
          "metadata": {},
          "output_type": "execute_result"
        }
      ],
      "source": [
        "features.describe()"
      ]
    },
    {
      "cell_type": "markdown",
      "metadata": {
        "id": "Ql_MBIxnj4br"
      },
      "source": []
    }
  ],
  "metadata": {
    "colab": {
      "provenance": []
    },
    "kernelspec": {
      "display_name": "Python 3",
      "name": "python3"
    },
    "language_info": {
      "codemirror_mode": {
        "name": "ipython",
        "version": 3
      },
      "file_extension": ".py",
      "mimetype": "text/x-python",
      "name": "python",
      "nbconvert_exporter": "python",
      "pygments_lexer": "ipython3",
      "version": "3.10.11"
    }
  },
  "nbformat": 4,
  "nbformat_minor": 0
}
